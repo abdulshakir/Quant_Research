{
 "cells": [
  {
   "metadata": {
    "ExecuteTime": {
     "end_time": "2025-07-02T18:37:16.556278Z",
     "start_time": "2025-07-02T18:37:16.390767Z"
    }
   },
   "cell_type": "code",
   "source": [
    "import asyncio\n",
    "from ib_insync import *\n",
    "ib = IB()\n",
    "await ib.connectAsync('127.0.0.1', 7497, clientId=9)  # ✅ FIXED"
   ],
   "id": "76f9b631c7a877aa",
   "outputs": [
    {
     "data": {
      "text/plain": [
       "<IB connected to 127.0.0.1:7497 clientId=9>"
      ]
     },
     "execution_count": 21,
     "metadata": {},
     "output_type": "execute_result"
    }
   ],
   "execution_count": 21
  },
  {
   "metadata": {
    "ExecuteTime": {
     "end_time": "2025-07-02T18:37:18.796996Z",
     "start_time": "2025-07-02T18:37:18.791966Z"
    }
   },
   "cell_type": "code",
   "source": [
    "\n",
    "import pandas as pd\n",
    "import os\n",
    "from datetime import datetime, timedelta\n",
    "from dateutil.relativedelta import relativedelta\n",
    "import time\n"
   ],
   "id": "8a147b862e2fa27f",
   "outputs": [],
   "execution_count": 22
  },
  {
   "cell_type": "code",
   "id": "initial_id",
   "metadata": {
    "collapsed": true,
    "ExecuteTime": {
     "end_time": "2025-07-02T18:39:43.283073Z",
     "start_time": "2025-07-02T18:37:32.544468Z"
    }
   },
   "source": [
    "\n",
    "tickers = ['AAPL']\n",
    "num_days = 60\n",
    "num_years =25\n",
    "months_batches = 6\n",
    "output_dir = 'ibkr_1min_data_by_insync/'\n",
    "os.makedirs(output_dir, exist_ok=True)\n",
    "\n",
    "# Async function to fetch data\n",
    "async def fetch_1min_data(ticker, date):\n",
    "    contract = Stock(ticker, 'SMART', 'USD')\n",
    "    bars = await ib.reqHistoricalDataAsync(\n",
    "        contract,\n",
    "        endDateTime=date.strftime(\"%Y%m%d %H:%M:%S\"),\n",
    "        durationStr='1 D',\n",
    "        barSizeSetting='1 min',\n",
    "        whatToShow='TRADES',\n",
    "        useRTH=True,\n",
    "        formatDate=1\n",
    "    )\n",
    "    return util.df(bars)\n",
    "\n",
    "# Wrapper function to run the loop\n",
    "async def fetch_all():\n",
    "    current_date = datetime.now()\n",
    "    for ticker in tickers:\n",
    "        print(f\"Fetching data for {ticker}...\")\n",
    "        all_data = []\n",
    "        for year in range(num_years):\n",
    "            #need to iteration of 60 days batch\n",
    "            for batch in range(months_batches):\n",
    "                start_time = time.perf_counter()\n",
    "                for i in range(num_days) :\n",
    "                    target_date = current_date - relativedelta(years=year) - relativedelta(months=2*batch) -timedelta(days=i)\n",
    "                    try:\n",
    "                        df = await fetch_1min_data(ticker, target_date)\n",
    "                        if not df.empty:\n",
    "                            all_data.append(df)\n",
    "                            print(f\"{ticker} - {target_date.date()} ✅\")\n",
    "                        else:\n",
    "                            print(f\"{ticker} - {target_date.date()} ⛔ No data\")\n",
    "                    except Exception as e:\n",
    "                        print(f\"{ticker} - {target_date.date()} ❌ Error: {e}\")\n",
    "                    await asyncio.sleep(0.6)  # Avoid rate limits\n",
    "                end_time = time.perf_counter()\n",
    "                delta = end_time - start_time\n",
    "                await asyncio.sleep(timedelta(minutes=10)-delta)\n",
    "\n",
    "        if all_data:\n",
    "            final_df = pd.concat(all_data)\n",
    "            final_df.to_csv(f\"{output_dir}{ticker}_1min.csv\", index=False)\n",
    "            print(f\"Saved {ticker} to CSV ✅\")\n",
    "        else:\n",
    "            print(f\"No data collected for {ticker} ❗\")\n",
    "\n",
    "\n",
    "await fetch_all()"
   ],
   "outputs": [
    {
     "name": "stdout",
     "output_type": "stream",
     "text": [
      "Fetching data for AAPL...\n",
      "AAPL - 2023-07-02 ✅\n",
      "AAPL - 2023-07-01 ✅\n",
      "AAPL - 2023-06-30 ✅\n",
      "AAPL - 2023-06-29 ✅\n",
      "AAPL - 2023-06-28 ✅\n",
      "AAPL - 2023-06-27 ✅\n",
      "AAPL - 2023-06-26 ✅\n",
      "AAPL - 2023-06-25 ✅\n",
      "AAPL - 2023-06-24 ✅\n",
      "AAPL - 2023-06-23 ✅\n",
      "AAPL - 2023-06-22 ✅\n",
      "AAPL - 2023-06-21 ✅\n",
      "AAPL - 2023-06-20 ✅\n",
      "AAPL - 2023-06-19 ✅\n",
      "AAPL - 2023-06-18 ✅\n",
      "AAPL - 2023-06-17 ✅\n",
      "AAPL - 2023-06-16 ✅\n",
      "AAPL - 2023-06-15 ✅\n",
      "AAPL - 2023-06-14 ✅\n",
      "AAPL - 2023-06-13 ✅\n",
      "AAPL - 2023-06-12 ✅\n",
      "AAPL - 2023-06-11 ✅\n",
      "AAPL - 2023-06-10 ✅\n",
      "AAPL - 2023-06-09 ✅\n",
      "AAPL - 2023-06-08 ✅\n",
      "AAPL - 2023-06-07 ✅\n",
      "AAPL - 2023-06-06 ✅\n",
      "AAPL - 2023-06-05 ✅\n",
      "AAPL - 2023-06-04 ✅\n",
      "AAPL - 2023-06-03 ✅\n",
      "AAPL - 2023-06-02 ✅\n",
      "AAPL - 2023-06-01 ✅\n",
      "AAPL - 2023-05-31 ✅\n",
      "AAPL - 2023-05-30 ✅\n",
      "AAPL - 2023-05-29 ✅\n",
      "AAPL - 2023-05-28 ✅\n",
      "AAPL - 2023-05-27 ✅\n",
      "AAPL - 2023-05-26 ✅\n",
      "AAPL - 2023-05-25 ✅\n",
      "AAPL - 2023-05-24 ✅\n",
      "AAPL - 2023-05-23 ✅\n",
      "AAPL - 2023-05-22 ✅\n",
      "AAPL - 2023-05-21 ✅\n",
      "AAPL - 2023-05-20 ✅\n",
      "AAPL - 2023-05-19 ✅\n",
      "AAPL - 2023-05-18 ✅\n",
      "AAPL - 2023-05-17 ✅\n",
      "AAPL - 2023-05-16 ✅\n",
      "AAPL - 2023-05-15 ✅\n",
      "AAPL - 2023-05-14 ✅\n",
      "AAPL - 2023-05-13 ✅\n",
      "AAPL - 2023-05-12 ✅\n",
      "AAPL - 2023-05-11 ✅\n",
      "AAPL - 2023-05-10 ✅\n",
      "AAPL - 2023-05-09 ✅\n",
      "AAPL - 2023-05-08 ✅\n",
      "AAPL - 2023-05-07 ✅\n",
      "AAPL - 2023-05-06 ✅\n",
      "AAPL - 2023-05-05 ✅\n",
      "AAPL - 2023-05-04 ✅\n",
      "Saved AAPL to CSV ✅\n"
     ]
    }
   ],
   "execution_count": 23
  },
  {
   "metadata": {
    "ExecuteTime": {
     "end_time": "2025-07-03T14:15:47.754901Z",
     "start_time": "2025-07-03T14:15:47.743890Z"
    }
   },
   "cell_type": "code",
   "source": "ib.disconnect()",
   "id": "528bbca2b600c091",
   "outputs": [],
   "execution_count": 25
  },
  {
   "metadata": {},
   "cell_type": "code",
   "outputs": [],
   "execution_count": null,
   "source": "",
   "id": "6b2787132356aeaa"
  }
 ],
 "metadata": {
  "kernelspec": {
   "display_name": "Python 3",
   "language": "python",
   "name": "python3"
  },
  "language_info": {
   "codemirror_mode": {
    "name": "ipython",
    "version": 2
   },
   "file_extension": ".py",
   "mimetype": "text/x-python",
   "name": "python",
   "nbconvert_exporter": "python",
   "pygments_lexer": "ipython2",
   "version": "2.7.6"
  }
 },
 "nbformat": 4,
 "nbformat_minor": 5
}
