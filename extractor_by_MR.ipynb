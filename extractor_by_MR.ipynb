{
 "cells": [
  {
   "metadata": {
    "ExecuteTime": {
     "end_time": "2025-07-02T01:19:46.865132Z",
     "start_time": "2025-07-02T01:19:45.831351Z"
    }
   },
   "cell_type": "code",
   "source": [
    "import pandas as pd\n",
    "import numpy as np\n",
    "#import yfinance as yf\n",
    "import datetime as datetime\n",
    "#import ta as ta\n",
    "import math\n",
    "#import seaborn as sns\n",
    "#import statsmodels.api as sm\n",
    "#from scipy.stats import norm\n",
    "import warnings\n",
    "warnings.filterwarnings(\"ignore\")\n",
    "import pdb\n",
    "from decimal import Decimal\n",
    "from ibapi.client import *\n",
    "from ibapi.wrapper import *\n",
    "import threading"
   ],
   "id": "32d0b7e95c7c2304",
   "outputs": [],
   "execution_count": 1
  },
  {
   "metadata": {
    "ExecuteTime": {
     "end_time": "2025-07-02T01:20:05.506899Z",
     "start_time": "2025-07-02T01:20:05.503007Z"
    }
   },
   "cell_type": "code",
   "source": [
    "#from ..lib import utils, constants\n",
    "import datetime\n",
    "import time\n",
    "import copy\n",
    "#import signal\n",
    "import sys\n",
    "#import pickle"
   ],
   "id": "fca768beb18722b",
   "outputs": [],
   "execution_count": 2
  },
  {
   "metadata": {
    "ExecuteTime": {
     "end_time": "2025-07-02T01:20:17.500854Z",
     "start_time": "2025-07-02T01:20:17.495535Z"
    }
   },
   "cell_type": "code",
   "source": [
    "\n",
    "\n",
    "#python -m navis.research.getHistoricalData\n",
    "#username: hzpsur161\n",
    "#Flushit!234\n",
    "\n",
    "port = 7497 ## 7496 is live, 7497 is paper trading\n",
    "client_id = 150\n",
    "\n",
    "duration = \"1 M\"\n",
    "bar_size = \"1 min\"\n",
    "\n",
    "#sp500_components = pd.read_csv(\"data/sp500_components.csv\")\n",
    "\n",
    "#pdb.set_trace()"
   ],
   "id": "be91b2a44fdc18b0",
   "outputs": [],
   "execution_count": 3
  },
  {
   "metadata": {
    "ExecuteTime": {
     "end_time": "2025-07-02T01:20:24.800846Z",
     "start_time": "2025-07-02T01:20:24.792079Z"
    }
   },
   "cell_type": "code",
   "source": [
    "\n",
    "class IBApi(EClient, EWrapper):\n",
    "\n",
    "    def __init__(self, ib_client):\n",
    "        EClient.__init__(self, self)\n",
    "        self.ib_client = ib_client\n",
    "        self.reqId = 500\n",
    "\n",
    "    def getReqId(self):\n",
    "        self.reqId += 1\n",
    "        return self.reqId\n",
    "\n",
    "    def historicalData(self, reqId:int, bar: BarData):\n",
    "        print(bar)\n",
    "        try:\n",
    "            date_str = bar.date.split(\" \")[0]\n",
    "            time_str = bar.date.split(\" \")[1].split(\":\")\n",
    "            year_ = int(date_str[0:4])\n",
    "            month_ = int(date_str[4:6])\n",
    "            day_ = int(date_str[6:8])\n",
    "            hour_ = int(time_str[0])\n",
    "            minute_ = int(time_str[1])\n",
    "            second_ = int(time_str[2])\n",
    "            date_dt = datetime.datetime(year_, month_, day_, hour_, minute_, second_)\n",
    "        except:\n",
    "            date_str = bar.date.split(\" \")[0]\n",
    "            year_ = int(date_str[0:4])\n",
    "            month_ = int(date_str[4:6])\n",
    "            day_ = int(date_str[6:8])\n",
    "\n",
    "            date_dt = datetime.date(year_, month_, day_)\n",
    "\n",
    "\n",
    "        try:\n",
    "            self.ib_client.df.loc[date_dt] = {\"Datetime\": date_dt, \"Open\": bar.open, \"High\": bar.high, \"Low\": bar.low, \"Close\": bar.close, \"Volume\": bar.volume}\n",
    "        except:\n",
    "            pass\n",
    "\n",
    "    def historicalDataEnd(self, reqId: int, start: str, end: str):\n",
    "        super().historicalDataEnd(reqId, start, end)\n",
    "        print(\"HistoricalDataEnd. ReqId:\", reqId, \"from\", start, \"to\", end)\n",
    "\n"
   ],
   "id": "444d8be2f7aef3dc",
   "outputs": [],
   "execution_count": 4
  },
  {
   "cell_type": "code",
   "id": "initial_id",
   "metadata": {
    "collapsed": true,
    "ExecuteTime": {
     "end_time": "2025-07-02T01:20:50.977192Z",
     "start_time": "2025-07-02T01:20:50.963772Z"
    }
   },
   "source": [
    "\n",
    "\n",
    "\n",
    "\n",
    "class TV:\n",
    "\n",
    "    def __init__(self):\n",
    "        self.ib = IBApi(self)\n",
    "        self.ib.connect(\"127.0.0.1\", port, client_id)  ## 7496 is live, 7497 is paper trading\n",
    "        ib_thread = threading.Thread(target=self.run_loop, daemon=True)\n",
    "        ib_thread.start()\n",
    "\n",
    "        self.cols = {'Datetime': int(), 'Open': float(), \"High\": float(), \"Low\": float(), \"Close\": float(), \"Volume\": float()}\n",
    "\n",
    "    def run_loop(self):\n",
    "        self.ib.run()\n",
    "\n",
    "    def d1(self, strike, stock_price, vol, tte_in_days):\n",
    "        return ( np.log(stock_price/strike) + 0.5*vol*vol*tte_in_days/252) / (vol * np.sqrt(tte_in_days/252))\n",
    "\n",
    "    def delta(self, strike, stock_price, vol, call_put, tte_in_days):\n",
    "        d_1 = self.d1(strike, stock_price, vol, tte_in_days)\n",
    "        if call_put == 'call':\n",
    "            delta = norm.cdf(d_1)\n",
    "        else:\n",
    "            delta = -1*norm.cdf(-1*d_1)\n",
    "        return delta\n",
    "\n",
    "    def getStrikeGivenDelta(self, target_delta, stock_price, call_put, tte_in_days):\n",
    "        target_strike = np.nan\n",
    "        vol = 0.2\n",
    "        for strike in range(round(stock_price) - 10, round(stock_price)+10):\n",
    "            delta_ = self.delta(strike, stock_price, vol, call_put ,tte_in_days)\n",
    "            if target_delta-0.06 <= delta_ <= target_delta+0.06:\n",
    "                target_strike = strike\n",
    "\n",
    "        return target_strike\n",
    "\n",
    "    def getStockContract(self,ticker):\n",
    "        myC = Contract()\n",
    "        myC.symbol = ticker\n",
    "        myC.secType = \"STK\"\n",
    "        myC.exchange = \"SMART\"\n",
    "        myC.primaryExchange = \"ISLAND\"\n",
    "        myC.currency = \"USD\"\n",
    "\n",
    "        return myC\n",
    "\n",
    "    def request_historical_data(self, reqId, ticker):\n",
    "\n",
    "        self.df = pd.DataFrame(self.cols, [])\n",
    "\n",
    "        _contract = self.getStockContract(ticker)\n",
    "        time.sleep(1)\n",
    "        self.ib.reqHistoricalData(reqId, _contract, \"\", duration, bar_size, \"TRADES\", 1, 1, True, [])\n",
    "        time.sleep(1)\n",
    "\n",
    "\n",
    "    def algo(self):\n",
    "\n",
    "      #  tickers = sp500_components.Symbol.values\n",
    "        #first, request historical data\n",
    "        for ticker in ['SPY']:#, 'QQQ', 'IWM','AAPL','AMZN', 'GOOGL', 'META', 'MSFT','NVDA','TSLA']:\n",
    "        #for ticker in np.append(tickers,['SPY', 'QQQ', 'IWM', 'GOOGL', 'AMZN', 'AAPL', 'MSFT', '']):\n",
    "            reqId = self.ib.getReqId()\n",
    "            self.request_historical_data(reqId, ticker)\n",
    "            time.sleep(20)\n",
    "            #self.df[\"Date\"] = self.df.Datetime.apply(lambda x: x.date())\n",
    "            print(self.df)\n",
    "            #self.df.to_csv('C:/Users/rehan/navis/data/historical_intraday_data/historical_intraday_ul_%s_0.01.csv' % (ticker))\n",
    "\n",
    "    def start(self):\n",
    "\n",
    "        t1 = threading.Thread(target=self.algo, daemon=True)\n",
    "        all_threads = [t1]\n",
    "        for t in all_threads:\n",
    "            t.start()\n",
    "        for t in all_threads:\n",
    "            t.join()\n",
    "\n",
    "    def disconnect(self):\n",
    "        self.ib.disconnect()\n",
    "\n",
    "    def signal_handler(self, sig, _):\n",
    "        print(\"CTRL C\")\n",
    "        self.disconnect()\n",
    "        sys.exit(0)\n",
    "\n"
   ],
   "outputs": [],
   "execution_count": 5
  },
  {
   "metadata": {},
   "cell_type": "code",
   "outputs": [],
   "execution_count": null,
   "source": [
    "\n",
    "\n",
    "if __name__ == '__main__':\n",
    "\n",
    "    tv = TV()\n",
    "    try:\n",
    "     # signal.signal(signal.SIGINT, tv.signal_handler)\n",
    "        tv.start()\n",
    "    except KeyboardInterrupt:\n",
    "        pass\n",
    "    finally:\n",
    "        tv.disconnect()\n"
   ],
   "id": "8d86dd35f437e6e5"
  }
 ],
 "metadata": {
  "kernelspec": {
   "display_name": "Python 3",
   "language": "python",
   "name": "python3"
  },
  "language_info": {
   "codemirror_mode": {
    "name": "ipython",
    "version": 2
   },
   "file_extension": ".py",
   "mimetype": "text/x-python",
   "name": "python",
   "nbconvert_exporter": "python",
   "pygments_lexer": "ipython2",
   "version": "2.7.6"
  }
 },
 "nbformat": 4,
 "nbformat_minor": 5
}
