{
 "cells": [
  {
   "cell_type": "code",
   "id": "initial_id",
   "metadata": {
    "collapsed": true,
    "ExecuteTime": {
     "end_time": "2025-07-03T14:46:15.074625Z",
     "start_time": "2025-07-03T14:46:15.068287Z"
    }
   },
   "source": [
    "from ibapi.client import EClient\n",
    "from ibapi.wrapper import EWrapper\n",
    "from ibapi.contract import Contract\n",
    "from threading import Thread\n",
    "from datetime import datetime\n",
    "import time\n",
    "import pandas as pd\n",
    "import os\n",
    "\n",
    "class IBApp(EWrapper, EClient):\n",
    "    def __init__(self):\n",
    "        EClient.__init__(self, self)\n",
    "        self.csv_file = 'AAPL_5_seconds_data.csv'\n",
    "\n",
    "    def tickPrice(self, reqId, tickType, price, attrib):\n",
    "        now = datetime.now().strftime('%Y-%m-%d %H:%M:%S.%f')\n",
    "        row = {\n",
    "            'timestamp': now,\n",
    "            'type': tickType,\n",
    "            'price': price\n",
    "        }\n",
    "        df = pd.DataFrame([row])\n",
    "        if not os.path.exists(self.csv_file):\n",
    "            df.to_csv(self.csv_file, mode='w', index=False)\n",
    "        else:\n",
    "            df.to_csv(self.csv_file, mode='a', index=False, header=False)\n",
    "\n",
    "    def tickSize(self, reqId, tickType, size):\n",
    "        now = datetime.now().strftime('%Y-%m-%d %H:%M:%S.%f')\n",
    "        row = {\n",
    "            'timestamp': now,\n",
    "            'type': f\"size_{tickType}\",\n",
    "            'size': size\n",
    "        }\n",
    "        df = pd.DataFrame([row])\n",
    "        if not os.path.exists(self.csv_file):\n",
    "            df.to_csv(self.csv_file, mode='w', index=False)\n",
    "        else:\n",
    "            df.to_csv(self.csv_file, mode='a', index=False, header=False)\n"
   ],
   "outputs": [],
   "execution_count": 2
  },
  {
   "metadata": {
    "ExecuteTime": {
     "end_time": "2025-07-03T14:46:42.663529Z",
     "start_time": "2025-07-03T14:46:31.648603Z"
    }
   },
   "cell_type": "code",
   "source": [
    "\n",
    "def run_loop(app):\n",
    "    app.run()\n",
    "\n",
    "# Start App\n",
    "app = IBApp()\n",
    "app.connect(\"127.0.0.1\", 7497, clientId=4)\n",
    "\n",
    "# Run client loop\n",
    "thread = Thread(target=run_loop, args=(app,), daemon=True)\n",
    "thread.start()\n",
    "time.sleep(1)\n",
    "\n",
    "# Define contract\n",
    "contract = Contract()\n",
    "contract.symbol = \"AAPL\"\n",
    "contract.secType = \"STK\"\n",
    "contract.exchange = \"SMART\"\n",
    "contract.currency = \"USD\"\n",
    "\n",
    "# Request streaming data\n",
    "app.reqMktData(reqId=1, contract=contract, genericTickList=\"\", snapshot=False, regulatorySnapshot=False, mktDataOptions=[])\n",
    "\n",
    "# Stream for 10 seconds\n",
    "time.sleep(10)\n",
    "app.disconnect()\n"
   ],
   "id": "4b320cee52fa1056",
   "outputs": [
    {
     "name": "stderr",
     "output_type": "stream",
     "text": [
      "ERROR -1 2104 Market data farm connection is OK:usfarm.nj\n",
      "ERROR -1 2104 Market data farm connection is OK:hfarm\n",
      "ERROR -1 2104 Market data farm connection is OK:usopt.nj\n",
      "ERROR -1 2104 Market data farm connection is OK:cashfarm\n",
      "ERROR -1 2104 Market data farm connection is OK:usfarm\n",
      "ERROR -1 2106 HMDS data farm connection is OK:apachmds\n",
      "ERROR -1 2106 HMDS data farm connection is OK:ushmds\n",
      "ERROR -1 2158 Sec-def data farm connection is OK:secdefhk\n",
      "ERROR 1 10089 Requested market data requires additional subscription for API. See link in 'Market Data Connections' dialog for more details.AAPL NASDAQ.NMS/TOP/ALL\n"
     ]
    }
   ],
   "execution_count": 3
  }
 ],
 "metadata": {
  "kernelspec": {
   "display_name": "Python 3",
   "language": "python",
   "name": "python3"
  },
  "language_info": {
   "codemirror_mode": {
    "name": "ipython",
    "version": 2
   },
   "file_extension": ".py",
   "mimetype": "text/x-python",
   "name": "python",
   "nbconvert_exporter": "python",
   "pygments_lexer": "ipython2",
   "version": "2.7.6"
  }
 },
 "nbformat": 4,
 "nbformat_minor": 5
}
