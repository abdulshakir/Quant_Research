{
 "cells": [
  {
   "cell_type": "code",
   "id": "initial_id",
   "metadata": {
    "collapsed": true,
    "ExecuteTime": {
     "end_time": "2025-07-02T08:39:05.183712Z",
     "start_time": "2025-07-02T08:39:05.175479Z"
    }
   },
   "source": [
    "from ibapi.client import EClient\n",
    "from ibapi.wrapper import EWrapper\n",
    "from ibapi.contract import Contract\n",
    "from threading import Thread\n",
    "import pandas as pd\n",
    "import time\n",
    "import os\n",
    "from datetime import datetime, timedelta\n",
    "\n",
    "class IBApp(EWrapper, EClient):\n",
    "    def __init__(self):\n",
    "        EClient.__init__(self, self)\n",
    "        self.data = []\n",
    "        self.done = False\n",
    "\n",
    "    def historicalData(self, reqId, bar):\n",
    "        self.data.append([bar.date, bar.open, bar.high, bar.low, bar.close, bar.volume])\n",
    "\n",
    "    def historicalDataEnd(self, reqId, start, end):\n",
    "        self.done = True\n",
    "        print(\"Download complete\")\n",
    "\n",
    "def create_contract(symbol):\n",
    "    contract = Contract()\n",
    "    contract.symbol = symbol\n",
    "    contract.secType = 'STK'\n",
    "    contract.exchange = 'SMART'\n",
    "    contract.currency = 'USD'\n",
    "    return contract\n"
   ],
   "outputs": [],
   "execution_count": 3
  },
  {
   "metadata": {
    "ExecuteTime": {
     "end_time": "2025-07-02T08:39:15.977770Z",
     "start_time": "2025-07-02T08:39:13.958708Z"
    }
   },
   "cell_type": "code",
   "source": [
    "def fetch_data(symbol, date_str, filename):\n",
    "    app = IBApp()\n",
    "    app.connect(\"127.0.0.1\", 7497, clientId=2)\n",
    "\n",
    "    def run_loop():\n",
    "        app.run()\n",
    "\n",
    "    thread = Thread(target=run_loop, daemon=True)\n",
    "    thread.start()\n",
    "    time.sleep(1)\n",
    "\n",
    "    contract = create_contract(symbol)\n",
    "    app.reqHistoricalData(\n",
    "        reqId=1,\n",
    "        contract=contract,\n",
    "        endDateTime=date_str,\n",
    "        durationStr='1 D',\n",
    "        barSizeSetting='1 min',\n",
    "        whatToShow='TRADES',\n",
    "        useRTH=True,\n",
    "        formatDate=1,\n",
    "        keepUpToDate=False,\n",
    "        chartOptions=[]\n",
    "    )\n",
    "\n",
    "    while not app.done:\n",
    "        time.sleep(1)\n",
    "\n",
    "    app.disconnect()\n",
    "\n",
    "    df = pd.DataFrame(app.data, columns=['Date', 'Open', 'High', 'Low', 'Close', 'Volume'])\n",
    "    os.makedirs('ibkr_1min_data_ibapi/', exist_ok=True)\n",
    "    df.to_csv(f'ibkr_1min_data_ibapi/{filename}', index=False)\n",
    "    print(f\"{symbol} data saved.\")\n",
    "\n",
    "# Example: Fetch yesterday’s data\n",
    "fetch_data('AAPL', (datetime.now() - timedelta(days=1)).strftime(\"%Y%m%d %H:%M:%S\"), 'AAPL_1min.csv')\n"
   ],
   "id": "edf67799d32aef2b",
   "outputs": [
    {
     "name": "stderr",
     "output_type": "stream",
     "text": [
      "ERROR -1 2104 Market data farm connection is OK:hfarm\n",
      "ERROR -1 2104 Market data farm connection is OK:cashfarm\n",
      "ERROR -1 2104 Market data farm connection is OK:usopt.nj\n",
      "ERROR -1 2104 Market data farm connection is OK:usfarm.nj\n",
      "ERROR -1 2104 Market data farm connection is OK:usfarm\n",
      "ERROR -1 2106 HMDS data farm connection is OK:euhmds\n",
      "ERROR -1 2106 HMDS data farm connection is OK:apachmds\n",
      "ERROR -1 2106 HMDS data farm connection is OK:fundfarm\n",
      "ERROR -1 2106 HMDS data farm connection is OK:ushmds\n",
      "ERROR -1 2158 Sec-def data farm connection is OK:secdefhk\n",
      "ERROR 1 2174 Warning: You submitted request with date-time attributes without explicit time zone. Please switch to use yyyymmdd-hh:mm:ss in UTC or use instrument time zone, like US/Eastern. Implied time zone functionality will be removed in the next API release\n",
      "ERROR 1 2176 Warning: Your API version does not support fractional share size rules. Please upgrade to a minimum version 163. Trimmed value 1849.09 to 1849\n"
     ]
    },
    {
     "name": "stdout",
     "output_type": "stream",
     "text": [
      "Download complete\n",
      "AAPL data saved.\n"
     ]
    }
   ],
   "execution_count": 4
  }
 ],
 "metadata": {
  "kernelspec": {
   "display_name": "Python 3",
   "language": "python",
   "name": "python3"
  },
  "language_info": {
   "codemirror_mode": {
    "name": "ipython",
    "version": 2
   },
   "file_extension": ".py",
   "mimetype": "text/x-python",
   "name": "python",
   "nbconvert_exporter": "python",
   "pygments_lexer": "ipython2",
   "version": "2.7.6"
  }
 },
 "nbformat": 4,
 "nbformat_minor": 5
}
