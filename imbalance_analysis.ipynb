{
 "cells": [
  {
   "cell_type": "code",
   "id": "initial_id",
   "metadata": {
    "collapsed": true,
    "ExecuteTime": {
     "end_time": "2025-07-14T20:29:06.941254Z",
     "start_time": "2025-07-14T20:29:06.937419Z"
    }
   },
   "source": [
    "\n",
    "import pandas as pd\n",
    "import numpy as np\n",
    "from datetime import datetime, timedelta, time"
   ],
   "outputs": [],
   "execution_count": 121
  },
  {
   "metadata": {
    "ExecuteTime": {
     "end_time": "2025-07-14T20:29:10.736084Z",
     "start_time": "2025-07-14T20:29:08.527134Z"
    }
   },
   "cell_type": "code",
   "source": [
    "data = pd.read_csv('GOOGL_imbalance.csv')\n",
    "print(data.head())"
   ],
   "id": "37c0889080ffada0",
   "outputs": [
    {
     "name": "stdout",
     "output_type": "stream",
     "text": [
      "                               ts_recv                             ts_event  \\\n",
      "0  2018-05-01 09:28:00.200090236-04:00  2018-05-01 13:28:00.200079497+00:00   \n",
      "1  2018-05-01 09:28:05.013842739-04:00  2018-05-01 13:28:05.013831214+00:00   \n",
      "2  2018-05-01 09:28:10.124905504-04:00  2018-05-01 13:28:10.124894701+00:00   \n",
      "3  2018-05-01 09:28:15.125171169-04:00  2018-05-01 13:28:15.125160488+00:00   \n",
      "4  2018-05-01 09:28:20.066690415-04:00  2018-05-01 13:28:20.066679481+00:00   \n",
      "\n",
      "   rtype  publisher_id  instrument_id  ref_price  auction_time  \\\n",
      "0     20             2           3363    1018.48             0   \n",
      "1     20             2           3363    1018.29             0   \n",
      "2     20             2           3363    1018.35             0   \n",
      "3     20             2           3363    1018.11             0   \n",
      "4     20             2           3363    1018.16             0   \n",
      "\n",
      "   cont_book_clr_price  auct_interest_clr_price  ssr_filling_price  ...  \\\n",
      "0              1020.00                  1020.00                0.0  ...   \n",
      "1              1019.49                  1019.49                0.0  ...   \n",
      "2              1019.49                  1019.49                0.0  ...   \n",
      "3              1019.49                  1019.49                0.0  ...   \n",
      "4              1019.35                  1019.49                0.0  ...   \n",
      "\n",
      "   market_imbalance_qty  unpaired_qty  auction_type  side  auction_status  \\\n",
      "0                     0             0             O     B               0   \n",
      "1                     0             0             O     B               0   \n",
      "2                     0             0             O     B               0   \n",
      "3                     0             0             O     B               0   \n",
      "4                     0             0             O     B               0   \n",
      "\n",
      "   freeze_status  num_extensions unpaired_side significant_imbalance  symbol  \n",
      "0              0               0             N                     L   GOOGL  \n",
      "1              0               0             N                     L   GOOGL  \n",
      "2              0               0             N                     L   GOOGL  \n",
      "3              0               0             N                     L   GOOGL  \n",
      "4              0               0             N                     L   GOOGL  \n",
      "\n",
      "[5 rows x 25 columns]\n"
     ]
    }
   ],
   "execution_count": 122
  },
  {
   "metadata": {
    "ExecuteTime": {
     "end_time": "2025-07-14T20:29:13.042505Z",
     "start_time": "2025-07-14T20:29:13.025123Z"
    }
   },
   "cell_type": "code",
   "source": "data.tail(2)",
   "id": "74fe86dfb631f743",
   "outputs": [
    {
     "data": {
      "text/plain": [
       "                                    ts_recv  \\\n",
       "582315  2025-07-07 15:59:53.042470074-04:00   \n",
       "582316  2025-07-07 15:59:54.114351878-04:00   \n",
       "\n",
       "                                   ts_event  rtype  publisher_id  \\\n",
       "582315  2025-07-07 19:59:53.042304423+00:00     20             2   \n",
       "582316  2025-07-07 19:59:54.114186719+00:00     20             2   \n",
       "\n",
       "        instrument_id  ref_price  auction_time  cont_book_clr_price  \\\n",
       "582315           7152     176.72             0               176.74   \n",
       "582316           7152     176.72             0               176.74   \n",
       "\n",
       "        auct_interest_clr_price  ssr_filling_price  ...  market_imbalance_qty  \\\n",
       "582315                   176.76                0.0  ...                     0   \n",
       "582316                   176.76                0.0  ...                     0   \n",
       "\n",
       "        unpaired_qty  auction_type  side  auction_status  freeze_status  \\\n",
       "582315             0             C     B               0              0   \n",
       "582316             0             C     B               0              0   \n",
       "\n",
       "        num_extensions unpaired_side significant_imbalance  symbol  \n",
       "582315               0             N                     L   GOOGL  \n",
       "582316               0             N                     L   GOOGL  \n",
       "\n",
       "[2 rows x 25 columns]"
      ],
      "text/html": [
       "<div>\n",
       "<style scoped>\n",
       "    .dataframe tbody tr th:only-of-type {\n",
       "        vertical-align: middle;\n",
       "    }\n",
       "\n",
       "    .dataframe tbody tr th {\n",
       "        vertical-align: top;\n",
       "    }\n",
       "\n",
       "    .dataframe thead th {\n",
       "        text-align: right;\n",
       "    }\n",
       "</style>\n",
       "<table border=\"1\" class=\"dataframe\">\n",
       "  <thead>\n",
       "    <tr style=\"text-align: right;\">\n",
       "      <th></th>\n",
       "      <th>ts_recv</th>\n",
       "      <th>ts_event</th>\n",
       "      <th>rtype</th>\n",
       "      <th>publisher_id</th>\n",
       "      <th>instrument_id</th>\n",
       "      <th>ref_price</th>\n",
       "      <th>auction_time</th>\n",
       "      <th>cont_book_clr_price</th>\n",
       "      <th>auct_interest_clr_price</th>\n",
       "      <th>ssr_filling_price</th>\n",
       "      <th>...</th>\n",
       "      <th>market_imbalance_qty</th>\n",
       "      <th>unpaired_qty</th>\n",
       "      <th>auction_type</th>\n",
       "      <th>side</th>\n",
       "      <th>auction_status</th>\n",
       "      <th>freeze_status</th>\n",
       "      <th>num_extensions</th>\n",
       "      <th>unpaired_side</th>\n",
       "      <th>significant_imbalance</th>\n",
       "      <th>symbol</th>\n",
       "    </tr>\n",
       "  </thead>\n",
       "  <tbody>\n",
       "    <tr>\n",
       "      <th>582315</th>\n",
       "      <td>2025-07-07 15:59:53.042470074-04:00</td>\n",
       "      <td>2025-07-07 19:59:53.042304423+00:00</td>\n",
       "      <td>20</td>\n",
       "      <td>2</td>\n",
       "      <td>7152</td>\n",
       "      <td>176.72</td>\n",
       "      <td>0</td>\n",
       "      <td>176.74</td>\n",
       "      <td>176.76</td>\n",
       "      <td>0.0</td>\n",
       "      <td>...</td>\n",
       "      <td>0</td>\n",
       "      <td>0</td>\n",
       "      <td>C</td>\n",
       "      <td>B</td>\n",
       "      <td>0</td>\n",
       "      <td>0</td>\n",
       "      <td>0</td>\n",
       "      <td>N</td>\n",
       "      <td>L</td>\n",
       "      <td>GOOGL</td>\n",
       "    </tr>\n",
       "    <tr>\n",
       "      <th>582316</th>\n",
       "      <td>2025-07-07 15:59:54.114351878-04:00</td>\n",
       "      <td>2025-07-07 19:59:54.114186719+00:00</td>\n",
       "      <td>20</td>\n",
       "      <td>2</td>\n",
       "      <td>7152</td>\n",
       "      <td>176.72</td>\n",
       "      <td>0</td>\n",
       "      <td>176.74</td>\n",
       "      <td>176.76</td>\n",
       "      <td>0.0</td>\n",
       "      <td>...</td>\n",
       "      <td>0</td>\n",
       "      <td>0</td>\n",
       "      <td>C</td>\n",
       "      <td>B</td>\n",
       "      <td>0</td>\n",
       "      <td>0</td>\n",
       "      <td>0</td>\n",
       "      <td>N</td>\n",
       "      <td>L</td>\n",
       "      <td>GOOGL</td>\n",
       "    </tr>\n",
       "  </tbody>\n",
       "</table>\n",
       "<p>2 rows × 25 columns</p>\n",
       "</div>"
      ]
     },
     "execution_count": 123,
     "metadata": {},
     "output_type": "execute_result"
    }
   ],
   "execution_count": 123
  },
  {
   "metadata": {
    "ExecuteTime": {
     "end_time": "2025-07-14T20:29:15.970772Z",
     "start_time": "2025-07-14T20:29:15.964896Z"
    }
   },
   "cell_type": "code",
   "source": "data.columns",
   "id": "be16d402cf279fe3",
   "outputs": [
    {
     "data": {
      "text/plain": [
       "Index(['ts_recv', 'ts_event', 'rtype', 'publisher_id', 'instrument_id',\n",
       "       'ref_price', 'auction_time', 'cont_book_clr_price',\n",
       "       'auct_interest_clr_price', 'ssr_filling_price', 'ind_match_price',\n",
       "       'upper_collar', 'lower_collar', 'paired_qty', 'total_imbalance_qty',\n",
       "       'market_imbalance_qty', 'unpaired_qty', 'auction_type', 'side',\n",
       "       'auction_status', 'freeze_status', 'num_extensions', 'unpaired_side',\n",
       "       'significant_imbalance', 'symbol'],\n",
       "      dtype='object')"
      ]
     },
     "execution_count": 124,
     "metadata": {},
     "output_type": "execute_result"
    }
   ],
   "execution_count": 124
  },
  {
   "metadata": {
    "ExecuteTime": {
     "end_time": "2025-07-14T20:29:20.348848Z",
     "start_time": "2025-07-14T20:29:19.090811Z"
    }
   },
   "cell_type": "code",
   "source": [
    "# Convert the `ts_event` column to datetime type for filtering\n",
    "data['ts_event'] = pd.to_datetime(data['ts_event'])"
   ],
   "id": "100573aeccd2736b",
   "outputs": [],
   "execution_count": 125
  },
  {
   "metadata": {
    "ExecuteTime": {
     "end_time": "2025-07-14T20:29:29.142168Z",
     "start_time": "2025-07-14T20:29:22.826014Z"
    }
   },
   "cell_type": "code",
   "source": [
    "# Extract rows where time is between 19:50:00 and 19:59:59 (irrespective of the date)\n",
    "filtered_data = data[data['ts_event'].dt.strftime('%H:%M:%S.%f%z').between(\n",
    "    '19:50:00.000000000+0000', '20:00:00.999999999+0000'\n",
    ")]\n"
   ],
   "id": "e4243612c507dd3d",
   "outputs": [],
   "execution_count": 126
  },
  {
   "metadata": {
    "ExecuteTime": {
     "end_time": "2025-07-14T20:29:30.603222Z",
     "start_time": "2025-07-14T20:29:30.594629Z"
    }
   },
   "cell_type": "code",
   "source": [
    "# Find the range of dates in the `ts_event` column in data\n",
    "date_range = f\"Start Date: {data['ts_event'].min()}, End Date: {data['ts_event'].max()}\"\n",
    "print(date_range)"
   ],
   "id": "c22dce5cdba3db5f",
   "outputs": [
    {
     "name": "stdout",
     "output_type": "stream",
     "text": [
      "Start Date: 2018-05-01 13:28:00.200079497+00:00, End Date: 2025-07-07 19:59:54.114186719+00:00\n"
     ]
    }
   ],
   "execution_count": 127
  },
  {
   "metadata": {
    "ExecuteTime": {
     "end_time": "2025-07-14T20:29:33.306115Z",
     "start_time": "2025-07-14T20:29:33.299718Z"
    }
   },
   "cell_type": "code",
   "source": [
    "# Find the range of dates in the `ts_event` column in filtered_data\n",
    "date_range = f\"Start Date: {filtered_data['ts_event'].min()}, End Date: {filtered_data['ts_event'].max()}\"\n",
    "print(date_range)"
   ],
   "id": "11ebbc24c97fd08b",
   "outputs": [
    {
     "name": "stdout",
     "output_type": "stream",
     "text": [
      "Start Date: 2018-05-01 19:50:00.232589664+00:00, End Date: 2025-07-07 19:59:54.114186719+00:00\n"
     ]
    }
   ],
   "execution_count": 128
  },
  {
   "metadata": {},
   "cell_type": "code",
   "source": [
    "# Extract the date, minutes (passed after 19:50), seconds, and subseconds using datetime operations\n",
    "filtered_data['date'] = pd.to_datetime(filtered_data['ts_event']).dt.date\n",
    "filtered_data['minutes'] = (\n",
    "    pd.to_datetime(filtered_data['ts_event']).dt.hour * 60 +\n",
    "    pd.to_datetime(filtered_data['ts_event']).dt.minute - 1190  # 19 * 60 + 50 = 1190\n",
    ")\n",
    "filtered_data['seconds'] = pd.to_datetime(filtered_data['ts_event']).dt.second\n",
    "filtered_data['subseconds'] = pd.to_datetime(filtered_data['ts_event']).dt.microsecond / 1e6"
   ],
   "id": "7c20f0e292eb08a5",
   "outputs": [],
   "execution_count": null
  },
  {
   "metadata": {
    "ExecuteTime": {
     "end_time": "2025-07-14T20:29:42.411452Z",
     "start_time": "2025-07-14T20:29:42.384747Z"
    }
   },
   "cell_type": "code",
   "source": "filtered_data.head()",
   "id": "3e559be26c05ba3e",
   "outputs": [
    {
     "data": {
      "text/plain": [
       "                                ts_recv                            ts_event  \\\n",
       "20  2018-05-01 15:50:00.232608214-04:00 2018-05-01 19:50:00.232589664+00:00   \n",
       "21  2018-05-01 15:50:05.039544060-04:00 2018-05-01 19:50:05.039530238+00:00   \n",
       "22  2018-05-01 15:50:10.081168197-04:00 2018-05-01 19:50:10.081156561+00:00   \n",
       "23  2018-05-01 15:50:15.063046686-04:00 2018-05-01 19:50:15.063035041+00:00   \n",
       "24  2018-05-01 15:50:20.117362819-04:00 2018-05-01 19:50:20.117352268+00:00   \n",
       "\n",
       "    rtype  publisher_id  instrument_id  ref_price  auction_time  \\\n",
       "20     20             2           3363    1037.99             0   \n",
       "21     20             2           3363    1038.86             0   \n",
       "22     20             2           3363    1039.11             0   \n",
       "23     20             2           3363    1039.11             0   \n",
       "24     20             2           3363    1039.00             0   \n",
       "\n",
       "    cont_book_clr_price  auct_interest_clr_price  ssr_filling_price  ...  \\\n",
       "20              1066.62                  1087.50                0.0  ...   \n",
       "21              1042.28                  1048.04                0.0  ...   \n",
       "22              1042.28                  1048.04                0.0  ...   \n",
       "23              1042.25                  1048.04                0.0  ...   \n",
       "24              1042.20                  1048.04                0.0  ...   \n",
       "\n",
       "    auction_status  freeze_status  num_extensions  unpaired_side  \\\n",
       "20               0              0               0              N   \n",
       "21               0              0               0              N   \n",
       "22               0              0               0              N   \n",
       "23               0              0               0              N   \n",
       "24               0              0               0              N   \n",
       "\n",
       "    significant_imbalance  symbol        date minutes seconds  subseconds  \n",
       "20                      2   GOOGL  2018-05-01       0       0    0.232589  \n",
       "21                      L   GOOGL  2018-05-01       0       5    0.039530  \n",
       "22                      L   GOOGL  2018-05-01       0      10    0.081156  \n",
       "23                      L   GOOGL  2018-05-01       0      15    0.063035  \n",
       "24                      L   GOOGL  2018-05-01       0      20    0.117352  \n",
       "\n",
       "[5 rows x 29 columns]"
      ],
      "text/html": [
       "<div>\n",
       "<style scoped>\n",
       "    .dataframe tbody tr th:only-of-type {\n",
       "        vertical-align: middle;\n",
       "    }\n",
       "\n",
       "    .dataframe tbody tr th {\n",
       "        vertical-align: top;\n",
       "    }\n",
       "\n",
       "    .dataframe thead th {\n",
       "        text-align: right;\n",
       "    }\n",
       "</style>\n",
       "<table border=\"1\" class=\"dataframe\">\n",
       "  <thead>\n",
       "    <tr style=\"text-align: right;\">\n",
       "      <th></th>\n",
       "      <th>ts_recv</th>\n",
       "      <th>ts_event</th>\n",
       "      <th>rtype</th>\n",
       "      <th>publisher_id</th>\n",
       "      <th>instrument_id</th>\n",
       "      <th>ref_price</th>\n",
       "      <th>auction_time</th>\n",
       "      <th>cont_book_clr_price</th>\n",
       "      <th>auct_interest_clr_price</th>\n",
       "      <th>ssr_filling_price</th>\n",
       "      <th>...</th>\n",
       "      <th>auction_status</th>\n",
       "      <th>freeze_status</th>\n",
       "      <th>num_extensions</th>\n",
       "      <th>unpaired_side</th>\n",
       "      <th>significant_imbalance</th>\n",
       "      <th>symbol</th>\n",
       "      <th>date</th>\n",
       "      <th>minutes</th>\n",
       "      <th>seconds</th>\n",
       "      <th>subseconds</th>\n",
       "    </tr>\n",
       "  </thead>\n",
       "  <tbody>\n",
       "    <tr>\n",
       "      <th>20</th>\n",
       "      <td>2018-05-01 15:50:00.232608214-04:00</td>\n",
       "      <td>2018-05-01 19:50:00.232589664+00:00</td>\n",
       "      <td>20</td>\n",
       "      <td>2</td>\n",
       "      <td>3363</td>\n",
       "      <td>1037.99</td>\n",
       "      <td>0</td>\n",
       "      <td>1066.62</td>\n",
       "      <td>1087.50</td>\n",
       "      <td>0.0</td>\n",
       "      <td>...</td>\n",
       "      <td>0</td>\n",
       "      <td>0</td>\n",
       "      <td>0</td>\n",
       "      <td>N</td>\n",
       "      <td>2</td>\n",
       "      <td>GOOGL</td>\n",
       "      <td>2018-05-01</td>\n",
       "      <td>0</td>\n",
       "      <td>0</td>\n",
       "      <td>0.232589</td>\n",
       "    </tr>\n",
       "    <tr>\n",
       "      <th>21</th>\n",
       "      <td>2018-05-01 15:50:05.039544060-04:00</td>\n",
       "      <td>2018-05-01 19:50:05.039530238+00:00</td>\n",
       "      <td>20</td>\n",
       "      <td>2</td>\n",
       "      <td>3363</td>\n",
       "      <td>1038.86</td>\n",
       "      <td>0</td>\n",
       "      <td>1042.28</td>\n",
       "      <td>1048.04</td>\n",
       "      <td>0.0</td>\n",
       "      <td>...</td>\n",
       "      <td>0</td>\n",
       "      <td>0</td>\n",
       "      <td>0</td>\n",
       "      <td>N</td>\n",
       "      <td>L</td>\n",
       "      <td>GOOGL</td>\n",
       "      <td>2018-05-01</td>\n",
       "      <td>0</td>\n",
       "      <td>5</td>\n",
       "      <td>0.039530</td>\n",
       "    </tr>\n",
       "    <tr>\n",
       "      <th>22</th>\n",
       "      <td>2018-05-01 15:50:10.081168197-04:00</td>\n",
       "      <td>2018-05-01 19:50:10.081156561+00:00</td>\n",
       "      <td>20</td>\n",
       "      <td>2</td>\n",
       "      <td>3363</td>\n",
       "      <td>1039.11</td>\n",
       "      <td>0</td>\n",
       "      <td>1042.28</td>\n",
       "      <td>1048.04</td>\n",
       "      <td>0.0</td>\n",
       "      <td>...</td>\n",
       "      <td>0</td>\n",
       "      <td>0</td>\n",
       "      <td>0</td>\n",
       "      <td>N</td>\n",
       "      <td>L</td>\n",
       "      <td>GOOGL</td>\n",
       "      <td>2018-05-01</td>\n",
       "      <td>0</td>\n",
       "      <td>10</td>\n",
       "      <td>0.081156</td>\n",
       "    </tr>\n",
       "    <tr>\n",
       "      <th>23</th>\n",
       "      <td>2018-05-01 15:50:15.063046686-04:00</td>\n",
       "      <td>2018-05-01 19:50:15.063035041+00:00</td>\n",
       "      <td>20</td>\n",
       "      <td>2</td>\n",
       "      <td>3363</td>\n",
       "      <td>1039.11</td>\n",
       "      <td>0</td>\n",
       "      <td>1042.25</td>\n",
       "      <td>1048.04</td>\n",
       "      <td>0.0</td>\n",
       "      <td>...</td>\n",
       "      <td>0</td>\n",
       "      <td>0</td>\n",
       "      <td>0</td>\n",
       "      <td>N</td>\n",
       "      <td>L</td>\n",
       "      <td>GOOGL</td>\n",
       "      <td>2018-05-01</td>\n",
       "      <td>0</td>\n",
       "      <td>15</td>\n",
       "      <td>0.063035</td>\n",
       "    </tr>\n",
       "    <tr>\n",
       "      <th>24</th>\n",
       "      <td>2018-05-01 15:50:20.117362819-04:00</td>\n",
       "      <td>2018-05-01 19:50:20.117352268+00:00</td>\n",
       "      <td>20</td>\n",
       "      <td>2</td>\n",
       "      <td>3363</td>\n",
       "      <td>1039.00</td>\n",
       "      <td>0</td>\n",
       "      <td>1042.20</td>\n",
       "      <td>1048.04</td>\n",
       "      <td>0.0</td>\n",
       "      <td>...</td>\n",
       "      <td>0</td>\n",
       "      <td>0</td>\n",
       "      <td>0</td>\n",
       "      <td>N</td>\n",
       "      <td>L</td>\n",
       "      <td>GOOGL</td>\n",
       "      <td>2018-05-01</td>\n",
       "      <td>0</td>\n",
       "      <td>20</td>\n",
       "      <td>0.117352</td>\n",
       "    </tr>\n",
       "  </tbody>\n",
       "</table>\n",
       "<p>5 rows × 29 columns</p>\n",
       "</div>"
      ]
     },
     "execution_count": 130,
     "metadata": {},
     "output_type": "execute_result"
    }
   ],
   "execution_count": 130
  },
  {
   "metadata": {
    "ExecuteTime": {
     "end_time": "2025-07-14T15:58:32.345204Z",
     "start_time": "2025-07-14T15:58:32.340101Z"
    }
   },
   "cell_type": "code",
   "source": "len(filtered_data)",
   "id": "22614d88a179bf02",
   "outputs": [
    {
     "data": {
      "text/plain": [
       "286620"
      ]
     },
     "execution_count": 11,
     "metadata": {},
     "output_type": "execute_result"
    }
   ],
   "execution_count": 11
  },
  {
   "metadata": {
    "ExecuteTime": {
     "end_time": "2025-07-14T15:58:34.124248Z",
     "start_time": "2025-07-14T15:58:34.094677Z"
    }
   },
   "cell_type": "code",
   "source": [
    "# Create a new dataframe with unique dates from `filtered_data`\n",
    "unique_dates_df = pd.DataFrame(filtered_data['date'].unique(), columns=['unique_dates'])\n",
    "unique_dates_df.head()"
   ],
   "id": "871b0d3f9b83283e",
   "outputs": [
    {
     "data": {
      "text/plain": [
       "  unique_dates\n",
       "0   2018-05-01\n",
       "1   2018-05-02\n",
       "2   2018-05-03\n",
       "3   2018-05-04\n",
       "4   2018-05-07"
      ],
      "text/html": [
       "<div>\n",
       "<style scoped>\n",
       "    .dataframe tbody tr th:only-of-type {\n",
       "        vertical-align: middle;\n",
       "    }\n",
       "\n",
       "    .dataframe tbody tr th {\n",
       "        vertical-align: top;\n",
       "    }\n",
       "\n",
       "    .dataframe thead th {\n",
       "        text-align: right;\n",
       "    }\n",
       "</style>\n",
       "<table border=\"1\" class=\"dataframe\">\n",
       "  <thead>\n",
       "    <tr style=\"text-align: right;\">\n",
       "      <th></th>\n",
       "      <th>unique_dates</th>\n",
       "    </tr>\n",
       "  </thead>\n",
       "  <tbody>\n",
       "    <tr>\n",
       "      <th>0</th>\n",
       "      <td>2018-05-01</td>\n",
       "    </tr>\n",
       "    <tr>\n",
       "      <th>1</th>\n",
       "      <td>2018-05-02</td>\n",
       "    </tr>\n",
       "    <tr>\n",
       "      <th>2</th>\n",
       "      <td>2018-05-03</td>\n",
       "    </tr>\n",
       "    <tr>\n",
       "      <th>3</th>\n",
       "      <td>2018-05-04</td>\n",
       "    </tr>\n",
       "    <tr>\n",
       "      <th>4</th>\n",
       "      <td>2018-05-07</td>\n",
       "    </tr>\n",
       "  </tbody>\n",
       "</table>\n",
       "</div>"
      ]
     },
     "execution_count": 12,
     "metadata": {},
     "output_type": "execute_result"
    }
   ],
   "execution_count": 12
  },
  {
   "metadata": {
    "ExecuteTime": {
     "end_time": "2025-07-14T15:58:36.369105Z",
     "start_time": "2025-07-14T15:58:36.363702Z"
    }
   },
   "cell_type": "code",
   "source": "len(unique_dates_df)",
   "id": "920880f86aa5306d",
   "outputs": [
    {
     "data": {
      "text/plain": [
       "1191"
      ]
     },
     "execution_count": 13,
     "metadata": {},
     "output_type": "execute_result"
    }
   ],
   "execution_count": 13
  },
  {
   "metadata": {
    "ExecuteTime": {
     "end_time": "2025-07-14T15:58:37.628229Z",
     "start_time": "2025-07-14T15:58:37.620936Z"
    }
   },
   "cell_type": "code",
   "source": "unique_dates_df.min()",
   "id": "fde01e9f96624f90",
   "outputs": [
    {
     "data": {
      "text/plain": [
       "unique_dates    2018-05-01\n",
       "dtype: object"
      ]
     },
     "execution_count": 14,
     "metadata": {},
     "output_type": "execute_result"
    }
   ],
   "execution_count": 14
  },
  {
   "metadata": {
    "ExecuteTime": {
     "end_time": "2025-07-14T15:58:39.363820Z",
     "start_time": "2025-07-14T15:58:39.357479Z"
    }
   },
   "cell_type": "code",
   "source": "unique_dates_df.max()",
   "id": "5087ff712992ff63",
   "outputs": [
    {
     "data": {
      "text/plain": [
       "unique_dates    2025-07-07\n",
       "dtype: object"
      ]
     },
     "execution_count": 15,
     "metadata": {},
     "output_type": "execute_result"
    }
   ],
   "execution_count": 15
  },
  {
   "metadata": {
    "ExecuteTime": {
     "end_time": "2025-07-14T15:58:44.323669Z",
     "start_time": "2025-07-14T15:58:44.314109Z"
    }
   },
   "cell_type": "code",
   "source": "df_1day = pd.read_csv('historical_daily_stockprice_GOOGL.csv')",
   "id": "d2e9d9651418037c",
   "outputs": [],
   "execution_count": 16
  },
  {
   "metadata": {
    "ExecuteTime": {
     "end_time": "2025-07-14T15:58:45.997234Z",
     "start_time": "2025-07-14T15:58:45.985620Z"
    }
   },
   "cell_type": "code",
   "source": "df_1day.head()",
   "id": "bc9392013715138e",
   "outputs": [
    {
     "data": {
      "text/plain": [
       "   Unnamed: 0    Datetime   Open   High    Low  Close    Volume\n",
       "0  2015-02-12  2015-02-12  26.99  27.42  26.85  27.30  32376000\n",
       "1  2015-02-13  2015-02-13  27.37  27.63  27.33  27.56  31054000\n",
       "2  2015-02-17  2015-02-17  27.56  27.65  27.16  27.25  25656000\n",
       "3  2015-02-18  2015-02-18  27.19  27.38  26.98  27.13  18654000\n",
       "4  2015-02-19  2015-02-19  27.12  27.34  27.04  27.32  18856000"
      ],
      "text/html": [
       "<div>\n",
       "<style scoped>\n",
       "    .dataframe tbody tr th:only-of-type {\n",
       "        vertical-align: middle;\n",
       "    }\n",
       "\n",
       "    .dataframe tbody tr th {\n",
       "        vertical-align: top;\n",
       "    }\n",
       "\n",
       "    .dataframe thead th {\n",
       "        text-align: right;\n",
       "    }\n",
       "</style>\n",
       "<table border=\"1\" class=\"dataframe\">\n",
       "  <thead>\n",
       "    <tr style=\"text-align: right;\">\n",
       "      <th></th>\n",
       "      <th>Unnamed: 0</th>\n",
       "      <th>Datetime</th>\n",
       "      <th>Open</th>\n",
       "      <th>High</th>\n",
       "      <th>Low</th>\n",
       "      <th>Close</th>\n",
       "      <th>Volume</th>\n",
       "    </tr>\n",
       "  </thead>\n",
       "  <tbody>\n",
       "    <tr>\n",
       "      <th>0</th>\n",
       "      <td>2015-02-12</td>\n",
       "      <td>2015-02-12</td>\n",
       "      <td>26.99</td>\n",
       "      <td>27.42</td>\n",
       "      <td>26.85</td>\n",
       "      <td>27.30</td>\n",
       "      <td>32376000</td>\n",
       "    </tr>\n",
       "    <tr>\n",
       "      <th>1</th>\n",
       "      <td>2015-02-13</td>\n",
       "      <td>2015-02-13</td>\n",
       "      <td>27.37</td>\n",
       "      <td>27.63</td>\n",
       "      <td>27.33</td>\n",
       "      <td>27.56</td>\n",
       "      <td>31054000</td>\n",
       "    </tr>\n",
       "    <tr>\n",
       "      <th>2</th>\n",
       "      <td>2015-02-17</td>\n",
       "      <td>2015-02-17</td>\n",
       "      <td>27.56</td>\n",
       "      <td>27.65</td>\n",
       "      <td>27.16</td>\n",
       "      <td>27.25</td>\n",
       "      <td>25656000</td>\n",
       "    </tr>\n",
       "    <tr>\n",
       "      <th>3</th>\n",
       "      <td>2015-02-18</td>\n",
       "      <td>2015-02-18</td>\n",
       "      <td>27.19</td>\n",
       "      <td>27.38</td>\n",
       "      <td>26.98</td>\n",
       "      <td>27.13</td>\n",
       "      <td>18654000</td>\n",
       "    </tr>\n",
       "    <tr>\n",
       "      <th>4</th>\n",
       "      <td>2015-02-19</td>\n",
       "      <td>2015-02-19</td>\n",
       "      <td>27.12</td>\n",
       "      <td>27.34</td>\n",
       "      <td>27.04</td>\n",
       "      <td>27.32</td>\n",
       "      <td>18856000</td>\n",
       "    </tr>\n",
       "  </tbody>\n",
       "</table>\n",
       "</div>"
      ]
     },
     "execution_count": 17,
     "metadata": {},
     "output_type": "execute_result"
    }
   ],
   "execution_count": 17
  },
  {
   "metadata": {
    "ExecuteTime": {
     "end_time": "2025-07-14T18:32:40.011904Z",
     "start_time": "2025-07-14T18:32:40.000329Z"
    }
   },
   "cell_type": "code",
   "source": "df_1day.tail(5)",
   "id": "e1828e5a4c723474",
   "outputs": [
    {
     "data": {
      "text/plain": [
       "            index  Unnamed: 0    Open    High     Low   Close    Volume\n",
       "Datetime                                                               \n",
       "2025-02-03   2508  2025-02-03  200.69  203.75  200.10  201.23  13889005\n",
       "2025-02-04   2509  2025-02-04  203.37  207.05  202.81  206.38  20598360\n",
       "2025-02-05   2510  2025-02-05  191.08  192.75  188.03  191.33  45225142\n",
       "2025-02-06   2511  2025-02-06  189.11  192.10  188.72  191.60  16542466\n",
       "2025-02-07   2512  2025-02-07  190.95  191.18  183.24  185.34  29121087"
      ],
      "text/html": [
       "<div>\n",
       "<style scoped>\n",
       "    .dataframe tbody tr th:only-of-type {\n",
       "        vertical-align: middle;\n",
       "    }\n",
       "\n",
       "    .dataframe tbody tr th {\n",
       "        vertical-align: top;\n",
       "    }\n",
       "\n",
       "    .dataframe thead th {\n",
       "        text-align: right;\n",
       "    }\n",
       "</style>\n",
       "<table border=\"1\" class=\"dataframe\">\n",
       "  <thead>\n",
       "    <tr style=\"text-align: right;\">\n",
       "      <th></th>\n",
       "      <th>index</th>\n",
       "      <th>Unnamed: 0</th>\n",
       "      <th>Open</th>\n",
       "      <th>High</th>\n",
       "      <th>Low</th>\n",
       "      <th>Close</th>\n",
       "      <th>Volume</th>\n",
       "    </tr>\n",
       "    <tr>\n",
       "      <th>Datetime</th>\n",
       "      <th></th>\n",
       "      <th></th>\n",
       "      <th></th>\n",
       "      <th></th>\n",
       "      <th></th>\n",
       "      <th></th>\n",
       "      <th></th>\n",
       "    </tr>\n",
       "  </thead>\n",
       "  <tbody>\n",
       "    <tr>\n",
       "      <th>2025-02-03</th>\n",
       "      <td>2508</td>\n",
       "      <td>2025-02-03</td>\n",
       "      <td>200.69</td>\n",
       "      <td>203.75</td>\n",
       "      <td>200.10</td>\n",
       "      <td>201.23</td>\n",
       "      <td>13889005</td>\n",
       "    </tr>\n",
       "    <tr>\n",
       "      <th>2025-02-04</th>\n",
       "      <td>2509</td>\n",
       "      <td>2025-02-04</td>\n",
       "      <td>203.37</td>\n",
       "      <td>207.05</td>\n",
       "      <td>202.81</td>\n",
       "      <td>206.38</td>\n",
       "      <td>20598360</td>\n",
       "    </tr>\n",
       "    <tr>\n",
       "      <th>2025-02-05</th>\n",
       "      <td>2510</td>\n",
       "      <td>2025-02-05</td>\n",
       "      <td>191.08</td>\n",
       "      <td>192.75</td>\n",
       "      <td>188.03</td>\n",
       "      <td>191.33</td>\n",
       "      <td>45225142</td>\n",
       "    </tr>\n",
       "    <tr>\n",
       "      <th>2025-02-06</th>\n",
       "      <td>2511</td>\n",
       "      <td>2025-02-06</td>\n",
       "      <td>189.11</td>\n",
       "      <td>192.10</td>\n",
       "      <td>188.72</td>\n",
       "      <td>191.60</td>\n",
       "      <td>16542466</td>\n",
       "    </tr>\n",
       "    <tr>\n",
       "      <th>2025-02-07</th>\n",
       "      <td>2512</td>\n",
       "      <td>2025-02-07</td>\n",
       "      <td>190.95</td>\n",
       "      <td>191.18</td>\n",
       "      <td>183.24</td>\n",
       "      <td>185.34</td>\n",
       "      <td>29121087</td>\n",
       "    </tr>\n",
       "  </tbody>\n",
       "</table>\n",
       "</div>"
      ]
     },
     "execution_count": 104,
     "metadata": {},
     "output_type": "execute_result"
    }
   ],
   "execution_count": 104
  },
  {
   "metadata": {
    "ExecuteTime": {
     "end_time": "2025-07-14T18:30:49.506828Z",
     "start_time": "2025-07-14T18:30:49.499738Z"
    }
   },
   "cell_type": "code",
   "source": [
    "# See how many rows have NaN values in any column of df_1day\n",
    "nan_rows_count = df_1day.isna().any(axis=1).sum()\n",
    "print(f\"Number of rows with NaN values in df_1day: {nan_rows_count}\")"
   ],
   "id": "df5809b061547ba1",
   "outputs": [
    {
     "name": "stdout",
     "output_type": "stream",
     "text": [
      "Number of rows with NaN values in df_1day: 0\n"
     ]
    }
   ],
   "execution_count": 103
  },
  {
   "metadata": {
    "ExecuteTime": {
     "end_time": "2025-07-14T15:58:48.350673Z",
     "start_time": "2025-07-14T15:58:48.129023Z"
    }
   },
   "cell_type": "code",
   "source": [
    "# Ensure the `df_1day` has a datetime index and volume column\n",
    "df_1day.reset_index(inplace=True)\n",
    "df_1day['Datetime'] = pd.to_datetime(df_1day['Datetime'])\n",
    "df_1day.set_index('Datetime', inplace=True)\n",
    "\n",
    "# Create an empty list to store 90-day average volumes\n",
    "records = []\n",
    "\n",
    "# Iterate over each date in unique_dates\n",
    "for target_date in pd.to_datetime(unique_dates_df['unique_dates']):\n",
    "    # Calculate the 90-day window for the target date\n",
    "    start_date = target_date - pd.Timedelta(days=90)\n",
    "\n",
    "    # Filter the data for the 90-day range\n",
    "    filtered_data = df_1day.loc[start_date:target_date]\n",
    "\n",
    "    # Calculate the average volume for the 90-day range\n",
    "    avg_volume = filtered_data['Volume'].mean()\n",
    "\n",
    "    # Store the result as a dictionary\n",
    "    records.append({\n",
    "        'date': target_date,\n",
    "        '90_day_avg_volume': avg_volume\n",
    "    })\n",
    "\n",
    "# Convert the list of records to a new DataFrame\n",
    "df_90DAV = pd.DataFrame(records)\n",
    "print(df_90DAV.head())"
   ],
   "id": "ee82220bae8650d5",
   "outputs": [
    {
     "name": "stdout",
     "output_type": "stream",
     "text": [
      "        date  90_day_avg_volume\n",
      "0 2018-05-01       2.546559e+07\n",
      "1 2018-05-02       2.547567e+07\n",
      "2 2018-05-03       2.535042e+07\n",
      "3 2018-05-04       2.468772e+07\n",
      "4 2018-05-07       2.428591e+07\n"
     ]
    }
   ],
   "execution_count": 18
  },
  {
   "metadata": {
    "ExecuteTime": {
     "end_time": "2025-07-14T18:19:23.488043Z",
     "start_time": "2025-07-14T18:19:23.474777Z"
    }
   },
   "cell_type": "code",
   "source": "df_90DAV.tail(90)",
   "id": "ee8023428e5e81ba",
   "outputs": [
    {
     "data": {
      "text/plain": [
       "           date  90_day_avg_volume\n",
       "1101 2024-10-22       1.323348e+07\n",
       "1102 2024-10-23       1.291758e+07\n",
       "1103 2024-10-24       1.268519e+07\n",
       "1104 2024-10-25       1.243832e+07\n",
       "1105 2024-10-28       1.255792e+07\n",
       "...         ...                ...\n",
       "1186 2025-06-27                NaN\n",
       "1187 2025-06-30                NaN\n",
       "1188 2025-07-01                NaN\n",
       "1189 2025-07-02                NaN\n",
       "1190 2025-07-07                NaN\n",
       "\n",
       "[90 rows x 2 columns]"
      ],
      "text/html": [
       "<div>\n",
       "<style scoped>\n",
       "    .dataframe tbody tr th:only-of-type {\n",
       "        vertical-align: middle;\n",
       "    }\n",
       "\n",
       "    .dataframe tbody tr th {\n",
       "        vertical-align: top;\n",
       "    }\n",
       "\n",
       "    .dataframe thead th {\n",
       "        text-align: right;\n",
       "    }\n",
       "</style>\n",
       "<table border=\"1\" class=\"dataframe\">\n",
       "  <thead>\n",
       "    <tr style=\"text-align: right;\">\n",
       "      <th></th>\n",
       "      <th>date</th>\n",
       "      <th>90_day_avg_volume</th>\n",
       "    </tr>\n",
       "  </thead>\n",
       "  <tbody>\n",
       "    <tr>\n",
       "      <th>1101</th>\n",
       "      <td>2024-10-22</td>\n",
       "      <td>1.323348e+07</td>\n",
       "    </tr>\n",
       "    <tr>\n",
       "      <th>1102</th>\n",
       "      <td>2024-10-23</td>\n",
       "      <td>1.291758e+07</td>\n",
       "    </tr>\n",
       "    <tr>\n",
       "      <th>1103</th>\n",
       "      <td>2024-10-24</td>\n",
       "      <td>1.268519e+07</td>\n",
       "    </tr>\n",
       "    <tr>\n",
       "      <th>1104</th>\n",
       "      <td>2024-10-25</td>\n",
       "      <td>1.243832e+07</td>\n",
       "    </tr>\n",
       "    <tr>\n",
       "      <th>1105</th>\n",
       "      <td>2024-10-28</td>\n",
       "      <td>1.255792e+07</td>\n",
       "    </tr>\n",
       "    <tr>\n",
       "      <th>...</th>\n",
       "      <td>...</td>\n",
       "      <td>...</td>\n",
       "    </tr>\n",
       "    <tr>\n",
       "      <th>1186</th>\n",
       "      <td>2025-06-27</td>\n",
       "      <td>NaN</td>\n",
       "    </tr>\n",
       "    <tr>\n",
       "      <th>1187</th>\n",
       "      <td>2025-06-30</td>\n",
       "      <td>NaN</td>\n",
       "    </tr>\n",
       "    <tr>\n",
       "      <th>1188</th>\n",
       "      <td>2025-07-01</td>\n",
       "      <td>NaN</td>\n",
       "    </tr>\n",
       "    <tr>\n",
       "      <th>1189</th>\n",
       "      <td>2025-07-02</td>\n",
       "      <td>NaN</td>\n",
       "    </tr>\n",
       "    <tr>\n",
       "      <th>1190</th>\n",
       "      <td>2025-07-07</td>\n",
       "      <td>NaN</td>\n",
       "    </tr>\n",
       "  </tbody>\n",
       "</table>\n",
       "<p>90 rows × 2 columns</p>\n",
       "</div>"
      ]
     },
     "execution_count": 102,
     "metadata": {},
     "output_type": "execute_result"
    }
   ],
   "execution_count": 102
  },
  {
   "metadata": {
    "ExecuteTime": {
     "end_time": "2025-07-14T19:37:46.629289Z",
     "start_time": "2025-07-14T19:37:46.621561Z"
    }
   },
   "cell_type": "code",
   "source": [
    "# See how many rows have NaN values in any column of df_1day\n",
    "nan_rows_count = df_90DAV.isna().any(axis=1).sum()\n",
    "print(f\"Number of rows with NaN values in df_90DAV: {nan_rows_count}\")"
   ],
   "id": "af26ad85cd52e088",
   "outputs": [
    {
     "name": "stdout",
     "output_type": "stream",
     "text": [
      "Number of rows with NaN values in df_90DAV: 38\n"
     ]
    }
   ],
   "execution_count": 105
  },
  {
   "metadata": {
    "ExecuteTime": {
     "end_time": "2025-07-14T20:12:51.041560Z",
     "start_time": "2025-07-14T20:12:51.026789Z"
    }
   },
   "cell_type": "code",
   "source": [
    "DAV_recent = pd.read_csv('recent_DAV.csv')\n",
    "DAV_recent.head()"
   ],
   "id": "364d9b8f1dd396c2",
   "outputs": [
    {
     "data": {
      "text/plain": [
       "     Datetime    Open    High     Low   Close     Volume  90_day_avg_volume\n",
       "0  2024-11-11  180.00  182.09  179.99  181.97  6448125.0       9.099486e+06\n",
       "1  2024-11-12  181.40  184.03  180.99  183.32  6770389.0       9.103671e+06\n",
       "2  2024-11-13  182.18  182.62  180.12  180.49  7539643.0       9.121775e+06\n",
       "3  2024-11-14  179.83  180.45  176.03  177.35  8424527.0       9.151068e+06\n",
       "4  2024-11-15  175.66  175.88  172.74  173.89  9737403.0       9.152488e+06"
      ],
      "text/html": [
       "<div>\n",
       "<style scoped>\n",
       "    .dataframe tbody tr th:only-of-type {\n",
       "        vertical-align: middle;\n",
       "    }\n",
       "\n",
       "    .dataframe tbody tr th {\n",
       "        vertical-align: top;\n",
       "    }\n",
       "\n",
       "    .dataframe thead th {\n",
       "        text-align: right;\n",
       "    }\n",
       "</style>\n",
       "<table border=\"1\" class=\"dataframe\">\n",
       "  <thead>\n",
       "    <tr style=\"text-align: right;\">\n",
       "      <th></th>\n",
       "      <th>Datetime</th>\n",
       "      <th>Open</th>\n",
       "      <th>High</th>\n",
       "      <th>Low</th>\n",
       "      <th>Close</th>\n",
       "      <th>Volume</th>\n",
       "      <th>90_day_avg_volume</th>\n",
       "    </tr>\n",
       "  </thead>\n",
       "  <tbody>\n",
       "    <tr>\n",
       "      <th>0</th>\n",
       "      <td>2024-11-11</td>\n",
       "      <td>180.00</td>\n",
       "      <td>182.09</td>\n",
       "      <td>179.99</td>\n",
       "      <td>181.97</td>\n",
       "      <td>6448125.0</td>\n",
       "      <td>9.099486e+06</td>\n",
       "    </tr>\n",
       "    <tr>\n",
       "      <th>1</th>\n",
       "      <td>2024-11-12</td>\n",
       "      <td>181.40</td>\n",
       "      <td>184.03</td>\n",
       "      <td>180.99</td>\n",
       "      <td>183.32</td>\n",
       "      <td>6770389.0</td>\n",
       "      <td>9.103671e+06</td>\n",
       "    </tr>\n",
       "    <tr>\n",
       "      <th>2</th>\n",
       "      <td>2024-11-13</td>\n",
       "      <td>182.18</td>\n",
       "      <td>182.62</td>\n",
       "      <td>180.12</td>\n",
       "      <td>180.49</td>\n",
       "      <td>7539643.0</td>\n",
       "      <td>9.121775e+06</td>\n",
       "    </tr>\n",
       "    <tr>\n",
       "      <th>3</th>\n",
       "      <td>2024-11-14</td>\n",
       "      <td>179.83</td>\n",
       "      <td>180.45</td>\n",
       "      <td>176.03</td>\n",
       "      <td>177.35</td>\n",
       "      <td>8424527.0</td>\n",
       "      <td>9.151068e+06</td>\n",
       "    </tr>\n",
       "    <tr>\n",
       "      <th>4</th>\n",
       "      <td>2024-11-15</td>\n",
       "      <td>175.66</td>\n",
       "      <td>175.88</td>\n",
       "      <td>172.74</td>\n",
       "      <td>173.89</td>\n",
       "      <td>9737403.0</td>\n",
       "      <td>9.152488e+06</td>\n",
       "    </tr>\n",
       "  </tbody>\n",
       "</table>\n",
       "</div>"
      ]
     },
     "execution_count": 107,
     "metadata": {},
     "output_type": "execute_result"
    }
   ],
   "execution_count": 107
  },
  {
   "metadata": {},
   "cell_type": "markdown",
   "source": "dont rerun these two cells it was one time preprocessing",
   "id": "c7a88f33bc6e70c0"
  },
  {
   "metadata": {
    "ExecuteTime": {
     "end_time": "2025-07-14T20:20:44.607162Z",
     "start_time": "2025-07-14T20:20:44.599434Z"
    }
   },
   "cell_type": "code",
   "source": [
    "\n",
    "# Get the last 38 indices where df_90DAV has NaNs in '90_day_avg_volume'\n",
    "last_38_indices = df_90DAV.tail(38).index\n",
    "\n",
    "# For these indices, get corresponding dates\n",
    "dates_to_fill = df_90DAV.loc[last_38_indices, 'date']"
   ],
   "id": "6edfd462bc2a2c32",
   "outputs": [],
   "execution_count": 109
  },
  {
   "metadata": {
    "ExecuteTime": {
     "end_time": "2025-07-14T20:20:47.917331Z",
     "start_time": "2025-07-14T20:20:47.908312Z"
    }
   },
   "cell_type": "code",
   "source": [
    "# Create a mapping from date -> 90_day_avg_volume from DAV_recent\n",
    "mapping = DAV_recent.set_index('Datetime')['90_day_avg_volume'].to_dict()\n",
    "\n",
    "# Replace NaNs in last 38 rows with corresponding values from DAV_recent\n",
    "for idx, dt in zip(last_38_indices, dates_to_fill):\n",
    "    if pd.isna(df_90DAV.at[idx, '90_day_avg_volume']):\n",
    "        # Fill from mapping if available\n",
    "        if dt in mapping:\n",
    "            df_90DAV.at[idx, '90_day_avg_volume'] = mapping[dt]"
   ],
   "id": "c703f90a59ba96b3",
   "outputs": [],
   "execution_count": 110
  },
  {
   "metadata": {
    "ExecuteTime": {
     "end_time": "2025-07-14T20:22:42.856522Z",
     "start_time": "2025-07-14T20:22:42.847467Z"
    }
   },
   "cell_type": "code",
   "source": "df_90DAV.tail(5)",
   "id": "862f585898bf69a6",
   "outputs": [
    {
     "data": {
      "text/plain": [
       "            date  90_day_avg_volume\n",
       "1186  2025-06-27       1.386807e+07\n",
       "1187  2025-06-30       1.405848e+07\n",
       "1188  2025-07-01       1.414019e+07\n",
       "1189  2025-07-02       1.414277e+07\n",
       "1190  2025-07-07       1.415933e+07"
      ],
      "text/html": [
       "<div>\n",
       "<style scoped>\n",
       "    .dataframe tbody tr th:only-of-type {\n",
       "        vertical-align: middle;\n",
       "    }\n",
       "\n",
       "    .dataframe tbody tr th {\n",
       "        vertical-align: top;\n",
       "    }\n",
       "\n",
       "    .dataframe thead th {\n",
       "        text-align: right;\n",
       "    }\n",
       "</style>\n",
       "<table border=\"1\" class=\"dataframe\">\n",
       "  <thead>\n",
       "    <tr style=\"text-align: right;\">\n",
       "      <th></th>\n",
       "      <th>date</th>\n",
       "      <th>90_day_avg_volume</th>\n",
       "    </tr>\n",
       "  </thead>\n",
       "  <tbody>\n",
       "    <tr>\n",
       "      <th>1186</th>\n",
       "      <td>2025-06-27</td>\n",
       "      <td>1.386807e+07</td>\n",
       "    </tr>\n",
       "    <tr>\n",
       "      <th>1187</th>\n",
       "      <td>2025-06-30</td>\n",
       "      <td>1.405848e+07</td>\n",
       "    </tr>\n",
       "    <tr>\n",
       "      <th>1188</th>\n",
       "      <td>2025-07-01</td>\n",
       "      <td>1.414019e+07</td>\n",
       "    </tr>\n",
       "    <tr>\n",
       "      <th>1189</th>\n",
       "      <td>2025-07-02</td>\n",
       "      <td>1.414277e+07</td>\n",
       "    </tr>\n",
       "    <tr>\n",
       "      <th>1190</th>\n",
       "      <td>2025-07-07</td>\n",
       "      <td>1.415933e+07</td>\n",
       "    </tr>\n",
       "  </tbody>\n",
       "</table>\n",
       "</div>"
      ]
     },
     "execution_count": 112,
     "metadata": {},
     "output_type": "execute_result"
    }
   ],
   "execution_count": 112
  },
  {
   "metadata": {},
   "cell_type": "markdown",
   "source": [
    "Missing trading days:\n",
    "[datetime.date(2022, 11, 25), datetime.date(2023, 5, 8), datetime.date(2023, 7, 3), datetime.date(2023, 11, 24), datetime.date(2024, 7, 3), datetime.date(2024, 11, 29), datetime.date(2024, 12, 24), datetime.date(2025, 7, 3)]"
   ],
   "id": "d3fa4d7b2890b1b5"
  },
  {
   "metadata": {
    "ExecuteTime": {
     "end_time": "2025-07-14T17:33:07.720745Z",
     "start_time": "2025-07-14T17:33:07.714967Z"
    }
   },
   "cell_type": "code",
   "source": [
    "D2 = datetime(2023,5,8)\n",
    "market_close = time(16,0,1)\n",
    "end_datetime = datetime.combine(D2, market_close)\n",
    "print(end_datetime)"
   ],
   "id": "18400806aba60e2e",
   "outputs": [
    {
     "name": "stdout",
     "output_type": "stream",
     "text": [
      "2023-05-08 16:00:01\n"
     ]
    }
   ],
   "execution_count": 55
  },
  {
   "metadata": {
    "ExecuteTime": {
     "end_time": "2025-07-14T17:33:10.351466Z",
     "start_time": "2025-07-14T17:33:09.971154Z"
    }
   },
   "cell_type": "code",
   "source": [
    "D2 = datetime(2023,5,8)\n",
    "market_close = time(16,0,1)\n",
    "end_datetime = datetime.combine(D2, market_close)\n",
    "print(end_datetime)\n",
    "\n",
    "from ib_insync import *\n",
    "import pandas as pd\n",
    "\n",
    "# Connect to TWS or IB Gateway (ensure it's running)\n",
    "ib = IB()\n",
    "await ib.connectAsync('127.0.0.1', 7497, clientId=13)  # use a unique clientId if needed\n",
    "\n",
    "# Define the contract (you can change the symbol here)\n",
    "contract = Stock('GOOG', 'SMART', 'USD')\n",
    "\n",
    "# Request 30 minutes of 1-second bars ending now\n",
    "bars = await ib.reqHistoricalDataAsync(\n",
    "    contract,\n",
    "    endDateTime=end_datetime.strftime('%Y%m%d %H:%M:%S'),                 # '' = now\n",
    "    durationStr='602 S',          # 1800 seconds = 30 minutes\n",
    "    barSizeSetting='1 secs',       # <-- 1-second bars\n",
    "    whatToShow='TRADES',\n",
    "    useRTH=False,                  # False = include pre/post market\n",
    "    formatDate=1\n",
    ")\n",
    "\n",
    "# Disconnect from IBKR\n",
    "ib.disconnect()\n",
    "\n",
    "# Convert to DataFrame\n",
    "new_df = util.df(bars)\n",
    "print(f\"✅ Retrieved {len(new_df)} 1-second bars\")\n",
    "display(new_df.head())\n"
   ],
   "id": "caf16331b1a75fe1",
   "outputs": [
    {
     "name": "stdout",
     "output_type": "stream",
     "text": [
      "✅ Retrieved 602 1-second bars\n"
     ]
    },
    {
     "data": {
      "text/plain": [
       "                       date    open    high     low   close   volume  average  \\\n",
       "0 2023-05-08 15:49:59-04:00  108.33  108.33  108.32  108.33    694.0  108.328   \n",
       "1 2023-05-08 15:50:00-04:00  108.34  108.39  108.33  108.36  15559.0  108.360   \n",
       "2 2023-05-08 15:50:01-04:00  108.37  108.37  108.36  108.36    981.0  108.361   \n",
       "3 2023-05-08 15:50:02-04:00  108.37  108.37  108.37  108.37    700.0  108.370   \n",
       "4 2023-05-08 15:50:03-04:00  108.38  108.39  108.38  108.39    546.0  108.385   \n",
       "\n",
       "   barCount  \n",
       "0         6  \n",
       "1        84  \n",
       "2         8  \n",
       "3         7  \n",
       "4         5  "
      ],
      "text/html": [
       "<div>\n",
       "<style scoped>\n",
       "    .dataframe tbody tr th:only-of-type {\n",
       "        vertical-align: middle;\n",
       "    }\n",
       "\n",
       "    .dataframe tbody tr th {\n",
       "        vertical-align: top;\n",
       "    }\n",
       "\n",
       "    .dataframe thead th {\n",
       "        text-align: right;\n",
       "    }\n",
       "</style>\n",
       "<table border=\"1\" class=\"dataframe\">\n",
       "  <thead>\n",
       "    <tr style=\"text-align: right;\">\n",
       "      <th></th>\n",
       "      <th>date</th>\n",
       "      <th>open</th>\n",
       "      <th>high</th>\n",
       "      <th>low</th>\n",
       "      <th>close</th>\n",
       "      <th>volume</th>\n",
       "      <th>average</th>\n",
       "      <th>barCount</th>\n",
       "    </tr>\n",
       "  </thead>\n",
       "  <tbody>\n",
       "    <tr>\n",
       "      <th>0</th>\n",
       "      <td>2023-05-08 15:49:59-04:00</td>\n",
       "      <td>108.33</td>\n",
       "      <td>108.33</td>\n",
       "      <td>108.32</td>\n",
       "      <td>108.33</td>\n",
       "      <td>694.0</td>\n",
       "      <td>108.328</td>\n",
       "      <td>6</td>\n",
       "    </tr>\n",
       "    <tr>\n",
       "      <th>1</th>\n",
       "      <td>2023-05-08 15:50:00-04:00</td>\n",
       "      <td>108.34</td>\n",
       "      <td>108.39</td>\n",
       "      <td>108.33</td>\n",
       "      <td>108.36</td>\n",
       "      <td>15559.0</td>\n",
       "      <td>108.360</td>\n",
       "      <td>84</td>\n",
       "    </tr>\n",
       "    <tr>\n",
       "      <th>2</th>\n",
       "      <td>2023-05-08 15:50:01-04:00</td>\n",
       "      <td>108.37</td>\n",
       "      <td>108.37</td>\n",
       "      <td>108.36</td>\n",
       "      <td>108.36</td>\n",
       "      <td>981.0</td>\n",
       "      <td>108.361</td>\n",
       "      <td>8</td>\n",
       "    </tr>\n",
       "    <tr>\n",
       "      <th>3</th>\n",
       "      <td>2023-05-08 15:50:02-04:00</td>\n",
       "      <td>108.37</td>\n",
       "      <td>108.37</td>\n",
       "      <td>108.37</td>\n",
       "      <td>108.37</td>\n",
       "      <td>700.0</td>\n",
       "      <td>108.370</td>\n",
       "      <td>7</td>\n",
       "    </tr>\n",
       "    <tr>\n",
       "      <th>4</th>\n",
       "      <td>2023-05-08 15:50:03-04:00</td>\n",
       "      <td>108.38</td>\n",
       "      <td>108.39</td>\n",
       "      <td>108.38</td>\n",
       "      <td>108.39</td>\n",
       "      <td>546.0</td>\n",
       "      <td>108.385</td>\n",
       "      <td>5</td>\n",
       "    </tr>\n",
       "  </tbody>\n",
       "</table>\n",
       "</div>"
      ]
     },
     "metadata": {},
     "output_type": "display_data"
    }
   ],
   "execution_count": 56
  },
  {
   "metadata": {
    "ExecuteTime": {
     "end_time": "2025-07-14T17:33:18.447560Z",
     "start_time": "2025-07-14T17:33:18.439928Z"
    }
   },
   "cell_type": "code",
   "source": "print(new_df.tail(3))",
   "id": "ca7c7f0cb89dca7d",
   "outputs": [
    {
     "name": "stdout",
     "output_type": "stream",
     "text": [
      "                         date    open    high     low   close     volume  \\\n",
      "599 2023-05-08 15:59:58-04:00  108.21  108.22  108.21  108.22     8364.0   \n",
      "600 2023-05-08 15:59:59-04:00  108.22  108.23  108.22  108.23    29121.0   \n",
      "601 2023-05-08 16:00:00-04:00  108.24  108.24  108.20  108.24  1160895.0   \n",
      "\n",
      "     average  barCount  \n",
      "599  108.219        18  \n",
      "600  108.228        79  \n",
      "601  108.240        18  \n"
     ]
    }
   ],
   "execution_count": 57
  },
  {
   "metadata": {},
   "cell_type": "code",
   "source": [
    "from ib_insync import *\n",
    "import pandas as pd\n",
    "from datetime import datetime, timedelta, time\n",
    "import pytz\n",
    "import asyncio\n",
    "import pandas_market_calendars as mcal\n",
    "\n",
    "# Step 1: Connect to IBKR\n",
    "ib = IB()\n",
    "await ib.connectAsync('127.0.0.1', 7497, clientId=19)\n",
    "\n",
    "# Step 2: Define timezone and trading calendar\n",
    "#eastern = pytz.timezone('US/Eastern')\n",
    "market_close = time(16,0,1)\n",
    "start_cutoff = datetime(2022, 7, 1).date()\n",
    "end_cutoff = datetime(2025, 7, 7).date()\n",
    "#today = datetime.now(tz=eastern).date()\n",
    "\n",
    "# Step 3: Get valid NYSE trading days\n",
    "nyse = mcal.get_calendar('NYSE')\n",
    "schedule = nyse.schedule(start_date=start_cutoff, end_date=end_cutoff)\n",
    "valid_dates = list(schedule.index.date)[::-1]  # Reverse for backward loop\n",
    "\n",
    "# Step 4: Request loop\n",
    "all_data = []\n",
    "\n",
    "contract = Stock('GOOG', 'SMART', 'USD')\n",
    "\n",
    "for trading_day in valid_dates:\n",
    "    # Compose datetime ending at 4:00 PM\n",
    "    print(f\"the trading_day is: {trading_day}\")\n",
    "    end_dt = datetime.combine(trading_day, market_close_time)\n",
    "    print(f\"the end_dt is: {end_dt}\")\n",
    "    # end_dt_eastern = eastern.localize(end_dt)\n",
    "    # print(f\"the end_dt_eastern is: {end_dt_eastern}\")\n",
    "    # print(f\"the UTC is: {end_dt_eastern.astimezone(pytz.utc)}\")\n",
    "\n",
    "    try:\n",
    "        print(f\"⏳ Requesting {trading_day}...\")\n",
    "        bars = await ib.reqHistoricalDataAsync(\n",
    "            contract,\n",
    "            endDateTime=end_dt.strftime('%Y%m%d %H:%M:%S'),\n",
    "            durationStr='602 S',               # 10 minutes = 3:50PM to 4:00PM\n",
    "            barSizeSetting='1 secs',\n",
    "            whatToShow='TRADES',\n",
    "            useRTH=True,                       # Only regular trading hours\n",
    "            formatDate=1\n",
    "        )\n",
    "\n",
    "        if bars:\n",
    "            df = util.df(bars)\n",
    "            #display(df.head())\n",
    "            if not df.empty and df['date'].iloc[1].time() >= time(15,49,59):\n",
    "                print(f\"✅ {trading_day}: {len(df)} rows\")\n",
    "                df['date'] = pd.to_datetime(df['date']).dt.tz_localize(None)\n",
    "                df['day'] = trading_day\n",
    "                all_data.append(df)\n",
    "            else:\n",
    "                print(f\"⚠️ {trading_day}: No data or market closed early\")\n",
    "        else:\n",
    "            print(f\"bars is empty for {trading_day}\")\n",
    "    except Exception as e:\n",
    "        print(f\"❌ Error on {trading_day}: {e}\")\n",
    "\n",
    "    await asyncio.sleep(11)  # Respect IBKR rate limits\n",
    "\n",
    "# Step 5: Disconnect\n",
    "ib.disconnect()\n",
    "\n",
    "# Step 6: Combine and Save\n",
    "final_df = pd.concat(all_data)\n",
    "print(f\"\\n📊 Final dataset contains {len(final_df)} rows across {final_df['day'].nunique()} trading days\")\n",
    "final_df.reset_index(drop=True, inplace=True)\n",
    "final_df.to_csv(\"GOOG_1s_3_50PM_to_4_00PM.csv\", index=False)\n"
   ],
   "id": "8f9f789e03a0fc8e",
   "outputs": [],
   "execution_count": null
  },
  {
   "metadata": {},
   "cell_type": "code",
   "source": "ib.disconnect()",
   "id": "90c4199c6ca8d80e",
   "outputs": [],
   "execution_count": null
  },
  {
   "metadata": {},
   "cell_type": "code",
   "source": "final_df.head()",
   "id": "89efafc989ab1721",
   "outputs": [],
   "execution_count": null
  },
  {
   "metadata": {},
   "cell_type": "markdown",
   "source": "Some more preprocessing TBD for 3 years of data",
   "id": "466cd6a13fcc7479"
  },
  {
   "metadata": {
    "ExecuteTime": {
     "end_time": "2025-07-14T18:04:03.132001Z",
     "start_time": "2025-07-14T18:04:02.439975Z"
    }
   },
   "cell_type": "code",
   "source": "df_1sec = pd.read_csv('GOOG_1s_3_50PM_to_4_00PM_1.csv')",
   "id": "361b1c636847c857",
   "outputs": [],
   "execution_count": 86
  },
  {
   "metadata": {
    "ExecuteTime": {
     "end_time": "2025-07-14T20:24:13.868751Z",
     "start_time": "2025-07-14T20:24:13.856220Z"
    }
   },
   "cell_type": "code",
   "source": "df_1sec.head()",
   "id": "ed068e8da5a7d9ef",
   "outputs": [
    {
     "data": {
      "text/plain": [
       "                  date    open    high     low   close   volume  average  \\\n",
       "0  2025-07-11 15:49:58  181.57  181.57  181.57  181.57    100.0  181.570   \n",
       "1  2025-07-11 15:49:59  181.57  181.57  181.57  181.57    100.0  181.570   \n",
       "2  2025-07-11 15:50:00  181.56  181.59  181.48  181.55  13846.0  181.537   \n",
       "3  2025-07-11 15:50:01  181.56  181.57  181.55  181.55   1608.0  181.562   \n",
       "4  2025-07-11 15:50:02  181.53  181.53  181.51  181.52   1100.0  181.524   \n",
       "\n",
       "   barCount         day  \n",
       "0         1  2025-07-11  \n",
       "1         1  2025-07-11  \n",
       "2       129  2025-07-11  \n",
       "3        16  2025-07-11  \n",
       "4         8  2025-07-11  "
      ],
      "text/html": [
       "<div>\n",
       "<style scoped>\n",
       "    .dataframe tbody tr th:only-of-type {\n",
       "        vertical-align: middle;\n",
       "    }\n",
       "\n",
       "    .dataframe tbody tr th {\n",
       "        vertical-align: top;\n",
       "    }\n",
       "\n",
       "    .dataframe thead th {\n",
       "        text-align: right;\n",
       "    }\n",
       "</style>\n",
       "<table border=\"1\" class=\"dataframe\">\n",
       "  <thead>\n",
       "    <tr style=\"text-align: right;\">\n",
       "      <th></th>\n",
       "      <th>date</th>\n",
       "      <th>open</th>\n",
       "      <th>high</th>\n",
       "      <th>low</th>\n",
       "      <th>close</th>\n",
       "      <th>volume</th>\n",
       "      <th>average</th>\n",
       "      <th>barCount</th>\n",
       "      <th>day</th>\n",
       "    </tr>\n",
       "  </thead>\n",
       "  <tbody>\n",
       "    <tr>\n",
       "      <th>0</th>\n",
       "      <td>2025-07-11 15:49:58</td>\n",
       "      <td>181.57</td>\n",
       "      <td>181.57</td>\n",
       "      <td>181.57</td>\n",
       "      <td>181.57</td>\n",
       "      <td>100.0</td>\n",
       "      <td>181.570</td>\n",
       "      <td>1</td>\n",
       "      <td>2025-07-11</td>\n",
       "    </tr>\n",
       "    <tr>\n",
       "      <th>1</th>\n",
       "      <td>2025-07-11 15:49:59</td>\n",
       "      <td>181.57</td>\n",
       "      <td>181.57</td>\n",
       "      <td>181.57</td>\n",
       "      <td>181.57</td>\n",
       "      <td>100.0</td>\n",
       "      <td>181.570</td>\n",
       "      <td>1</td>\n",
       "      <td>2025-07-11</td>\n",
       "    </tr>\n",
       "    <tr>\n",
       "      <th>2</th>\n",
       "      <td>2025-07-11 15:50:00</td>\n",
       "      <td>181.56</td>\n",
       "      <td>181.59</td>\n",
       "      <td>181.48</td>\n",
       "      <td>181.55</td>\n",
       "      <td>13846.0</td>\n",
       "      <td>181.537</td>\n",
       "      <td>129</td>\n",
       "      <td>2025-07-11</td>\n",
       "    </tr>\n",
       "    <tr>\n",
       "      <th>3</th>\n",
       "      <td>2025-07-11 15:50:01</td>\n",
       "      <td>181.56</td>\n",
       "      <td>181.57</td>\n",
       "      <td>181.55</td>\n",
       "      <td>181.55</td>\n",
       "      <td>1608.0</td>\n",
       "      <td>181.562</td>\n",
       "      <td>16</td>\n",
       "      <td>2025-07-11</td>\n",
       "    </tr>\n",
       "    <tr>\n",
       "      <th>4</th>\n",
       "      <td>2025-07-11 15:50:02</td>\n",
       "      <td>181.53</td>\n",
       "      <td>181.53</td>\n",
       "      <td>181.51</td>\n",
       "      <td>181.52</td>\n",
       "      <td>1100.0</td>\n",
       "      <td>181.524</td>\n",
       "      <td>8</td>\n",
       "      <td>2025-07-11</td>\n",
       "    </tr>\n",
       "  </tbody>\n",
       "</table>\n",
       "</div>"
      ]
     },
     "execution_count": 113,
     "metadata": {},
     "output_type": "execute_result"
    }
   ],
   "execution_count": 113
  },
  {
   "metadata": {
    "ExecuteTime": {
     "end_time": "2025-07-14T20:24:32.069824Z",
     "start_time": "2025-07-14T20:24:32.053643Z"
    }
   },
   "cell_type": "code",
   "source": "df_1sec.tail()",
   "id": "2eddb3e53aaae649",
   "outputs": [
    {
     "data": {
      "text/plain": [
       "                             date    open    high     low   close     volume  \\\n",
       "452699  2023-05-08 15:59:56-04:00  108.22  108.23  108.21  108.23    13324.0   \n",
       "452700  2023-05-08 15:59:57-04:00  108.22  108.23  108.21  108.21     7259.0   \n",
       "452701  2023-05-08 15:59:58-04:00  108.21  108.22  108.21  108.22     8364.0   \n",
       "452702  2023-05-08 15:59:59-04:00  108.22  108.23  108.22  108.23    29121.0   \n",
       "452703  2023-05-08 16:00:00-04:00  108.24  108.24  108.20  108.24  1160895.0   \n",
       "\n",
       "        average  barCount         day  \n",
       "452699  108.217        53  2023-05-08  \n",
       "452700  108.217        35  2023-05-08  \n",
       "452701  108.219        18  2023-05-08  \n",
       "452702  108.228        79  2023-05-08  \n",
       "452703  108.240        18  2023-05-08  "
      ],
      "text/html": [
       "<div>\n",
       "<style scoped>\n",
       "    .dataframe tbody tr th:only-of-type {\n",
       "        vertical-align: middle;\n",
       "    }\n",
       "\n",
       "    .dataframe tbody tr th {\n",
       "        vertical-align: top;\n",
       "    }\n",
       "\n",
       "    .dataframe thead th {\n",
       "        text-align: right;\n",
       "    }\n",
       "</style>\n",
       "<table border=\"1\" class=\"dataframe\">\n",
       "  <thead>\n",
       "    <tr style=\"text-align: right;\">\n",
       "      <th></th>\n",
       "      <th>date</th>\n",
       "      <th>open</th>\n",
       "      <th>high</th>\n",
       "      <th>low</th>\n",
       "      <th>close</th>\n",
       "      <th>volume</th>\n",
       "      <th>average</th>\n",
       "      <th>barCount</th>\n",
       "      <th>day</th>\n",
       "    </tr>\n",
       "  </thead>\n",
       "  <tbody>\n",
       "    <tr>\n",
       "      <th>452699</th>\n",
       "      <td>2023-05-08 15:59:56-04:00</td>\n",
       "      <td>108.22</td>\n",
       "      <td>108.23</td>\n",
       "      <td>108.21</td>\n",
       "      <td>108.23</td>\n",
       "      <td>13324.0</td>\n",
       "      <td>108.217</td>\n",
       "      <td>53</td>\n",
       "      <td>2023-05-08</td>\n",
       "    </tr>\n",
       "    <tr>\n",
       "      <th>452700</th>\n",
       "      <td>2023-05-08 15:59:57-04:00</td>\n",
       "      <td>108.22</td>\n",
       "      <td>108.23</td>\n",
       "      <td>108.21</td>\n",
       "      <td>108.21</td>\n",
       "      <td>7259.0</td>\n",
       "      <td>108.217</td>\n",
       "      <td>35</td>\n",
       "      <td>2023-05-08</td>\n",
       "    </tr>\n",
       "    <tr>\n",
       "      <th>452701</th>\n",
       "      <td>2023-05-08 15:59:58-04:00</td>\n",
       "      <td>108.21</td>\n",
       "      <td>108.22</td>\n",
       "      <td>108.21</td>\n",
       "      <td>108.22</td>\n",
       "      <td>8364.0</td>\n",
       "      <td>108.219</td>\n",
       "      <td>18</td>\n",
       "      <td>2023-05-08</td>\n",
       "    </tr>\n",
       "    <tr>\n",
       "      <th>452702</th>\n",
       "      <td>2023-05-08 15:59:59-04:00</td>\n",
       "      <td>108.22</td>\n",
       "      <td>108.23</td>\n",
       "      <td>108.22</td>\n",
       "      <td>108.23</td>\n",
       "      <td>29121.0</td>\n",
       "      <td>108.228</td>\n",
       "      <td>79</td>\n",
       "      <td>2023-05-08</td>\n",
       "    </tr>\n",
       "    <tr>\n",
       "      <th>452703</th>\n",
       "      <td>2023-05-08 16:00:00-04:00</td>\n",
       "      <td>108.24</td>\n",
       "      <td>108.24</td>\n",
       "      <td>108.20</td>\n",
       "      <td>108.24</td>\n",
       "      <td>1160895.0</td>\n",
       "      <td>108.240</td>\n",
       "      <td>18</td>\n",
       "      <td>2023-05-08</td>\n",
       "    </tr>\n",
       "  </tbody>\n",
       "</table>\n",
       "</div>"
      ]
     },
     "execution_count": 114,
     "metadata": {},
     "output_type": "execute_result"
    }
   ],
   "execution_count": 114
  },
  {
   "metadata": {
    "ExecuteTime": {
     "end_time": "2025-07-14T18:04:07.504240Z",
     "start_time": "2025-07-14T18:04:07.499491Z"
    }
   },
   "cell_type": "code",
   "source": [
    "import pandas as pd\n",
    "import pandas_market_calendars as mcal\n"
   ],
   "id": "995de45f19ba85e5",
   "outputs": [],
   "execution_count": 88
  },
  {
   "metadata": {
    "ExecuteTime": {
     "end_time": "2025-07-14T18:04:14.518350Z",
     "start_time": "2025-07-14T18:04:13.826139Z"
    }
   },
   "cell_type": "code",
   "source": [
    "df_1sec['day'] = pd.to_datetime(df_1sec['day'])\n",
    "df_1sec['day'] = df_1sec['day'].dt.date\n",
    "data_dates = pd.Series(df_1sec['day'].unique()).sort_values()\n",
    "\n",
    "# Get actual NYSE trading days\n",
    "nyse = mcal.get_calendar('NYSE')\n",
    "schedule = nyse.schedule(start_date='2022-07-01', end_date='2025-07-11')\n",
    "expected_dates = schedule.index.date  # These are confirmed trading days\n",
    "\n",
    "# Compare\n",
    "missing_dates = sorted(set(expected_dates) - set(data_dates))\n",
    "extra_dates = sorted(set(data_dates) - set(expected_dates))\n",
    "\n",
    "# Output\n",
    "print(f\"Total expected NYSE trading days: {len(expected_dates)}\")\n",
    "print(f\"Total unique trading days in your data: {len(data_dates)}\")\n",
    "print(\"\\nMissing trading days:\")\n",
    "print(missing_dates)\n",
    "\n",
    "print(\"\\nExtra/unexpected trading days in your data:\")\n",
    "print(extra_dates)\n"
   ],
   "id": "53f1229140de815d",
   "outputs": [
    {
     "name": "stdout",
     "output_type": "stream",
     "text": [
      "Total expected NYSE trading days: 759\n",
      "Total unique trading days in your data: 752\n",
      "\n",
      "Missing trading days:\n",
      "[datetime.date(2022, 11, 25), datetime.date(2023, 7, 3), datetime.date(2023, 11, 24), datetime.date(2024, 7, 3), datetime.date(2024, 11, 29), datetime.date(2024, 12, 24), datetime.date(2025, 7, 3)]\n",
      "\n",
      "Extra/unexpected trading days in your data:\n",
      "[]\n"
     ]
    }
   ],
   "execution_count": 89
  },
  {
   "metadata": {
    "ExecuteTime": {
     "end_time": "2025-07-14T18:14:11.181019Z",
     "start_time": "2025-07-14T18:14:11.175476Z"
    }
   },
   "cell_type": "code",
   "source": "early_close_dates = [datetime.date(2022, 11, 25), datetime.date(2023, 7, 3), datetime.date(2023, 11, 24), datetime.date(2024, 7, 3), datetime.date(2024, 11, 29), datetime.date(2024, 12, 24), datetime.date(2025, 7, 3)]",
   "id": "a29043829c3b9932",
   "outputs": [],
   "execution_count": 94
  },
  {
   "metadata": {
    "ExecuteTime": {
     "end_time": "2025-07-14T18:14:47.606418Z",
     "start_time": "2025-07-14T18:14:47.581778Z"
    }
   },
   "cell_type": "code",
   "source": [
    "# Check for matching dates\n",
    "matched_dates = unique_dates_df[unique_dates_df['unique_dates'].isin(early_close_dates)]\n",
    "\n",
    "# Output result\n",
    "print(f\"Found {len(matched_dates)} early close dates in unique_dates_df:\")\n",
    "print(matched_dates)"
   ],
   "id": "21541b61cee9d0c6",
   "outputs": [
    {
     "name": "stdout",
     "output_type": "stream",
     "text": [
      "Found 0 early close dates in unique_dates_df:\n",
      "Empty DataFrame\n",
      "Columns: [unique_dates]\n",
      "Index: []\n"
     ]
    }
   ],
   "execution_count": 95
  },
  {
   "metadata": {
    "ExecuteTime": {
     "end_time": "2025-07-14T18:16:27.872858Z",
     "start_time": "2025-07-14T18:16:27.857522Z"
    }
   },
   "cell_type": "code",
   "source": "df_1sec.head()",
   "id": "35b3ae3bf5667ebb",
   "outputs": [
    {
     "data": {
      "text/plain": [
       "                  date    open    high     low   close   volume  average  \\\n",
       "0  2025-07-11 15:49:58  181.57  181.57  181.57  181.57    100.0  181.570   \n",
       "1  2025-07-11 15:49:59  181.57  181.57  181.57  181.57    100.0  181.570   \n",
       "2  2025-07-11 15:50:00  181.56  181.59  181.48  181.55  13846.0  181.537   \n",
       "3  2025-07-11 15:50:01  181.56  181.57  181.55  181.55   1608.0  181.562   \n",
       "4  2025-07-11 15:50:02  181.53  181.53  181.51  181.52   1100.0  181.524   \n",
       "\n",
       "   barCount         day  \n",
       "0         1  2025-07-11  \n",
       "1         1  2025-07-11  \n",
       "2       129  2025-07-11  \n",
       "3        16  2025-07-11  \n",
       "4         8  2025-07-11  "
      ],
      "text/html": [
       "<div>\n",
       "<style scoped>\n",
       "    .dataframe tbody tr th:only-of-type {\n",
       "        vertical-align: middle;\n",
       "    }\n",
       "\n",
       "    .dataframe tbody tr th {\n",
       "        vertical-align: top;\n",
       "    }\n",
       "\n",
       "    .dataframe thead th {\n",
       "        text-align: right;\n",
       "    }\n",
       "</style>\n",
       "<table border=\"1\" class=\"dataframe\">\n",
       "  <thead>\n",
       "    <tr style=\"text-align: right;\">\n",
       "      <th></th>\n",
       "      <th>date</th>\n",
       "      <th>open</th>\n",
       "      <th>high</th>\n",
       "      <th>low</th>\n",
       "      <th>close</th>\n",
       "      <th>volume</th>\n",
       "      <th>average</th>\n",
       "      <th>barCount</th>\n",
       "      <th>day</th>\n",
       "    </tr>\n",
       "  </thead>\n",
       "  <tbody>\n",
       "    <tr>\n",
       "      <th>0</th>\n",
       "      <td>2025-07-11 15:49:58</td>\n",
       "      <td>181.57</td>\n",
       "      <td>181.57</td>\n",
       "      <td>181.57</td>\n",
       "      <td>181.57</td>\n",
       "      <td>100.0</td>\n",
       "      <td>181.570</td>\n",
       "      <td>1</td>\n",
       "      <td>2025-07-11</td>\n",
       "    </tr>\n",
       "    <tr>\n",
       "      <th>1</th>\n",
       "      <td>2025-07-11 15:49:59</td>\n",
       "      <td>181.57</td>\n",
       "      <td>181.57</td>\n",
       "      <td>181.57</td>\n",
       "      <td>181.57</td>\n",
       "      <td>100.0</td>\n",
       "      <td>181.570</td>\n",
       "      <td>1</td>\n",
       "      <td>2025-07-11</td>\n",
       "    </tr>\n",
       "    <tr>\n",
       "      <th>2</th>\n",
       "      <td>2025-07-11 15:50:00</td>\n",
       "      <td>181.56</td>\n",
       "      <td>181.59</td>\n",
       "      <td>181.48</td>\n",
       "      <td>181.55</td>\n",
       "      <td>13846.0</td>\n",
       "      <td>181.537</td>\n",
       "      <td>129</td>\n",
       "      <td>2025-07-11</td>\n",
       "    </tr>\n",
       "    <tr>\n",
       "      <th>3</th>\n",
       "      <td>2025-07-11 15:50:01</td>\n",
       "      <td>181.56</td>\n",
       "      <td>181.57</td>\n",
       "      <td>181.55</td>\n",
       "      <td>181.55</td>\n",
       "      <td>1608.0</td>\n",
       "      <td>181.562</td>\n",
       "      <td>16</td>\n",
       "      <td>2025-07-11</td>\n",
       "    </tr>\n",
       "    <tr>\n",
       "      <th>4</th>\n",
       "      <td>2025-07-11 15:50:02</td>\n",
       "      <td>181.53</td>\n",
       "      <td>181.53</td>\n",
       "      <td>181.51</td>\n",
       "      <td>181.52</td>\n",
       "      <td>1100.0</td>\n",
       "      <td>181.524</td>\n",
       "      <td>8</td>\n",
       "      <td>2025-07-11</td>\n",
       "    </tr>\n",
       "  </tbody>\n",
       "</table>\n",
       "</div>"
      ]
     },
     "execution_count": 96,
     "metadata": {},
     "output_type": "execute_result"
    }
   ],
   "execution_count": 96
  },
  {
   "metadata": {
    "ExecuteTime": {
     "end_time": "2025-07-14T20:25:22.849076Z",
     "start_time": "2025-07-14T20:25:22.794856Z"
    }
   },
   "cell_type": "code",
   "source": "counts = df_1sec.groupby('day').size()",
   "id": "6bc90b0eb9d22e2c",
   "outputs": [],
   "execution_count": 115
  },
  {
   "metadata": {
    "ExecuteTime": {
     "end_time": "2025-07-14T20:25:24.308762Z",
     "start_time": "2025-07-14T20:25:24.299117Z"
    }
   },
   "cell_type": "code",
   "source": [
    "# Check if each trading day has exactly 601 seconds of data\n",
    "count_600 = counts[counts == 600]\n",
    "count_601 = counts[counts == 601]\n",
    "count_602 = counts[counts == 602]\n",
    "incorrect_counts = counts[counts != 602]\n",
    "print(f\"600-second : {len(count_600)}, 601-second : {len(count_601)}, 602-second : {len(count_602)}\")\n",
    "print(f\"\\n🧮 Number of days with incorrect number of rows: {len(incorrect_counts)}\")\n",
    "if not incorrect_counts.empty:\n",
    "    print(\"\\nDays with incorrect row count (should be 601):\")\n",
    "    print(incorrect_counts)\n"
   ],
   "id": "8a099850d86687f2",
   "outputs": [
    {
     "name": "stdout",
     "output_type": "stream",
     "text": [
      "600-second : 0, 601-second : 0, 602-second : 752\n",
      "\n",
      "🧮 Number of days with incorrect number of rows: 0\n"
     ]
    }
   ],
   "execution_count": 116
  },
  {
   "metadata": {
    "ExecuteTime": {
     "end_time": "2025-07-14T20:30:05.426761Z",
     "start_time": "2025-07-14T20:30:05.341067Z"
    }
   },
   "cell_type": "code",
   "source": "df_imbalance = filtered_data.copy()",
   "id": "5e211779b24b38e3",
   "outputs": [],
   "execution_count": 131
  },
  {
   "metadata": {
    "ExecuteTime": {
     "end_time": "2025-07-14T20:30:06.800883Z",
     "start_time": "2025-07-14T20:30:06.779642Z"
    }
   },
   "cell_type": "code",
   "source": "df_imbalance.head()",
   "id": "fa2ef06de14ff231",
   "outputs": [
    {
     "data": {
      "text/plain": [
       "                                ts_recv                            ts_event  \\\n",
       "20  2018-05-01 15:50:00.232608214-04:00 2018-05-01 19:50:00.232589664+00:00   \n",
       "21  2018-05-01 15:50:05.039544060-04:00 2018-05-01 19:50:05.039530238+00:00   \n",
       "22  2018-05-01 15:50:10.081168197-04:00 2018-05-01 19:50:10.081156561+00:00   \n",
       "23  2018-05-01 15:50:15.063046686-04:00 2018-05-01 19:50:15.063035041+00:00   \n",
       "24  2018-05-01 15:50:20.117362819-04:00 2018-05-01 19:50:20.117352268+00:00   \n",
       "\n",
       "    rtype  publisher_id  instrument_id  ref_price  auction_time  \\\n",
       "20     20             2           3363    1037.99             0   \n",
       "21     20             2           3363    1038.86             0   \n",
       "22     20             2           3363    1039.11             0   \n",
       "23     20             2           3363    1039.11             0   \n",
       "24     20             2           3363    1039.00             0   \n",
       "\n",
       "    cont_book_clr_price  auct_interest_clr_price  ssr_filling_price  ...  \\\n",
       "20              1066.62                  1087.50                0.0  ...   \n",
       "21              1042.28                  1048.04                0.0  ...   \n",
       "22              1042.28                  1048.04                0.0  ...   \n",
       "23              1042.25                  1048.04                0.0  ...   \n",
       "24              1042.20                  1048.04                0.0  ...   \n",
       "\n",
       "    auction_status  freeze_status  num_extensions  unpaired_side  \\\n",
       "20               0              0               0              N   \n",
       "21               0              0               0              N   \n",
       "22               0              0               0              N   \n",
       "23               0              0               0              N   \n",
       "24               0              0               0              N   \n",
       "\n",
       "    significant_imbalance  symbol        date minutes seconds  subseconds  \n",
       "20                      2   GOOGL  2018-05-01       0       0    0.232589  \n",
       "21                      L   GOOGL  2018-05-01       0       5    0.039530  \n",
       "22                      L   GOOGL  2018-05-01       0      10    0.081156  \n",
       "23                      L   GOOGL  2018-05-01       0      15    0.063035  \n",
       "24                      L   GOOGL  2018-05-01       0      20    0.117352  \n",
       "\n",
       "[5 rows x 29 columns]"
      ],
      "text/html": [
       "<div>\n",
       "<style scoped>\n",
       "    .dataframe tbody tr th:only-of-type {\n",
       "        vertical-align: middle;\n",
       "    }\n",
       "\n",
       "    .dataframe tbody tr th {\n",
       "        vertical-align: top;\n",
       "    }\n",
       "\n",
       "    .dataframe thead th {\n",
       "        text-align: right;\n",
       "    }\n",
       "</style>\n",
       "<table border=\"1\" class=\"dataframe\">\n",
       "  <thead>\n",
       "    <tr style=\"text-align: right;\">\n",
       "      <th></th>\n",
       "      <th>ts_recv</th>\n",
       "      <th>ts_event</th>\n",
       "      <th>rtype</th>\n",
       "      <th>publisher_id</th>\n",
       "      <th>instrument_id</th>\n",
       "      <th>ref_price</th>\n",
       "      <th>auction_time</th>\n",
       "      <th>cont_book_clr_price</th>\n",
       "      <th>auct_interest_clr_price</th>\n",
       "      <th>ssr_filling_price</th>\n",
       "      <th>...</th>\n",
       "      <th>auction_status</th>\n",
       "      <th>freeze_status</th>\n",
       "      <th>num_extensions</th>\n",
       "      <th>unpaired_side</th>\n",
       "      <th>significant_imbalance</th>\n",
       "      <th>symbol</th>\n",
       "      <th>date</th>\n",
       "      <th>minutes</th>\n",
       "      <th>seconds</th>\n",
       "      <th>subseconds</th>\n",
       "    </tr>\n",
       "  </thead>\n",
       "  <tbody>\n",
       "    <tr>\n",
       "      <th>20</th>\n",
       "      <td>2018-05-01 15:50:00.232608214-04:00</td>\n",
       "      <td>2018-05-01 19:50:00.232589664+00:00</td>\n",
       "      <td>20</td>\n",
       "      <td>2</td>\n",
       "      <td>3363</td>\n",
       "      <td>1037.99</td>\n",
       "      <td>0</td>\n",
       "      <td>1066.62</td>\n",
       "      <td>1087.50</td>\n",
       "      <td>0.0</td>\n",
       "      <td>...</td>\n",
       "      <td>0</td>\n",
       "      <td>0</td>\n",
       "      <td>0</td>\n",
       "      <td>N</td>\n",
       "      <td>2</td>\n",
       "      <td>GOOGL</td>\n",
       "      <td>2018-05-01</td>\n",
       "      <td>0</td>\n",
       "      <td>0</td>\n",
       "      <td>0.232589</td>\n",
       "    </tr>\n",
       "    <tr>\n",
       "      <th>21</th>\n",
       "      <td>2018-05-01 15:50:05.039544060-04:00</td>\n",
       "      <td>2018-05-01 19:50:05.039530238+00:00</td>\n",
       "      <td>20</td>\n",
       "      <td>2</td>\n",
       "      <td>3363</td>\n",
       "      <td>1038.86</td>\n",
       "      <td>0</td>\n",
       "      <td>1042.28</td>\n",
       "      <td>1048.04</td>\n",
       "      <td>0.0</td>\n",
       "      <td>...</td>\n",
       "      <td>0</td>\n",
       "      <td>0</td>\n",
       "      <td>0</td>\n",
       "      <td>N</td>\n",
       "      <td>L</td>\n",
       "      <td>GOOGL</td>\n",
       "      <td>2018-05-01</td>\n",
       "      <td>0</td>\n",
       "      <td>5</td>\n",
       "      <td>0.039530</td>\n",
       "    </tr>\n",
       "    <tr>\n",
       "      <th>22</th>\n",
       "      <td>2018-05-01 15:50:10.081168197-04:00</td>\n",
       "      <td>2018-05-01 19:50:10.081156561+00:00</td>\n",
       "      <td>20</td>\n",
       "      <td>2</td>\n",
       "      <td>3363</td>\n",
       "      <td>1039.11</td>\n",
       "      <td>0</td>\n",
       "      <td>1042.28</td>\n",
       "      <td>1048.04</td>\n",
       "      <td>0.0</td>\n",
       "      <td>...</td>\n",
       "      <td>0</td>\n",
       "      <td>0</td>\n",
       "      <td>0</td>\n",
       "      <td>N</td>\n",
       "      <td>L</td>\n",
       "      <td>GOOGL</td>\n",
       "      <td>2018-05-01</td>\n",
       "      <td>0</td>\n",
       "      <td>10</td>\n",
       "      <td>0.081156</td>\n",
       "    </tr>\n",
       "    <tr>\n",
       "      <th>23</th>\n",
       "      <td>2018-05-01 15:50:15.063046686-04:00</td>\n",
       "      <td>2018-05-01 19:50:15.063035041+00:00</td>\n",
       "      <td>20</td>\n",
       "      <td>2</td>\n",
       "      <td>3363</td>\n",
       "      <td>1039.11</td>\n",
       "      <td>0</td>\n",
       "      <td>1042.25</td>\n",
       "      <td>1048.04</td>\n",
       "      <td>0.0</td>\n",
       "      <td>...</td>\n",
       "      <td>0</td>\n",
       "      <td>0</td>\n",
       "      <td>0</td>\n",
       "      <td>N</td>\n",
       "      <td>L</td>\n",
       "      <td>GOOGL</td>\n",
       "      <td>2018-05-01</td>\n",
       "      <td>0</td>\n",
       "      <td>15</td>\n",
       "      <td>0.063035</td>\n",
       "    </tr>\n",
       "    <tr>\n",
       "      <th>24</th>\n",
       "      <td>2018-05-01 15:50:20.117362819-04:00</td>\n",
       "      <td>2018-05-01 19:50:20.117352268+00:00</td>\n",
       "      <td>20</td>\n",
       "      <td>2</td>\n",
       "      <td>3363</td>\n",
       "      <td>1039.00</td>\n",
       "      <td>0</td>\n",
       "      <td>1042.20</td>\n",
       "      <td>1048.04</td>\n",
       "      <td>0.0</td>\n",
       "      <td>...</td>\n",
       "      <td>0</td>\n",
       "      <td>0</td>\n",
       "      <td>0</td>\n",
       "      <td>N</td>\n",
       "      <td>L</td>\n",
       "      <td>GOOGL</td>\n",
       "      <td>2018-05-01</td>\n",
       "      <td>0</td>\n",
       "      <td>20</td>\n",
       "      <td>0.117352</td>\n",
       "    </tr>\n",
       "  </tbody>\n",
       "</table>\n",
       "<p>5 rows × 29 columns</p>\n",
       "</div>"
      ]
     },
     "execution_count": 132,
     "metadata": {},
     "output_type": "execute_result"
    }
   ],
   "execution_count": 132
  },
  {
   "metadata": {
    "ExecuteTime": {
     "end_time": "2025-07-14T20:32:18.740760Z",
     "start_time": "2025-07-14T20:32:18.730768Z"
    }
   },
   "cell_type": "code",
   "source": "df_90DAV.head()",
   "id": "e548784994e573b9",
   "outputs": [
    {
     "data": {
      "text/plain": [
       "         date  90_day_avg_volume\n",
       "0  2018-05-01       2.546559e+07\n",
       "1  2018-05-02       2.547567e+07\n",
       "2  2018-05-03       2.535042e+07\n",
       "3  2018-05-04       2.468772e+07\n",
       "4  2018-05-07       2.428591e+07"
      ],
      "text/html": [
       "<div>\n",
       "<style scoped>\n",
       "    .dataframe tbody tr th:only-of-type {\n",
       "        vertical-align: middle;\n",
       "    }\n",
       "\n",
       "    .dataframe tbody tr th {\n",
       "        vertical-align: top;\n",
       "    }\n",
       "\n",
       "    .dataframe thead th {\n",
       "        text-align: right;\n",
       "    }\n",
       "</style>\n",
       "<table border=\"1\" class=\"dataframe\">\n",
       "  <thead>\n",
       "    <tr style=\"text-align: right;\">\n",
       "      <th></th>\n",
       "      <th>date</th>\n",
       "      <th>90_day_avg_volume</th>\n",
       "    </tr>\n",
       "  </thead>\n",
       "  <tbody>\n",
       "    <tr>\n",
       "      <th>0</th>\n",
       "      <td>2018-05-01</td>\n",
       "      <td>2.546559e+07</td>\n",
       "    </tr>\n",
       "    <tr>\n",
       "      <th>1</th>\n",
       "      <td>2018-05-02</td>\n",
       "      <td>2.547567e+07</td>\n",
       "    </tr>\n",
       "    <tr>\n",
       "      <th>2</th>\n",
       "      <td>2018-05-03</td>\n",
       "      <td>2.535042e+07</td>\n",
       "    </tr>\n",
       "    <tr>\n",
       "      <th>3</th>\n",
       "      <td>2018-05-04</td>\n",
       "      <td>2.468772e+07</td>\n",
       "    </tr>\n",
       "    <tr>\n",
       "      <th>4</th>\n",
       "      <td>2018-05-07</td>\n",
       "      <td>2.428591e+07</td>\n",
       "    </tr>\n",
       "  </tbody>\n",
       "</table>\n",
       "</div>"
      ]
     },
     "execution_count": 133,
     "metadata": {},
     "output_type": "execute_result"
    }
   ],
   "execution_count": 133
  },
  {
   "metadata": {
    "ExecuteTime": {
     "end_time": "2025-07-14T21:01:02.853974Z",
     "start_time": "2025-07-14T21:01:02.840526Z"
    }
   },
   "cell_type": "code",
   "source": "df_1sec.head()",
   "id": "8c6278ec6e7e8943",
   "outputs": [
    {
     "data": {
      "text/plain": [
       "             timestamp    open    high     low   close   volume  average  \\\n",
       "0  2025-07-11 15:49:58  181.57  181.57  181.57  181.57    100.0  181.570   \n",
       "1  2025-07-11 15:49:59  181.57  181.57  181.57  181.57    100.0  181.570   \n",
       "2  2025-07-11 15:50:00  181.56  181.59  181.48  181.55  13846.0  181.537   \n",
       "3  2025-07-11 15:50:01  181.56  181.57  181.55  181.55   1608.0  181.562   \n",
       "4  2025-07-11 15:50:02  181.53  181.53  181.51  181.52   1100.0  181.524   \n",
       "\n",
       "   barCount         day  \n",
       "0         1  2025-07-11  \n",
       "1         1  2025-07-11  \n",
       "2       129  2025-07-11  \n",
       "3        16  2025-07-11  \n",
       "4         8  2025-07-11  "
      ],
      "text/html": [
       "<div>\n",
       "<style scoped>\n",
       "    .dataframe tbody tr th:only-of-type {\n",
       "        vertical-align: middle;\n",
       "    }\n",
       "\n",
       "    .dataframe tbody tr th {\n",
       "        vertical-align: top;\n",
       "    }\n",
       "\n",
       "    .dataframe thead th {\n",
       "        text-align: right;\n",
       "    }\n",
       "</style>\n",
       "<table border=\"1\" class=\"dataframe\">\n",
       "  <thead>\n",
       "    <tr style=\"text-align: right;\">\n",
       "      <th></th>\n",
       "      <th>timestamp</th>\n",
       "      <th>open</th>\n",
       "      <th>high</th>\n",
       "      <th>low</th>\n",
       "      <th>close</th>\n",
       "      <th>volume</th>\n",
       "      <th>average</th>\n",
       "      <th>barCount</th>\n",
       "      <th>day</th>\n",
       "    </tr>\n",
       "  </thead>\n",
       "  <tbody>\n",
       "    <tr>\n",
       "      <th>0</th>\n",
       "      <td>2025-07-11 15:49:58</td>\n",
       "      <td>181.57</td>\n",
       "      <td>181.57</td>\n",
       "      <td>181.57</td>\n",
       "      <td>181.57</td>\n",
       "      <td>100.0</td>\n",
       "      <td>181.570</td>\n",
       "      <td>1</td>\n",
       "      <td>2025-07-11</td>\n",
       "    </tr>\n",
       "    <tr>\n",
       "      <th>1</th>\n",
       "      <td>2025-07-11 15:49:59</td>\n",
       "      <td>181.57</td>\n",
       "      <td>181.57</td>\n",
       "      <td>181.57</td>\n",
       "      <td>181.57</td>\n",
       "      <td>100.0</td>\n",
       "      <td>181.570</td>\n",
       "      <td>1</td>\n",
       "      <td>2025-07-11</td>\n",
       "    </tr>\n",
       "    <tr>\n",
       "      <th>2</th>\n",
       "      <td>2025-07-11 15:50:00</td>\n",
       "      <td>181.56</td>\n",
       "      <td>181.59</td>\n",
       "      <td>181.48</td>\n",
       "      <td>181.55</td>\n",
       "      <td>13846.0</td>\n",
       "      <td>181.537</td>\n",
       "      <td>129</td>\n",
       "      <td>2025-07-11</td>\n",
       "    </tr>\n",
       "    <tr>\n",
       "      <th>3</th>\n",
       "      <td>2025-07-11 15:50:01</td>\n",
       "      <td>181.56</td>\n",
       "      <td>181.57</td>\n",
       "      <td>181.55</td>\n",
       "      <td>181.55</td>\n",
       "      <td>1608.0</td>\n",
       "      <td>181.562</td>\n",
       "      <td>16</td>\n",
       "      <td>2025-07-11</td>\n",
       "    </tr>\n",
       "    <tr>\n",
       "      <th>4</th>\n",
       "      <td>2025-07-11 15:50:02</td>\n",
       "      <td>181.53</td>\n",
       "      <td>181.53</td>\n",
       "      <td>181.51</td>\n",
       "      <td>181.52</td>\n",
       "      <td>1100.0</td>\n",
       "      <td>181.524</td>\n",
       "      <td>8</td>\n",
       "      <td>2025-07-11</td>\n",
       "    </tr>\n",
       "  </tbody>\n",
       "</table>\n",
       "</div>"
      ]
     },
     "execution_count": 148,
     "metadata": {},
     "output_type": "execute_result"
    }
   ],
   "execution_count": 148
  },
  {
   "metadata": {
    "ExecuteTime": {
     "end_time": "2025-07-14T20:44:29.321473Z",
     "start_time": "2025-07-14T20:44:29.314248Z"
    }
   },
   "cell_type": "code",
   "source": "df_1sec.columns",
   "id": "e2ac58fe31a9ca0d",
   "outputs": [
    {
     "data": {
      "text/plain": [
       "Index(['timestamp', 'open', 'high', 'low', 'close', 'volume', 'average',\n",
       "       'barCount', 'day'],\n",
       "      dtype='object')"
      ]
     },
     "execution_count": 142,
     "metadata": {},
     "output_type": "execute_result"
    }
   ],
   "execution_count": 142
  },
  {
   "metadata": {
    "ExecuteTime": {
     "end_time": "2025-07-14T21:10:22.832951Z",
     "start_time": "2025-07-14T21:10:19.773395Z"
    }
   },
   "cell_type": "code",
   "source": "df_1sec.to_csv('df_1sec.csv', index=False)",
   "id": "1658413098fda264",
   "outputs": [],
   "execution_count": 150
  },
  {
   "metadata": {
    "ExecuteTime": {
     "end_time": "2025-07-14T20:51:05.785928Z",
     "start_time": "2025-07-14T20:51:05.461964Z"
    }
   },
   "cell_type": "code",
   "source": [
    "import pandas as pd\n",
    "import numpy as np\n",
    "import math\n",
    "\n",
    "# Ensure date column in df_90DAV is datetime.date type\n",
    "df_90DAV['date'] = pd.to_datetime(df_90DAV['date']).dt.date\n",
    "\n",
    "# Extract date from imbalance event timestamp\n",
    "df_imbalance['date'] = pd.to_datetime(df_imbalance['ts_event']).dt.date\n",
    "\n",
    "# Merge 90DAV into imbalance dataframe based on date\n",
    "df_imbalance = df_imbalance.merge(  df_90DAV,\n",
    "    on=['date'],\n",
    "    how='left'\n",
    ")\n",
    "\n",
    "# Calculate normalized imbalance (signed)\n",
    "df_imbalance['Norm_imb'] = (\n",
    "    df_imbalance['total_imbalance_qty'] * df_imbalance['side'].map({'BUY': 1, 'SELL': -1})\n",
    ") / df_imbalance['90_day_avg_volume']\n",
    "\n",
    "# Prepare df_1sec for fast lookup — round imbalance timestamp up to the next second\n",
    "df_imbalance['imb_sec'] = pd.to_datetime(df_imbalance['ts_event']).dt.ceil('1s')\n",
    "\n"
   ],
   "id": "2c5b426176c87af6",
   "outputs": [],
   "execution_count": 143
  },
  {
   "metadata": {
    "ExecuteTime": {
     "end_time": "2025-07-14T21:11:37.121192Z",
     "start_time": "2025-07-14T21:11:28.781949Z"
    }
   },
   "cell_type": "code",
   "source": "df_imbalance.to_csv(\"df_imbalance.csv\",index=False)",
   "id": "7220ed34458d9449",
   "outputs": [],
   "execution_count": 151
  },
  {
   "metadata": {
    "ExecuteTime": {
     "end_time": "2025-07-14T21:08:36.365107Z",
     "start_time": "2025-07-14T21:08:04.744128Z"
    }
   },
   "cell_type": "code",
   "source": [
    "import pandas as pd\n",
    "import numpy as np\n",
    "\n",
    "# Step 1: Parse imbalance timestamp (already has timezone)\n",
    "df_imbalance['ts_event'] = pd.to_datetime(df_imbalance['ts_event'], utc=True)\n",
    "df_imbalance['imb_sec'] = df_imbalance['ts_event'].dt.ceil('1s')\n",
    "\n",
    "# Step 2: Localize df_1sec to America/New_York and convert to UTC\n",
    "df_1sec['timestamp'] = pd.to_datetime(df_1sec['timestamp'])  # naive to datetime\n",
    "df_1sec['timestamp'] = df_1sec['timestamp'].dt.tz_localize('America/New_York').dt.tz_convert('UTC')\n",
    "\n",
    "# Step 3: Define price move calculation\n",
    "def compute_price_move(row):\n",
    "    t_imb = row['imb_sec']\n",
    "    t_ref = pd.Timestamp.combine(t_imb.date(), pd.Timestamp('15:49:59').time()).tz_localize('UTC')\n",
    "    try:\n",
    "        p_imb = df_1sec.loc[df_1sec['timestamp'] == t_imb, 'close'].iloc[0]\n",
    "        p_ref = df_1sec.loc[df_1sec['timestamp'] == t_ref, 'close'].iloc[0]\n",
    "        pct_move = 100 * (p_imb - p_ref) / p_ref\n",
    "        return round(pct_move, 2)\n",
    "    except IndexError:\n",
    "        return np.nan\n",
    "\n",
    "# Step 4: Apply\n",
    "df_imbalance['%price_move'] = df_imbalance.apply(compute_price_move, axis=1)\n"
   ],
   "id": "e3874d720619f186",
   "outputs": [
    {
     "ename": "ValueError",
     "evalue": "unconverted data remains when parsing with format \"%Y-%m-%d %H:%M:%S\": \"-04:00\", at position 452102. You might want to try:\n    - passing `format` if your strings have a consistent format;\n    - passing `format='ISO8601'` if your strings are all ISO8601 but not necessarily in exactly the same format;\n    - passing `format='mixed'`, and the format will be inferred for each element individually. You might want to use `dayfirst` alongside this.",
     "output_type": "error",
     "traceback": [
      "\u001B[31m---------------------------------------------------------------------------\u001B[39m",
      "\u001B[31mValueError\u001B[39m                                Traceback (most recent call last)",
      "\u001B[36mCell\u001B[39m\u001B[36m \u001B[39m\u001B[32mIn[149]\u001B[39m\u001B[32m, line 9\u001B[39m\n\u001B[32m      6\u001B[39m df_imbalance[\u001B[33m'\u001B[39m\u001B[33mimb_sec\u001B[39m\u001B[33m'\u001B[39m] = df_imbalance[\u001B[33m'\u001B[39m\u001B[33mts_event\u001B[39m\u001B[33m'\u001B[39m].dt.ceil(\u001B[33m'\u001B[39m\u001B[33m1s\u001B[39m\u001B[33m'\u001B[39m)\n\u001B[32m      8\u001B[39m \u001B[38;5;66;03m# Step 2: Localize df_1sec to America/New_York and convert to UTC\u001B[39;00m\n\u001B[32m----> \u001B[39m\u001B[32m9\u001B[39m df_1sec[\u001B[33m'\u001B[39m\u001B[33mtimestamp\u001B[39m\u001B[33m'\u001B[39m] = \u001B[43mpd\u001B[49m\u001B[43m.\u001B[49m\u001B[43mto_datetime\u001B[49m\u001B[43m(\u001B[49m\u001B[43mdf_1sec\u001B[49m\u001B[43m[\u001B[49m\u001B[33;43m'\u001B[39;49m\u001B[33;43mtimestamp\u001B[39;49m\u001B[33;43m'\u001B[39;49m\u001B[43m]\u001B[49m\u001B[43m)\u001B[49m  \u001B[38;5;66;03m# naive to datetime\u001B[39;00m\n\u001B[32m     10\u001B[39m df_1sec[\u001B[33m'\u001B[39m\u001B[33mtimestamp\u001B[39m\u001B[33m'\u001B[39m] = df_1sec[\u001B[33m'\u001B[39m\u001B[33mtimestamp\u001B[39m\u001B[33m'\u001B[39m].dt.tz_localize(\u001B[33m'\u001B[39m\u001B[33mAmerica/New_York\u001B[39m\u001B[33m'\u001B[39m).dt.tz_convert(\u001B[33m'\u001B[39m\u001B[33mUTC\u001B[39m\u001B[33m'\u001B[39m)\n\u001B[32m     12\u001B[39m \u001B[38;5;66;03m# Step 3: Define price move calculation\u001B[39;00m\n",
      "\u001B[36mFile \u001B[39m\u001B[32m~\\.venvs\\venv_py_3_11\\Lib\\site-packages\\pandas\\core\\tools\\datetimes.py:1072\u001B[39m, in \u001B[36mto_datetime\u001B[39m\u001B[34m(arg, errors, dayfirst, yearfirst, utc, format, exact, unit, infer_datetime_format, origin, cache)\u001B[39m\n\u001B[32m   1070\u001B[39m         result = arg.map(cache_array)\n\u001B[32m   1071\u001B[39m     \u001B[38;5;28;01melse\u001B[39;00m:\n\u001B[32m-> \u001B[39m\u001B[32m1072\u001B[39m         values = \u001B[43mconvert_listlike\u001B[49m\u001B[43m(\u001B[49m\u001B[43marg\u001B[49m\u001B[43m.\u001B[49m\u001B[43m_values\u001B[49m\u001B[43m,\u001B[49m\u001B[43m \u001B[49m\u001B[38;5;28;43mformat\u001B[39;49m\u001B[43m)\u001B[49m\n\u001B[32m   1073\u001B[39m         result = arg._constructor(values, index=arg.index, name=arg.name)\n\u001B[32m   1074\u001B[39m \u001B[38;5;28;01melif\u001B[39;00m \u001B[38;5;28misinstance\u001B[39m(arg, (ABCDataFrame, abc.MutableMapping)):\n",
      "\u001B[36mFile \u001B[39m\u001B[32m~\\.venvs\\venv_py_3_11\\Lib\\site-packages\\pandas\\core\\tools\\datetimes.py:435\u001B[39m, in \u001B[36m_convert_listlike_datetimes\u001B[39m\u001B[34m(arg, format, name, utc, unit, errors, dayfirst, yearfirst, exact)\u001B[39m\n\u001B[32m    433\u001B[39m \u001B[38;5;66;03m# `format` could be inferred, or user didn't ask for mixed-format parsing.\u001B[39;00m\n\u001B[32m    434\u001B[39m \u001B[38;5;28;01mif\u001B[39;00m \u001B[38;5;28mformat\u001B[39m \u001B[38;5;129;01mis\u001B[39;00m \u001B[38;5;129;01mnot\u001B[39;00m \u001B[38;5;28;01mNone\u001B[39;00m \u001B[38;5;129;01mand\u001B[39;00m \u001B[38;5;28mformat\u001B[39m != \u001B[33m\"\u001B[39m\u001B[33mmixed\u001B[39m\u001B[33m\"\u001B[39m:\n\u001B[32m--> \u001B[39m\u001B[32m435\u001B[39m     \u001B[38;5;28;01mreturn\u001B[39;00m \u001B[43m_array_strptime_with_fallback\u001B[49m\u001B[43m(\u001B[49m\u001B[43marg\u001B[49m\u001B[43m,\u001B[49m\u001B[43m \u001B[49m\u001B[43mname\u001B[49m\u001B[43m,\u001B[49m\u001B[43m \u001B[49m\u001B[43mutc\u001B[49m\u001B[43m,\u001B[49m\u001B[43m \u001B[49m\u001B[38;5;28;43mformat\u001B[39;49m\u001B[43m,\u001B[49m\u001B[43m \u001B[49m\u001B[43mexact\u001B[49m\u001B[43m,\u001B[49m\u001B[43m \u001B[49m\u001B[43merrors\u001B[49m\u001B[43m)\u001B[49m\n\u001B[32m    437\u001B[39m result, tz_parsed = objects_to_datetime64(\n\u001B[32m    438\u001B[39m     arg,\n\u001B[32m    439\u001B[39m     dayfirst=dayfirst,\n\u001B[32m   (...)\u001B[39m\u001B[32m    443\u001B[39m     allow_object=\u001B[38;5;28;01mTrue\u001B[39;00m,\n\u001B[32m    444\u001B[39m )\n\u001B[32m    446\u001B[39m \u001B[38;5;28;01mif\u001B[39;00m tz_parsed \u001B[38;5;129;01mis\u001B[39;00m \u001B[38;5;129;01mnot\u001B[39;00m \u001B[38;5;28;01mNone\u001B[39;00m:\n\u001B[32m    447\u001B[39m     \u001B[38;5;66;03m# We can take a shortcut since the datetime64 numpy array\u001B[39;00m\n\u001B[32m    448\u001B[39m     \u001B[38;5;66;03m# is in UTC\u001B[39;00m\n",
      "\u001B[36mFile \u001B[39m\u001B[32m~\\.venvs\\venv_py_3_11\\Lib\\site-packages\\pandas\\core\\tools\\datetimes.py:469\u001B[39m, in \u001B[36m_array_strptime_with_fallback\u001B[39m\u001B[34m(arg, name, utc, fmt, exact, errors)\u001B[39m\n\u001B[32m    458\u001B[39m \u001B[38;5;28;01mdef\u001B[39;00m\u001B[38;5;250m \u001B[39m\u001B[34m_array_strptime_with_fallback\u001B[39m(\n\u001B[32m    459\u001B[39m     arg,\n\u001B[32m    460\u001B[39m     name,\n\u001B[32m   (...)\u001B[39m\u001B[32m    464\u001B[39m     errors: \u001B[38;5;28mstr\u001B[39m,\n\u001B[32m    465\u001B[39m ) -> Index:\n\u001B[32m    466\u001B[39m \u001B[38;5;250m    \u001B[39m\u001B[33;03m\"\"\"\u001B[39;00m\n\u001B[32m    467\u001B[39m \u001B[33;03m    Call array_strptime, with fallback behavior depending on 'errors'.\u001B[39;00m\n\u001B[32m    468\u001B[39m \u001B[33;03m    \"\"\"\u001B[39;00m\n\u001B[32m--> \u001B[39m\u001B[32m469\u001B[39m     result, tz_out = \u001B[43marray_strptime\u001B[49m\u001B[43m(\u001B[49m\u001B[43marg\u001B[49m\u001B[43m,\u001B[49m\u001B[43m \u001B[49m\u001B[43mfmt\u001B[49m\u001B[43m,\u001B[49m\u001B[43m \u001B[49m\u001B[43mexact\u001B[49m\u001B[43m=\u001B[49m\u001B[43mexact\u001B[49m\u001B[43m,\u001B[49m\u001B[43m \u001B[49m\u001B[43merrors\u001B[49m\u001B[43m=\u001B[49m\u001B[43merrors\u001B[49m\u001B[43m,\u001B[49m\u001B[43m \u001B[49m\u001B[43mutc\u001B[49m\u001B[43m=\u001B[49m\u001B[43mutc\u001B[49m\u001B[43m)\u001B[49m\n\u001B[32m    470\u001B[39m     \u001B[38;5;28;01mif\u001B[39;00m tz_out \u001B[38;5;129;01mis\u001B[39;00m \u001B[38;5;129;01mnot\u001B[39;00m \u001B[38;5;28;01mNone\u001B[39;00m:\n\u001B[32m    471\u001B[39m         unit = np.datetime_data(result.dtype)[\u001B[32m0\u001B[39m]\n",
      "\u001B[36mFile \u001B[39m\u001B[32mpandas/_libs/tslibs/strptime.pyx:501\u001B[39m, in \u001B[36mpandas._libs.tslibs.strptime.array_strptime\u001B[39m\u001B[34m()\u001B[39m\n",
      "\u001B[36mFile \u001B[39m\u001B[32mpandas/_libs/tslibs/strptime.pyx:451\u001B[39m, in \u001B[36mpandas._libs.tslibs.strptime.array_strptime\u001B[39m\u001B[34m()\u001B[39m\n",
      "\u001B[36mFile \u001B[39m\u001B[32mpandas/_libs/tslibs/strptime.pyx:587\u001B[39m, in \u001B[36mpandas._libs.tslibs.strptime._parse_with_format\u001B[39m\u001B[34m()\u001B[39m\n",
      "\u001B[31mValueError\u001B[39m: unconverted data remains when parsing with format \"%Y-%m-%d %H:%M:%S\": \"-04:00\", at position 452102. You might want to try:\n    - passing `format` if your strings have a consistent format;\n    - passing `format='ISO8601'` if your strings are all ISO8601 but not necessarily in exactly the same format;\n    - passing `format='mixed'`, and the format will be inferred for each element individually. You might want to use `dayfirst` alongside this."
     ]
    }
   ],
   "execution_count": 149
  },
  {
   "metadata": {},
   "cell_type": "code",
   "source": [
    "import numpy as np\n",
    "import matplotlib.pyplot as plt\n",
    "\n",
    "# Drop NaNs\n",
    "df_plot = df_imbalance.dropna(subset=['Norm_imb', '%price_move'])\n",
    "\n",
    "# Extract x and y\n",
    "x = df_plot['Norm_imb']\n",
    "y = df_plot['%price_move']\n",
    "\n",
    "# Fit a straight line: y = m*x + b\n",
    "m, b = np.polyfit(x, y, 1)\n",
    "\n",
    "# Plot scatter and best fit line\n",
    "plt.figure(figsize=(10, 6))\n",
    "plt.scatter(x, y, alpha=0.6, label='Data')\n",
    "plt.plot(x, m*x + b, color='black', label=f'Best Fit: y = {m:.2f}x + {b:.2f}')\n",
    "plt.axhline(0, color='gray', linestyle='--', linewidth=1)\n",
    "plt.xlabel('Normalized Imbalance (Signed)')\n",
    "plt.ylabel('% Price Move (vs 3:49:59)')\n",
    "plt.title('% Price Move vs Normalized Imbalance')\n",
    "plt.legend()\n",
    "plt.tight_layout()\n",
    "plt.show()\n"
   ],
   "id": "d0689399a59921db",
   "outputs": [],
   "execution_count": null
  }
 ],
 "metadata": {
  "kernelspec": {
   "display_name": "Python 3",
   "language": "python",
   "name": "python3"
  },
  "language_info": {
   "codemirror_mode": {
    "name": "ipython",
    "version": 2
   },
   "file_extension": ".py",
   "mimetype": "text/x-python",
   "name": "python",
   "nbconvert_exporter": "python",
   "pygments_lexer": "ipython2",
   "version": "2.7.6"
  }
 },
 "nbformat": 4,
 "nbformat_minor": 5
}
