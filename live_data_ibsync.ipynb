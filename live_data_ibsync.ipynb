{
 "cells": [
  {
   "cell_type": "code",
   "id": "initial_id",
   "metadata": {
    "collapsed": true,
    "ExecuteTime": {
     "end_time": "2025-07-03T15:10:00.776291Z",
     "start_time": "2025-07-03T15:09:49.304073Z"
    }
   },
   "source": [
    "import nest_asyncio\n",
    "nest_asyncio.apply()\n",
    "from ib_insync import *\n",
    "import pandas as pd\n",
    "import os\n",
    "from datetime import datetime\n",
    "\n",
    "# Define async wrapper\n",
    "async def run_live_stream():\n",
    "    ib = IB()\n",
    "    await ib.connectAsync('127.0.0.1', 7497, clientId=11)\n",
    "\n",
    "    contract = Stock('AAPL', 'SMART', 'USD')\n",
    "    ib.reqMktData(contract, '', False, False)\n",
    "\n",
    "    csv_file = 'AAPL_5_seconds_data.csv'\n",
    "\n",
    "    def on_tick(tick):\n",
    "        row = {\n",
    "            'timestamp': datetime.now().strftime('%Y-%m-%d %H:%M:%S.%f'),\n",
    "            'bid': contract.bid,\n",
    "            'ask': contract.ask,\n",
    "            'last': contract.last,\n",
    "            'volume': contract.volume\n",
    "        }\n",
    "        df = pd.DataFrame([row])\n",
    "        if not os.path.exists(csv_file):\n",
    "            df.to_csv(csv_file, mode='w', index=False)\n",
    "        else:\n",
    "            df.to_csv(csv_file, mode='a', index=False, header=False)\n",
    "\n",
    "    ib.pendingTickersEvent += on_tick\n",
    "\n",
    "    # Run event loop for 10 seconds\n",
    "    await ib.sleep(10)\n",
    "\n",
    "    ib.cancelMktData(contract)\n",
    "    ib.disconnect()\n",
    "\n",
    "# In IPython or Jupyter, run the async function:\n",
    "await run_live_stream()\n"
   ],
   "outputs": [
    {
     "name": "stderr",
     "output_type": "stream",
     "text": [
      "Error 10197, reqId 3: No market data during competing live session, contract: Stock(symbol='AAPL', exchange='SMART', currency='USD')\n"
     ]
    },
    {
     "ename": "TypeError",
     "evalue": "object bool can't be used in 'await' expression",
     "output_type": "error",
     "traceback": [
      "\u001B[31m---------------------------------------------------------------------------\u001B[39m",
      "\u001B[31mTypeError\u001B[39m                                 Traceback (most recent call last)",
      "\u001B[36mCell\u001B[39m\u001B[36m \u001B[39m\u001B[32mIn[1]\u001B[39m\u001B[32m, line 41\u001B[39m\n\u001B[32m     38\u001B[39m     ib.disconnect()\n\u001B[32m     40\u001B[39m \u001B[38;5;66;03m# In IPython or Jupyter, run the async function:\u001B[39;00m\n\u001B[32m---> \u001B[39m\u001B[32m41\u001B[39m \u001B[38;5;28;01mawait\u001B[39;00m run_live_stream()\n",
      "\u001B[36mCell\u001B[39m\u001B[36m \u001B[39m\u001B[32mIn[1]\u001B[39m\u001B[32m, line 35\u001B[39m, in \u001B[36mrun_live_stream\u001B[39m\u001B[34m()\u001B[39m\n\u001B[32m     32\u001B[39m ib.pendingTickersEvent += on_tick\n\u001B[32m     34\u001B[39m \u001B[38;5;66;03m# Run event loop for 10 seconds\u001B[39;00m\n\u001B[32m---> \u001B[39m\u001B[32m35\u001B[39m \u001B[38;5;28;01mawait\u001B[39;00m ib.sleep(\u001B[32m10\u001B[39m)\n\u001B[32m     37\u001B[39m ib.cancelMktData(contract)\n\u001B[32m     38\u001B[39m ib.disconnect()\n",
      "\u001B[31mTypeError\u001B[39m: object bool can't be used in 'await' expression"
     ]
    }
   ],
   "execution_count": 1
  },
  {
   "metadata": {
    "ExecuteTime": {
     "end_time": "2025-07-03T14:16:18.954179Z",
     "start_time": "2025-07-03T14:16:18.948339Z"
    }
   },
   "cell_type": "code",
   "source": "ib.disconnect()",
   "id": "d75cdebabc2bf6fb",
   "outputs": [],
   "execution_count": 2
  }
 ],
 "metadata": {
  "kernelspec": {
   "display_name": "Python 3",
   "language": "python",
   "name": "python3"
  },
  "language_info": {
   "codemirror_mode": {
    "name": "ipython",
    "version": 2
   },
   "file_extension": ".py",
   "mimetype": "text/x-python",
   "name": "python",
   "nbconvert_exporter": "python",
   "pygments_lexer": "ipython2",
   "version": "2.7.6"
  }
 },
 "nbformat": 4,
 "nbformat_minor": 5
}
