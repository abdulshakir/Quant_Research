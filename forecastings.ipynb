{
 "nbformat": 4,
 "nbformat_minor": 0,
 "metadata": {
  "colab": {
   "provenance": []
  },
  "kernelspec": {
   "name": "python3",
   "display_name": "Python 3 (ipykernel)",
   "language": "python"
  },
  "language_info": {
   "name": "python"
  }
 },
 "cells": [
  {
   "metadata": {
    "ExecuteTime": {
     "end_time": "2025-07-08T11:14:22.643457Z",
     "start_time": "2025-07-08T11:14:02.863710Z"
    }
   },
   "cell_type": "code",
   "source": "!pip install memory-profiler",
   "outputs": [
    {
     "name": "stdout",
     "output_type": "stream",
     "text": [
      "Collecting memory-profiler\n",
      "  Downloading memory_profiler-0.61.0-py3-none-any.whl.metadata (20 kB)\n",
      "Requirement already satisfied: psutil in c:\\users\\pc\\.venvs\\venv_py_3_11\\lib\\site-packages (from memory-profiler) (7.0.0)\n",
      "Downloading memory_profiler-0.61.0-py3-none-any.whl (31 kB)\n",
      "Installing collected packages: memory-profiler\n",
      "Successfully installed memory-profiler-0.61.0\n"
     ]
    },
    {
     "name": "stderr",
     "output_type": "stream",
     "text": [
      "\n",
      "[notice] A new release of pip is available: 24.0 -> 25.1.1\n",
      "[notice] To update, run: python.exe -m pip install --upgrade pip\n"
     ]
    }
   ],
   "execution_count": 26
  },
  {
   "metadata": {
    "ExecuteTime": {
     "end_time": "2025-07-08T11:15:49.372307Z",
     "start_time": "2025-07-08T11:15:46.782531Z"
    }
   },
   "cell_type": "code",
   "source": "!pip install ipython",
   "outputs": [
    {
     "name": "stdout",
     "output_type": "stream",
     "text": [
      "Requirement already satisfied: ipython in c:\\users\\pc\\.venvs\\venv_py_3_11\\lib\\site-packages (9.4.0)\n",
      "Requirement already satisfied: colorama in c:\\users\\pc\\.venvs\\venv_py_3_11\\lib\\site-packages (from ipython) (0.4.6)\n",
      "Requirement already satisfied: decorator in c:\\users\\pc\\.venvs\\venv_py_3_11\\lib\\site-packages (from ipython) (5.2.1)\n",
      "Requirement already satisfied: ipython-pygments-lexers in c:\\users\\pc\\.venvs\\venv_py_3_11\\lib\\site-packages (from ipython) (1.1.1)\n",
      "Requirement already satisfied: jedi>=0.16 in c:\\users\\pc\\.venvs\\venv_py_3_11\\lib\\site-packages (from ipython) (0.19.2)\n",
      "Requirement already satisfied: matplotlib-inline in c:\\users\\pc\\.venvs\\venv_py_3_11\\lib\\site-packages (from ipython) (0.1.7)\n",
      "Requirement already satisfied: prompt_toolkit<3.1.0,>=3.0.41 in c:\\users\\pc\\.venvs\\venv_py_3_11\\lib\\site-packages (from ipython) (3.0.51)\n",
      "Requirement already satisfied: pygments>=2.4.0 in c:\\users\\pc\\.venvs\\venv_py_3_11\\lib\\site-packages (from ipython) (2.19.2)\n",
      "Requirement already satisfied: stack_data in c:\\users\\pc\\.venvs\\venv_py_3_11\\lib\\site-packages (from ipython) (0.6.3)\n",
      "Requirement already satisfied: traitlets>=5.13.0 in c:\\users\\pc\\.venvs\\venv_py_3_11\\lib\\site-packages (from ipython) (5.14.3)\n",
      "Requirement already satisfied: typing_extensions>=4.6 in c:\\users\\pc\\.venvs\\venv_py_3_11\\lib\\site-packages (from ipython) (4.14.0)\n",
      "Requirement already satisfied: parso<0.9.0,>=0.8.4 in c:\\users\\pc\\.venvs\\venv_py_3_11\\lib\\site-packages (from jedi>=0.16->ipython) (0.8.4)\n",
      "Requirement already satisfied: wcwidth in c:\\users\\pc\\.venvs\\venv_py_3_11\\lib\\site-packages (from prompt_toolkit<3.1.0,>=3.0.41->ipython) (0.2.13)\n",
      "Requirement already satisfied: executing>=1.2.0 in c:\\users\\pc\\.venvs\\venv_py_3_11\\lib\\site-packages (from stack_data->ipython) (2.2.0)\n",
      "Requirement already satisfied: asttokens>=2.1.0 in c:\\users\\pc\\.venvs\\venv_py_3_11\\lib\\site-packages (from stack_data->ipython) (3.0.0)\n",
      "Requirement already satisfied: pure-eval in c:\\users\\pc\\.venvs\\venv_py_3_11\\lib\\site-packages (from stack_data->ipython) (0.2.3)\n"
     ]
    },
    {
     "name": "stderr",
     "output_type": "stream",
     "text": [
      "\n",
      "[notice] A new release of pip is available: 24.0 -> 25.1.1\n",
      "[notice] To update, run: python.exe -m pip install --upgrade pip\n"
     ]
    }
   ],
   "execution_count": 27
  },
  {
   "metadata": {
    "ExecuteTime": {
     "end_time": "2025-07-08T11:24:35.811780Z",
     "start_time": "2025-07-08T11:24:34.764276Z"
    }
   },
   "cell_type": "code",
   "source": "%load_ext memory_profiler",
   "outputs": [],
   "execution_count": 29
  },
  {
   "cell_type": "code",
   "source": [
    "import pandas as pd\n",
    "import numpy as np\n"
   ],
   "metadata": {
    "id": "pPGlgLNH91ie",
    "ExecuteTime": {
     "end_time": "2025-07-08T07:19:21.966914Z",
     "start_time": "2025-07-08T07:19:17.105852Z"
    }
   },
   "outputs": [],
   "execution_count": 1
  },
  {
   "metadata": {
    "ExecuteTime": {
     "end_time": "2025-07-08T07:19:46.366591Z",
     "start_time": "2025-07-08T07:19:26.218096Z"
    }
   },
   "cell_type": "code",
   "source": [
    "from sklearn.model_selection import train_test_split\n",
    "from sklearn.preprocessing import MinMaxScaler\n",
    "from sklearn.metrics import mean_squared_error\n",
    "import matplotlib.pyplot as plt\n",
    "from statsmodels.tsa.arima.model import ARIMA\n",
    "from statsmodels.tsa.statespace.sarimax import SARIMAX\n",
    "from sklearn.ensemble import RandomForestRegressor\n",
    "from sklearn.ensemble import GradientBoostingRegressor\n"
   ],
   "outputs": [],
   "execution_count": 2
  },
  {
   "metadata": {
    "ExecuteTime": {
     "end_time": "2025-07-08T07:23:16.393260Z",
     "start_time": "2025-07-08T07:22:33.617042Z"
    }
   },
   "cell_type": "code",
   "source": [
    "# Deep Learning Libraries\n",
    "import tensorflow as tf\n",
    "from keras.models import Sequential\n",
    "from keras.layers import LSTM, GRU, Conv1D, MaxPooling1D, Flatten, Dense, RepeatVector, TimeDistributed\n",
    "from keras.optimizers import Adam"
   ],
   "outputs": [],
   "execution_count": 3
  },
  {
   "metadata": {
    "ExecuteTime": {
     "end_time": "2025-07-08T07:23:34.351824Z",
     "start_time": "2025-07-08T07:23:33.928556Z"
    }
   },
   "cell_type": "code",
   "source": [
    "# Prophet\n",
    "from prophet import Prophet"
   ],
   "outputs": [
    {
     "name": "stderr",
     "output_type": "stream",
     "text": [
      "C:\\Users\\PC\\.venvs\\venv_py_3_11\\Lib\\site-packages\\tqdm\\auto.py:21: TqdmWarning: IProgress not found. Please update jupyter and ipywidgets. See https://ipywidgets.readthedocs.io/en/stable/user_install.html\n",
      "  from .autonotebook import tqdm as notebook_tqdm\n",
      "Importing plotly failed. Interactive plots will not work.\n"
     ]
    }
   ],
   "execution_count": 4
  },
  {
   "metadata": {
    "ExecuteTime": {
     "end_time": "2025-07-08T10:38:54.006693Z",
     "start_time": "2025-07-08T10:38:51.112912Z"
    }
   },
   "cell_type": "code",
   "source": [
    "\n",
    "# Reading the Data\n",
    "df = pd.read_csv(\"SPY_1min_historical_data_all.csv\")\n",
    "df.head()"
   ],
   "outputs": [
    {
     "data": {
      "text/plain": [
       "              Datetime_aware        Datetime    Timezone    Open    High  \\\n",
       "0  2004-01-23 09:30:00-05:00  1/23/2004 9:30  US/Eastern  115.00  115.06   \n",
       "1  2004-01-23 09:31:00-05:00  1/23/2004 9:31  US/Eastern  115.05  115.06   \n",
       "2  2004-01-23 09:32:00-05:00  1/23/2004 9:32  US/Eastern  115.05  115.06   \n",
       "3  2004-01-23 09:33:00-05:00  1/23/2004 9:33  US/Eastern  115.03  115.06   \n",
       "4  2004-01-23 09:34:00-05:00  1/23/2004 9:34  US/Eastern  115.00  115.03   \n",
       "\n",
       "      Low   Close  Volume  \n",
       "0  115.00  115.04  272200  \n",
       "1  115.01  115.05  240200  \n",
       "2  114.98  115.05  131900  \n",
       "3  114.98  114.98  330800  \n",
       "4  114.96  115.00   87000  "
      ],
      "text/html": [
       "<div>\n",
       "<style scoped>\n",
       "    .dataframe tbody tr th:only-of-type {\n",
       "        vertical-align: middle;\n",
       "    }\n",
       "\n",
       "    .dataframe tbody tr th {\n",
       "        vertical-align: top;\n",
       "    }\n",
       "\n",
       "    .dataframe thead th {\n",
       "        text-align: right;\n",
       "    }\n",
       "</style>\n",
       "<table border=\"1\" class=\"dataframe\">\n",
       "  <thead>\n",
       "    <tr style=\"text-align: right;\">\n",
       "      <th></th>\n",
       "      <th>Datetime_aware</th>\n",
       "      <th>Datetime</th>\n",
       "      <th>Timezone</th>\n",
       "      <th>Open</th>\n",
       "      <th>High</th>\n",
       "      <th>Low</th>\n",
       "      <th>Close</th>\n",
       "      <th>Volume</th>\n",
       "    </tr>\n",
       "  </thead>\n",
       "  <tbody>\n",
       "    <tr>\n",
       "      <th>0</th>\n",
       "      <td>2004-01-23 09:30:00-05:00</td>\n",
       "      <td>1/23/2004 9:30</td>\n",
       "      <td>US/Eastern</td>\n",
       "      <td>115.00</td>\n",
       "      <td>115.06</td>\n",
       "      <td>115.00</td>\n",
       "      <td>115.04</td>\n",
       "      <td>272200</td>\n",
       "    </tr>\n",
       "    <tr>\n",
       "      <th>1</th>\n",
       "      <td>2004-01-23 09:31:00-05:00</td>\n",
       "      <td>1/23/2004 9:31</td>\n",
       "      <td>US/Eastern</td>\n",
       "      <td>115.05</td>\n",
       "      <td>115.06</td>\n",
       "      <td>115.01</td>\n",
       "      <td>115.05</td>\n",
       "      <td>240200</td>\n",
       "    </tr>\n",
       "    <tr>\n",
       "      <th>2</th>\n",
       "      <td>2004-01-23 09:32:00-05:00</td>\n",
       "      <td>1/23/2004 9:32</td>\n",
       "      <td>US/Eastern</td>\n",
       "      <td>115.05</td>\n",
       "      <td>115.06</td>\n",
       "      <td>114.98</td>\n",
       "      <td>115.05</td>\n",
       "      <td>131900</td>\n",
       "    </tr>\n",
       "    <tr>\n",
       "      <th>3</th>\n",
       "      <td>2004-01-23 09:33:00-05:00</td>\n",
       "      <td>1/23/2004 9:33</td>\n",
       "      <td>US/Eastern</td>\n",
       "      <td>115.03</td>\n",
       "      <td>115.06</td>\n",
       "      <td>114.98</td>\n",
       "      <td>114.98</td>\n",
       "      <td>330800</td>\n",
       "    </tr>\n",
       "    <tr>\n",
       "      <th>4</th>\n",
       "      <td>2004-01-23 09:34:00-05:00</td>\n",
       "      <td>1/23/2004 9:34</td>\n",
       "      <td>US/Eastern</td>\n",
       "      <td>115.00</td>\n",
       "      <td>115.03</td>\n",
       "      <td>114.96</td>\n",
       "      <td>115.00</td>\n",
       "      <td>87000</td>\n",
       "    </tr>\n",
       "  </tbody>\n",
       "</table>\n",
       "</div>"
      ]
     },
     "execution_count": 6,
     "metadata": {},
     "output_type": "execute_result"
    }
   ],
   "execution_count": 6
  },
  {
   "metadata": {
    "ExecuteTime": {
     "end_time": "2025-07-07T14:00:59.262847Z",
     "start_time": "2025-07-07T14:00:59.231092Z"
    }
   },
   "cell_type": "code",
   "source": "df.columns",
   "outputs": [
    {
     "data": {
      "text/plain": [
       "Index(['Datetime_aware', 'Datetime', 'Timezone', 'Open', 'High', 'Low',\n",
       "       'Close', 'Volume'],\n",
       "      dtype='object')"
      ]
     },
     "execution_count": 12,
     "metadata": {},
     "output_type": "execute_result"
    }
   ],
   "execution_count": 12
  },
  {
   "metadata": {
    "ExecuteTime": {
     "end_time": "2025-07-08T10:39:18.469308Z",
     "start_time": "2025-07-08T10:39:18.394398Z"
    }
   },
   "cell_type": "code",
   "source": "df_ohlcv= df.copy()",
   "outputs": [],
   "execution_count": 7
  },
  {
   "metadata": {
    "ExecuteTime": {
     "end_time": "2025-07-08T10:39:26.977015Z",
     "start_time": "2025-07-08T10:39:23.487890Z"
    }
   },
   "cell_type": "code",
   "source": "df_ohlcv['Datetime'] = pd.to_datetime(df_ohlcv['Datetime'], infer_datetime_format=True, errors='coerce')\n",
   "outputs": [
    {
     "name": "stderr",
     "output_type": "stream",
     "text": [
      "C:\\Users\\PC\\AppData\\Local\\Temp\\ipykernel_6212\\2018301030.py:1: UserWarning: The argument 'infer_datetime_format' is deprecated and will be removed in a future version. A strict version of it is now the default, see https://pandas.pydata.org/pdeps/0004-consistent-to-datetime-parsing.html. You can safely remove this argument.\n",
      "  df_ohlcv['Datetime'] = pd.to_datetime(df_ohlcv['Datetime'], infer_datetime_format=True, errors='coerce')\n"
     ]
    }
   ],
   "execution_count": 8
  },
  {
   "metadata": {
    "ExecuteTime": {
     "end_time": "2025-07-08T10:39:37.630749Z",
     "start_time": "2025-07-08T10:39:37.612258Z"
    }
   },
   "cell_type": "code",
   "source": "df_ohlcv.head()",
   "outputs": [
    {
     "data": {
      "text/plain": [
       "              Datetime_aware            Datetime    Timezone    Open    High  \\\n",
       "0  2004-01-23 09:30:00-05:00 2004-01-23 09:30:00  US/Eastern  115.00  115.06   \n",
       "1  2004-01-23 09:31:00-05:00 2004-01-23 09:31:00  US/Eastern  115.05  115.06   \n",
       "2  2004-01-23 09:32:00-05:00 2004-01-23 09:32:00  US/Eastern  115.05  115.06   \n",
       "3  2004-01-23 09:33:00-05:00 2004-01-23 09:33:00  US/Eastern  115.03  115.06   \n",
       "4  2004-01-23 09:34:00-05:00 2004-01-23 09:34:00  US/Eastern  115.00  115.03   \n",
       "\n",
       "      Low   Close  Volume  \n",
       "0  115.00  115.04  272200  \n",
       "1  115.01  115.05  240200  \n",
       "2  114.98  115.05  131900  \n",
       "3  114.98  114.98  330800  \n",
       "4  114.96  115.00   87000  "
      ],
      "text/html": [
       "<div>\n",
       "<style scoped>\n",
       "    .dataframe tbody tr th:only-of-type {\n",
       "        vertical-align: middle;\n",
       "    }\n",
       "\n",
       "    .dataframe tbody tr th {\n",
       "        vertical-align: top;\n",
       "    }\n",
       "\n",
       "    .dataframe thead th {\n",
       "        text-align: right;\n",
       "    }\n",
       "</style>\n",
       "<table border=\"1\" class=\"dataframe\">\n",
       "  <thead>\n",
       "    <tr style=\"text-align: right;\">\n",
       "      <th></th>\n",
       "      <th>Datetime_aware</th>\n",
       "      <th>Datetime</th>\n",
       "      <th>Timezone</th>\n",
       "      <th>Open</th>\n",
       "      <th>High</th>\n",
       "      <th>Low</th>\n",
       "      <th>Close</th>\n",
       "      <th>Volume</th>\n",
       "    </tr>\n",
       "  </thead>\n",
       "  <tbody>\n",
       "    <tr>\n",
       "      <th>0</th>\n",
       "      <td>2004-01-23 09:30:00-05:00</td>\n",
       "      <td>2004-01-23 09:30:00</td>\n",
       "      <td>US/Eastern</td>\n",
       "      <td>115.00</td>\n",
       "      <td>115.06</td>\n",
       "      <td>115.00</td>\n",
       "      <td>115.04</td>\n",
       "      <td>272200</td>\n",
       "    </tr>\n",
       "    <tr>\n",
       "      <th>1</th>\n",
       "      <td>2004-01-23 09:31:00-05:00</td>\n",
       "      <td>2004-01-23 09:31:00</td>\n",
       "      <td>US/Eastern</td>\n",
       "      <td>115.05</td>\n",
       "      <td>115.06</td>\n",
       "      <td>115.01</td>\n",
       "      <td>115.05</td>\n",
       "      <td>240200</td>\n",
       "    </tr>\n",
       "    <tr>\n",
       "      <th>2</th>\n",
       "      <td>2004-01-23 09:32:00-05:00</td>\n",
       "      <td>2004-01-23 09:32:00</td>\n",
       "      <td>US/Eastern</td>\n",
       "      <td>115.05</td>\n",
       "      <td>115.06</td>\n",
       "      <td>114.98</td>\n",
       "      <td>115.05</td>\n",
       "      <td>131900</td>\n",
       "    </tr>\n",
       "    <tr>\n",
       "      <th>3</th>\n",
       "      <td>2004-01-23 09:33:00-05:00</td>\n",
       "      <td>2004-01-23 09:33:00</td>\n",
       "      <td>US/Eastern</td>\n",
       "      <td>115.03</td>\n",
       "      <td>115.06</td>\n",
       "      <td>114.98</td>\n",
       "      <td>114.98</td>\n",
       "      <td>330800</td>\n",
       "    </tr>\n",
       "    <tr>\n",
       "      <th>4</th>\n",
       "      <td>2004-01-23 09:34:00-05:00</td>\n",
       "      <td>2004-01-23 09:34:00</td>\n",
       "      <td>US/Eastern</td>\n",
       "      <td>115.00</td>\n",
       "      <td>115.03</td>\n",
       "      <td>114.96</td>\n",
       "      <td>115.00</td>\n",
       "      <td>87000</td>\n",
       "    </tr>\n",
       "  </tbody>\n",
       "</table>\n",
       "</div>"
      ]
     },
     "execution_count": 9,
     "metadata": {},
     "output_type": "execute_result"
    }
   ],
   "execution_count": 9
  },
  {
   "metadata": {
    "ExecuteTime": {
     "end_time": "2025-07-07T14:23:36.496788Z",
     "start_time": "2025-07-07T14:23:36.474322Z"
    }
   },
   "cell_type": "code",
   "source": [
    "# Define the datetime you are searching for\n",
    "search_datetime = pd.Timestamp(\"2013-06-24 09:30:00\")  # OR use datetime.datetime()\n",
    "\n",
    "# Filter the row where Datetime matches exactly\n",
    "result = df.loc[df_ohlcv['Datetime'] == search_datetime]\n",
    "\n",
    "# View the result\n",
    "print(result)\n"
   ],
   "outputs": [
    {
     "name": "stdout",
     "output_type": "stream",
     "text": [
      "                   Datetime_aware        Datetime    Timezone    Open    High  \\\n",
      "935632  2013-06-24 09:30:00-04:00  6/24/2013 9:30  US/Eastern  157.42  157.49   \n",
      "\n",
      "           Low   Close   Volume  \n",
      "935632  157.28  157.33  1904300  \n"
     ]
    }
   ],
   "execution_count": 37
  },
  {
   "metadata": {
    "ExecuteTime": {
     "end_time": "2025-07-08T10:39:47.215647Z",
     "start_time": "2025-07-08T10:39:47.205740Z"
    }
   },
   "cell_type": "code",
   "source": "df_ohlcv.columns",
   "outputs": [
    {
     "data": {
      "text/plain": [
       "Index(['Datetime_aware', 'Datetime', 'Timezone', 'Open', 'High', 'Low',\n",
       "       'Close', 'Volume'],\n",
       "      dtype='object')"
      ]
     },
     "execution_count": 10,
     "metadata": {},
     "output_type": "execute_result"
    }
   ],
   "execution_count": 10
  },
  {
   "metadata": {
    "ExecuteTime": {
     "end_time": "2025-07-08T10:40:02.686986Z",
     "start_time": "2025-07-08T10:40:01.525796Z"
    }
   },
   "cell_type": "code",
   "source": [
    "df_ohlcv.set_index('Datetime', inplace=True)\n",
    "\n",
    "df_5min = df_ohlcv.resample('5T').agg({\n",
    "    'Open': 'first',\n",
    "    'High': 'max',\n",
    "    'Low': 'min',\n",
    "    'Close': 'last',\n",
    "    'Volume': 'sum'\n",
    "}).dropna()\n"
   ],
   "outputs": [
    {
     "name": "stderr",
     "output_type": "stream",
     "text": [
      "C:\\Users\\PC\\AppData\\Local\\Temp\\ipykernel_6212\\1520899949.py:3: FutureWarning: 'T' is deprecated and will be removed in a future version, please use 'min' instead.\n",
      "  df_5min = df_ohlcv.resample('5T').agg({\n"
     ]
    }
   ],
   "execution_count": 11
  },
  {
   "metadata": {
    "ExecuteTime": {
     "end_time": "2025-07-08T10:40:06.978953Z",
     "start_time": "2025-07-08T10:40:06.954878Z"
    }
   },
   "cell_type": "code",
   "source": "df_5min.head()",
   "outputs": [
    {
     "data": {
      "text/plain": [
       "                       Open    High     Low   Close   Volume\n",
       "Datetime                                                    \n",
       "2004-01-23 09:30:00  115.00  115.06  114.96  115.00  1062100\n",
       "2004-01-23 09:35:00  115.00  115.08  114.98  115.02   324300\n",
       "2004-01-23 09:40:00  115.03  115.16  114.98  115.11   419500\n",
       "2004-01-23 09:45:00  115.11  115.16  115.08  115.09   487000\n",
       "2004-01-23 09:50:00  115.11  115.11  114.88  114.90   431100"
      ],
      "text/html": [
       "<div>\n",
       "<style scoped>\n",
       "    .dataframe tbody tr th:only-of-type {\n",
       "        vertical-align: middle;\n",
       "    }\n",
       "\n",
       "    .dataframe tbody tr th {\n",
       "        vertical-align: top;\n",
       "    }\n",
       "\n",
       "    .dataframe thead th {\n",
       "        text-align: right;\n",
       "    }\n",
       "</style>\n",
       "<table border=\"1\" class=\"dataframe\">\n",
       "  <thead>\n",
       "    <tr style=\"text-align: right;\">\n",
       "      <th></th>\n",
       "      <th>Open</th>\n",
       "      <th>High</th>\n",
       "      <th>Low</th>\n",
       "      <th>Close</th>\n",
       "      <th>Volume</th>\n",
       "    </tr>\n",
       "    <tr>\n",
       "      <th>Datetime</th>\n",
       "      <th></th>\n",
       "      <th></th>\n",
       "      <th></th>\n",
       "      <th></th>\n",
       "      <th></th>\n",
       "    </tr>\n",
       "  </thead>\n",
       "  <tbody>\n",
       "    <tr>\n",
       "      <th>2004-01-23 09:30:00</th>\n",
       "      <td>115.00</td>\n",
       "      <td>115.06</td>\n",
       "      <td>114.96</td>\n",
       "      <td>115.00</td>\n",
       "      <td>1062100</td>\n",
       "    </tr>\n",
       "    <tr>\n",
       "      <th>2004-01-23 09:35:00</th>\n",
       "      <td>115.00</td>\n",
       "      <td>115.08</td>\n",
       "      <td>114.98</td>\n",
       "      <td>115.02</td>\n",
       "      <td>324300</td>\n",
       "    </tr>\n",
       "    <tr>\n",
       "      <th>2004-01-23 09:40:00</th>\n",
       "      <td>115.03</td>\n",
       "      <td>115.16</td>\n",
       "      <td>114.98</td>\n",
       "      <td>115.11</td>\n",
       "      <td>419500</td>\n",
       "    </tr>\n",
       "    <tr>\n",
       "      <th>2004-01-23 09:45:00</th>\n",
       "      <td>115.11</td>\n",
       "      <td>115.16</td>\n",
       "      <td>115.08</td>\n",
       "      <td>115.09</td>\n",
       "      <td>487000</td>\n",
       "    </tr>\n",
       "    <tr>\n",
       "      <th>2004-01-23 09:50:00</th>\n",
       "      <td>115.11</td>\n",
       "      <td>115.11</td>\n",
       "      <td>114.88</td>\n",
       "      <td>114.90</td>\n",
       "      <td>431100</td>\n",
       "    </tr>\n",
       "  </tbody>\n",
       "</table>\n",
       "</div>"
      ]
     },
     "execution_count": 12,
     "metadata": {},
     "output_type": "execute_result"
    }
   ],
   "execution_count": 12
  },
  {
   "metadata": {
    "ExecuteTime": {
     "end_time": "2025-07-08T10:43:03.552851Z",
     "start_time": "2025-07-08T10:43:03.541075Z"
    }
   },
   "cell_type": "code",
   "source": "df_5min.columns",
   "outputs": [
    {
     "data": {
      "text/plain": [
       "Index(['Open', 'High', 'Low', 'Close', 'Volume'], dtype='object')"
      ]
     },
     "execution_count": 14,
     "metadata": {},
     "output_type": "execute_result"
    }
   ],
   "execution_count": 14
  },
  {
   "metadata": {},
   "cell_type": "code",
   "source": [
    "#train test split\n",
    "train, test = train_test_split(df_5min, test_size=0.2, shuffle=False)"
   ],
   "outputs": [],
   "execution_count": null
  },
  {
   "metadata": {
    "ExecuteTime": {
     "end_time": "2025-07-08T10:47:00.661574Z",
     "start_time": "2025-07-08T10:47:00.654971Z"
    }
   },
   "cell_type": "code",
   "source": [
    "models = {}\n",
    "results = {}\n",
    "forecast = {}"
   ],
   "outputs": [],
   "execution_count": 15
  },
  {
   "metadata": {
    "ExecuteTime": {
     "end_time": "2025-07-08T10:51:21.386092Z",
     "start_time": "2025-07-08T10:47:45.935817Z"
    }
   },
   "cell_type": "code",
   "source": [
    "model = SARIMAX(df_5min['Open'], order=(1,1,1), seasonal_order=(0,1,1,12))\n",
    "results['Open'] = model.fit()"
   ],
   "outputs": [
    {
     "name": "stderr",
     "output_type": "stream",
     "text": [
      "C:\\Users\\PC\\.venvs\\venv_py_3_11\\Lib\\site-packages\\statsmodels\\tsa\\base\\tsa_model.py:473: ValueWarning: A date index has been provided, but it has no associated frequency information and so will be ignored when e.g. forecasting.\n",
      "  self._init_dates(dates, freq)\n",
      "C:\\Users\\PC\\.venvs\\venv_py_3_11\\Lib\\site-packages\\statsmodels\\tsa\\base\\tsa_model.py:473: ValueWarning: A date index has been provided, but it has no associated frequency information and so will be ignored when e.g. forecasting.\n",
      "  self._init_dates(dates, freq)\n"
     ]
    }
   ],
   "execution_count": 16
  },
  {
   "metadata": {
    "ExecuteTime": {
     "end_time": "2025-07-08T10:54:42.501323Z",
     "start_time": "2025-07-08T10:54:42.422966Z"
    }
   },
   "cell_type": "code",
   "source": "forecast['Open'] = results['Open'].forecast(steps=6)",
   "outputs": [
    {
     "name": "stderr",
     "output_type": "stream",
     "text": [
      "C:\\Users\\PC\\.venvs\\venv_py_3_11\\Lib\\site-packages\\statsmodels\\tsa\\base\\tsa_model.py:837: ValueWarning: No supported index is available. Prediction results will be given with an integer index beginning at `start`.\n",
      "  return get_prediction_index(\n",
      "C:\\Users\\PC\\.venvs\\venv_py_3_11\\Lib\\site-packages\\statsmodels\\tsa\\base\\tsa_model.py:837: FutureWarning: No supported index is available. In the next version, calling this method in a model without a supported index will result in an exception.\n",
      "  return get_prediction_index(\n"
     ]
    }
   ],
   "execution_count": 17
  },
  {
   "metadata": {
    "ExecuteTime": {
     "end_time": "2025-07-08T11:02:52.592185Z",
     "start_time": "2025-07-08T11:02:52.578301Z"
    }
   },
   "cell_type": "code",
   "source": "forecast['Open'].size",
   "outputs": [
    {
     "data": {
      "text/plain": [
       "6"
      ]
     },
     "execution_count": 21,
     "metadata": {},
     "output_type": "execute_result"
    }
   ],
   "execution_count": 21
  },
  {
   "metadata": {
    "ExecuteTime": {
     "end_time": "2025-07-08T11:32:23.261674Z",
     "start_time": "2025-07-08T11:32:23.255257Z"
    }
   },
   "cell_type": "code",
   "source": [
    "#delete unused variables\n",
    "del df_ohlcv"
   ],
   "outputs": [],
   "execution_count": 31
  },
  {
   "metadata": {},
   "cell_type": "code",
   "outputs": [],
   "execution_count": null,
   "source": [
    "from pmdarima import auto_arima\n",
    "\n",
    "stepwise_model = auto_arima(\n",
    "    df_5min['close'],\n",
    "    start_p=0, start_q=0,\n",
    "    max_p=5, max_q=5,\n",
    "    d=1, seasonal=False,\n",
    "    trace=True, error_action='ignore', suppress_warnings=True\n",
    ")\n",
    "\n",
    "print(stepwise_model.summary())\n"
   ]
  },
  {
   "metadata": {
    "ExecuteTime": {
     "end_time": "2025-07-07T14:55:00.401751Z",
     "start_time": "2025-07-07T14:37:34.270796Z"
    }
   },
   "cell_type": "code",
   "outputs": [
    {
     "name": "stderr",
     "output_type": "stream",
     "text": [
      "C:\\Users\\PC\\.venvs\\venv_py_3_11\\Lib\\site-packages\\statsmodels\\tsa\\base\\tsa_model.py:473: ValueWarning: A date index has been provided, but it has no associated frequency information and so will be ignored when e.g. forecasting.\n",
      "  self._init_dates(dates, freq)\n",
      "C:\\Users\\PC\\.venvs\\venv_py_3_11\\Lib\\site-packages\\statsmodels\\tsa\\base\\tsa_model.py:473: ValueWarning: A date index has been provided, but it has no associated frequency information and so will be ignored when e.g. forecasting.\n",
      "  self._init_dates(dates, freq)\n",
      "C:\\Users\\PC\\.venvs\\venv_py_3_11\\Lib\\site-packages\\statsmodels\\tsa\\base\\tsa_model.py:837: ValueWarning: No supported index is available. Prediction results will be given with an integer index beginning at `start`.\n",
      "  return get_prediction_index(\n",
      "C:\\Users\\PC\\.venvs\\venv_py_3_11\\Lib\\site-packages\\statsmodels\\tsa\\base\\tsa_model.py:837: FutureWarning: No supported index is available. In the next version, calling this method in a model without a supported index will result in an exception.\n",
      "  return get_prediction_index(\n",
      "C:\\Users\\PC\\.venvs\\venv_py_3_11\\Lib\\site-packages\\statsmodels\\tsa\\base\\tsa_model.py:473: ValueWarning: A date index has been provided, but it has no associated frequency information and so will be ignored when e.g. forecasting.\n",
      "  self._init_dates(dates, freq)\n",
      "C:\\Users\\PC\\.venvs\\venv_py_3_11\\Lib\\site-packages\\statsmodels\\tsa\\base\\tsa_model.py:473: ValueWarning: A date index has been provided, but it has no associated frequency information and so will be ignored when e.g. forecasting.\n",
      "  self._init_dates(dates, freq)\n",
      "C:\\Users\\PC\\.venvs\\venv_py_3_11\\Lib\\site-packages\\statsmodels\\tsa\\base\\tsa_model.py:837: ValueWarning: No supported index is available. Prediction results will be given with an integer index beginning at `start`.\n",
      "  return get_prediction_index(\n",
      "C:\\Users\\PC\\.venvs\\venv_py_3_11\\Lib\\site-packages\\statsmodels\\tsa\\base\\tsa_model.py:837: FutureWarning: No supported index is available. In the next version, calling this method in a model without a supported index will result in an exception.\n",
      "  return get_prediction_index(\n",
      "C:\\Users\\PC\\.venvs\\venv_py_3_11\\Lib\\site-packages\\statsmodels\\tsa\\base\\tsa_model.py:473: ValueWarning: A date index has been provided, but it has no associated frequency information and so will be ignored when e.g. forecasting.\n",
      "  self._init_dates(dates, freq)\n",
      "C:\\Users\\PC\\.venvs\\venv_py_3_11\\Lib\\site-packages\\statsmodels\\tsa\\base\\tsa_model.py:473: ValueWarning: A date index has been provided, but it has no associated frequency information and so will be ignored when e.g. forecasting.\n",
      "  self._init_dates(dates, freq)\n"
     ]
    }
   ],
   "execution_count": 42,
   "source": [
    "\n",
    "\n",
    "for col in ['Open', 'High', 'Low','Close', 'Volume']:\n",
    "    model = SARIMAX(df_5min[col], order=(1,1,1), seasonal_order=(0,1,1,12))\n",
    "    results[col] = model.fit()\n",
    "    forecast[col] = results[col].forecast(steps=6)\n"
   ]
  },
  {
   "metadata": {
    "ExecuteTime": {
     "end_time": "2025-07-08T11:09:00.928973Z",
     "start_time": "2025-07-08T11:09:00.916868Z"
    }
   },
   "cell_type": "code",
   "outputs": [
    {
     "data": {
      "text/plain": [
       "['ARIMA',\n",
       " 'Adam',\n",
       " 'Conv1D',\n",
       " 'Dense',\n",
       " 'Flatten',\n",
       " 'GRU',\n",
       " 'GradientBoostingRegressor',\n",
       " 'LSTM',\n",
       " 'MaxPooling1D',\n",
       " 'MinMaxScaler',\n",
       " 'Prophet',\n",
       " 'RandomForestRegressor',\n",
       " 'RepeatVector',\n",
       " 'SARIMAX',\n",
       " 'Sequential',\n",
       " 'TimeDistributed',\n",
       " 'df',\n",
       " 'df_5min',\n",
       " 'df_ohlcv',\n",
       " 'display',\n",
       " 'forecast',\n",
       " 'mean_squared_error',\n",
       " 'model',\n",
       " 'models',\n",
       " 'np',\n",
       " 'pd',\n",
       " 'plt',\n",
       " 'pydev_jupyter_vars',\n",
       " 'remove_imported_pydev_package',\n",
       " 'results',\n",
       " 'sys',\n",
       " 'tf',\n",
       " 'train_test_split']"
      ]
     },
     "execution_count": 24,
     "metadata": {},
     "output_type": "execute_result"
    }
   ],
   "execution_count": 24,
   "source": [
    "#memory management\n",
    "%who_ls"
   ]
  },
  {
   "metadata": {
    "ExecuteTime": {
     "end_time": "2025-07-08T11:09:38.270288Z",
     "start_time": "2025-07-08T11:09:36.705037Z"
    }
   },
   "cell_type": "code",
   "outputs": [
    {
     "data": {
      "text/plain": [
       "{'__name__': 57,\n",
       " '__doc__': 113,\n",
       " '__package__': 16,\n",
       " '__loader__': 16,\n",
       " '__spec__': 16,\n",
       " '__builtin__': 72,\n",
       " '__builtins__': 72,\n",
       " '_ih': 312,\n",
       " '_oh': 352,\n",
       " '_dh': 64,\n",
       " 'In': 312,\n",
       " 'Out': 352,\n",
       " 'get_ipython': 64,\n",
       " 'exit': 56,\n",
       " 'quit': 56,\n",
       " 'open': 152,\n",
       " '_': 376,\n",
       " '__': 3328,\n",
       " '___': 28,\n",
       " '__session__': 67,\n",
       " '_i': 75,\n",
       " '_ii': 174,\n",
       " '_iii': 72,\n",
       " '_i1': 87,\n",
       " 'pd': 72,\n",
       " 'np': 72,\n",
       " 'sys': 72,\n",
       " 'remove_imported_pydev_package': 152,\n",
       " '_pydevd_bundle': 72,\n",
       " 'pydev_jupyter_vars': 72,\n",
       " '_i2': 434,\n",
       " 'train_test_split': 152,\n",
       " 'MinMaxScaler': 1688,\n",
       " 'mean_squared_error': 152,\n",
       " 'plt': 72,\n",
       " 'ARIMA': 1688,\n",
       " 'SARIMAX': 1688,\n",
       " 'RandomForestRegressor': 1688,\n",
       " 'GradientBoostingRegressor': 1688,\n",
       " '_i3': 272,\n",
       " 'tf': 72,\n",
       " 'Sequential': 1688,\n",
       " 'LSTM': 1688,\n",
       " 'GRU': 1688,\n",
       " 'Conv1D': 1688,\n",
       " 'MaxPooling1D': 1688,\n",
       " 'Flatten': 1688,\n",
       " 'Dense': 1688,\n",
       " 'RepeatVector': 1688,\n",
       " 'TimeDistributed': 1688,\n",
       " 'Adam': 1688,\n",
       " '_i4': 86,\n",
       " 'Prophet': 1688,\n",
       " '_i5': 100,\n",
       " '_exit_code': 28,\n",
       " '_i6': 131,\n",
       " 'df': 559948890,\n",
       " '_6': 1464,\n",
       " '_i7': 68,\n",
       " 'df_ohlcv': 419192675,\n",
       " '_i8': 153,\n",
       " '_i9': 64,\n",
       " '_9': 1149,\n",
       " '_i10': 65,\n",
       " '_10': 840,\n",
       " '_i11': 245,\n",
       " 'df_5min': 9086480,\n",
       " '_i12': 63,\n",
       " '_12': 272,\n",
       " '_i13': 92,\n",
       " '_i14': 64,\n",
       " '_14': 511,\n",
       " '_i15': 87,\n",
       " 'models': 64,\n",
       " 'results': 184,\n",
       " 'forecast': 184,\n",
       " '_i16': 153,\n",
       " 'model': 56,\n",
       " '_i17': 101,\n",
       " '_i18': 76,\n",
       " '_18': 879,\n",
       " '_i19': 70,\n",
       " '_i20': 73,\n",
       " '_i21': 70,\n",
       " '_21': 28,\n",
       " '_i22': 72,\n",
       " '_i23': 174,\n",
       " 'display': 152,\n",
       " '_23': 3328,\n",
       " '_i24': 75,\n",
       " '_24': 376,\n",
       " '_i25': 174}"
      ]
     },
     "execution_count": 25,
     "metadata": {},
     "output_type": "execute_result"
    }
   ],
   "execution_count": 25,
   "source": [
    "#memory management\n",
    "import sys\n",
    "from IPython.display import display\n",
    "{var: sys.getsizeof(val) for var, val in globals().items()}\n"
   ]
  },
  {
   "metadata": {},
   "cell_type": "code",
   "outputs": [],
   "execution_count": null,
   "source": [
    "import gc\n",
    "gc.collect()\n"
   ]
  },
  {
   "metadata": {},
   "cell_type": "code",
   "outputs": [],
   "execution_count": null,
   "source": ""
  },
  {
   "cell_type": "code",
   "source": [
    "\n",
    "\n",
    "# Preprocessing\n",
    "df['Datetime'] = pd.to_datetime(df['Datetime'])\n",
    "df.sort_values('Datetime', inplace=True)\n",
    "df.set_index('Datetime', inplace=True)\n",
    "\n",
    "# Feature Engineering\n",
    "df['Close_Open'] = df['Close'] - df['Open']\n",
    "data = df[['Close_Open']]\n",
    "\n",
    "# Handle Missing Values (if any)\n",
    "data = data.dropna()\n",
    "\n",
    "data.head()\n"
   ],
   "metadata": {
    "colab": {
     "base_uri": "https://localhost:8080/",
     "height": 237
    },
    "id": "NZ-U0rEYH6_X",
    "outputId": "1b9e2a07-6dd5-496c-af46-20c41e810246"
   },
   "execution_count": null,
   "outputs": [
    {
     "output_type": "execute_result",
     "data": {
      "text/plain": [
       "            Close_Open\n",
       "Datetime              \n",
       "2015-02-12        0.31\n",
       "2015-02-13        0.19\n",
       "2015-02-17       -0.31\n",
       "2015-02-18       -0.06\n",
       "2015-02-19        0.20"
      ],
      "text/html": [
       "\n",
       "  <div id=\"df-1a72cc9a-91ac-47a7-8bc7-16ba87ec5614\" class=\"colab-df-container\">\n",
       "    <div>\n",
       "<style scoped>\n",
       "    .dataframe tbody tr th:only-of-type {\n",
       "        vertical-align: middle;\n",
       "    }\n",
       "\n",
       "    .dataframe tbody tr th {\n",
       "        vertical-align: top;\n",
       "    }\n",
       "\n",
       "    .dataframe thead th {\n",
       "        text-align: right;\n",
       "    }\n",
       "</style>\n",
       "<table border=\"1\" class=\"dataframe\">\n",
       "  <thead>\n",
       "    <tr style=\"text-align: right;\">\n",
       "      <th></th>\n",
       "      <th>Close_Open</th>\n",
       "    </tr>\n",
       "    <tr>\n",
       "      <th>Datetime</th>\n",
       "      <th></th>\n",
       "    </tr>\n",
       "  </thead>\n",
       "  <tbody>\n",
       "    <tr>\n",
       "      <th>2015-02-12</th>\n",
       "      <td>0.31</td>\n",
       "    </tr>\n",
       "    <tr>\n",
       "      <th>2015-02-13</th>\n",
       "      <td>0.19</td>\n",
       "    </tr>\n",
       "    <tr>\n",
       "      <th>2015-02-17</th>\n",
       "      <td>-0.31</td>\n",
       "    </tr>\n",
       "    <tr>\n",
       "      <th>2015-02-18</th>\n",
       "      <td>-0.06</td>\n",
       "    </tr>\n",
       "    <tr>\n",
       "      <th>2015-02-19</th>\n",
       "      <td>0.20</td>\n",
       "    </tr>\n",
       "  </tbody>\n",
       "</table>\n",
       "</div>\n",
       "    <div class=\"colab-df-buttons\">\n",
       "\n",
       "  <div class=\"colab-df-container\">\n",
       "    <button class=\"colab-df-convert\" onclick=\"convertToInteractive('df-1a72cc9a-91ac-47a7-8bc7-16ba87ec5614')\"\n",
       "            title=\"Convert this dataframe to an interactive table.\"\n",
       "            style=\"display:none;\">\n",
       "\n",
       "  <svg xmlns=\"http://www.w3.org/2000/svg\" height=\"24px\" viewBox=\"0 -960 960 960\">\n",
       "    <path d=\"M120-120v-720h720v720H120Zm60-500h600v-160H180v160Zm220 220h160v-160H400v160Zm0 220h160v-160H400v160ZM180-400h160v-160H180v160Zm440 0h160v-160H620v160ZM180-180h160v-160H180v160Zm440 0h160v-160H620v160Z\"/>\n",
       "  </svg>\n",
       "    </button>\n",
       "\n",
       "  <style>\n",
       "    .colab-df-container {\n",
       "      display:flex;\n",
       "      gap: 12px;\n",
       "    }\n",
       "\n",
       "    .colab-df-convert {\n",
       "      background-color: #E8F0FE;\n",
       "      border: none;\n",
       "      border-radius: 50%;\n",
       "      cursor: pointer;\n",
       "      display: none;\n",
       "      fill: #1967D2;\n",
       "      height: 32px;\n",
       "      padding: 0 0 0 0;\n",
       "      width: 32px;\n",
       "    }\n",
       "\n",
       "    .colab-df-convert:hover {\n",
       "      background-color: #E2EBFA;\n",
       "      box-shadow: 0px 1px 2px rgba(60, 64, 67, 0.3), 0px 1px 3px 1px rgba(60, 64, 67, 0.15);\n",
       "      fill: #174EA6;\n",
       "    }\n",
       "\n",
       "    .colab-df-buttons div {\n",
       "      margin-bottom: 4px;\n",
       "    }\n",
       "\n",
       "    [theme=dark] .colab-df-convert {\n",
       "      background-color: #3B4455;\n",
       "      fill: #D2E3FC;\n",
       "    }\n",
       "\n",
       "    [theme=dark] .colab-df-convert:hover {\n",
       "      background-color: #434B5C;\n",
       "      box-shadow: 0px 1px 3px 1px rgba(0, 0, 0, 0.15);\n",
       "      filter: drop-shadow(0px 1px 2px rgba(0, 0, 0, 0.3));\n",
       "      fill: #FFFFFF;\n",
       "    }\n",
       "  </style>\n",
       "\n",
       "    <script>\n",
       "      const buttonEl =\n",
       "        document.querySelector('#df-1a72cc9a-91ac-47a7-8bc7-16ba87ec5614 button.colab-df-convert');\n",
       "      buttonEl.style.display =\n",
       "        google.colab.kernel.accessAllowed ? 'block' : 'none';\n",
       "\n",
       "      async function convertToInteractive(key) {\n",
       "        const element = document.querySelector('#df-1a72cc9a-91ac-47a7-8bc7-16ba87ec5614');\n",
       "        const dataTable =\n",
       "          await google.colab.kernel.invokeFunction('convertToInteractive',\n",
       "                                                    [key], {});\n",
       "        if (!dataTable) return;\n",
       "\n",
       "        const docLinkHtml = 'Like what you see? Visit the ' +\n",
       "          '<a target=\"_blank\" href=https://colab.research.google.com/notebooks/data_table.ipynb>data table notebook</a>'\n",
       "          + ' to learn more about interactive tables.';\n",
       "        element.innerHTML = '';\n",
       "        dataTable['output_type'] = 'display_data';\n",
       "        await google.colab.output.renderOutput(dataTable, element);\n",
       "        const docLink = document.createElement('div');\n",
       "        docLink.innerHTML = docLinkHtml;\n",
       "        element.appendChild(docLink);\n",
       "      }\n",
       "    </script>\n",
       "  </div>\n",
       "\n",
       "\n",
       "<div id=\"df-1d8de661-1d07-4bc8-a718-7a8663b1d484\">\n",
       "  <button class=\"colab-df-quickchart\" onclick=\"quickchart('df-1d8de661-1d07-4bc8-a718-7a8663b1d484')\"\n",
       "            title=\"Suggest charts\"\n",
       "            style=\"display:none;\">\n",
       "\n",
       "<svg xmlns=\"http://www.w3.org/2000/svg\" height=\"24px\"viewBox=\"0 0 24 24\"\n",
       "     width=\"24px\">\n",
       "    <g>\n",
       "        <path d=\"M19 3H5c-1.1 0-2 .9-2 2v14c0 1.1.9 2 2 2h14c1.1 0 2-.9 2-2V5c0-1.1-.9-2-2-2zM9 17H7v-7h2v7zm4 0h-2V7h2v10zm4 0h-2v-4h2v4z\"/>\n",
       "    </g>\n",
       "</svg>\n",
       "  </button>\n",
       "\n",
       "<style>\n",
       "  .colab-df-quickchart {\n",
       "      --bg-color: #E8F0FE;\n",
       "      --fill-color: #1967D2;\n",
       "      --hover-bg-color: #E2EBFA;\n",
       "      --hover-fill-color: #174EA6;\n",
       "      --disabled-fill-color: #AAA;\n",
       "      --disabled-bg-color: #DDD;\n",
       "  }\n",
       "\n",
       "  [theme=dark] .colab-df-quickchart {\n",
       "      --bg-color: #3B4455;\n",
       "      --fill-color: #D2E3FC;\n",
       "      --hover-bg-color: #434B5C;\n",
       "      --hover-fill-color: #FFFFFF;\n",
       "      --disabled-bg-color: #3B4455;\n",
       "      --disabled-fill-color: #666;\n",
       "  }\n",
       "\n",
       "  .colab-df-quickchart {\n",
       "    background-color: var(--bg-color);\n",
       "    border: none;\n",
       "    border-radius: 50%;\n",
       "    cursor: pointer;\n",
       "    display: none;\n",
       "    fill: var(--fill-color);\n",
       "    height: 32px;\n",
       "    padding: 0;\n",
       "    width: 32px;\n",
       "  }\n",
       "\n",
       "  .colab-df-quickchart:hover {\n",
       "    background-color: var(--hover-bg-color);\n",
       "    box-shadow: 0 1px 2px rgba(60, 64, 67, 0.3), 0 1px 3px 1px rgba(60, 64, 67, 0.15);\n",
       "    fill: var(--button-hover-fill-color);\n",
       "  }\n",
       "\n",
       "  .colab-df-quickchart-complete:disabled,\n",
       "  .colab-df-quickchart-complete:disabled:hover {\n",
       "    background-color: var(--disabled-bg-color);\n",
       "    fill: var(--disabled-fill-color);\n",
       "    box-shadow: none;\n",
       "  }\n",
       "\n",
       "  .colab-df-spinner {\n",
       "    border: 2px solid var(--fill-color);\n",
       "    border-color: transparent;\n",
       "    border-bottom-color: var(--fill-color);\n",
       "    animation:\n",
       "      spin 1s steps(1) infinite;\n",
       "  }\n",
       "\n",
       "  @keyframes spin {\n",
       "    0% {\n",
       "      border-color: transparent;\n",
       "      border-bottom-color: var(--fill-color);\n",
       "      border-left-color: var(--fill-color);\n",
       "    }\n",
       "    20% {\n",
       "      border-color: transparent;\n",
       "      border-left-color: var(--fill-color);\n",
       "      border-top-color: var(--fill-color);\n",
       "    }\n",
       "    30% {\n",
       "      border-color: transparent;\n",
       "      border-left-color: var(--fill-color);\n",
       "      border-top-color: var(--fill-color);\n",
       "      border-right-color: var(--fill-color);\n",
       "    }\n",
       "    40% {\n",
       "      border-color: transparent;\n",
       "      border-right-color: var(--fill-color);\n",
       "      border-top-color: var(--fill-color);\n",
       "    }\n",
       "    60% {\n",
       "      border-color: transparent;\n",
       "      border-right-color: var(--fill-color);\n",
       "    }\n",
       "    80% {\n",
       "      border-color: transparent;\n",
       "      border-right-color: var(--fill-color);\n",
       "      border-bottom-color: var(--fill-color);\n",
       "    }\n",
       "    90% {\n",
       "      border-color: transparent;\n",
       "      border-bottom-color: var(--fill-color);\n",
       "    }\n",
       "  }\n",
       "</style>\n",
       "\n",
       "  <script>\n",
       "    async function quickchart(key) {\n",
       "      const quickchartButtonEl =\n",
       "        document.querySelector('#' + key + ' button');\n",
       "      quickchartButtonEl.disabled = true;  // To prevent multiple clicks.\n",
       "      quickchartButtonEl.classList.add('colab-df-spinner');\n",
       "      try {\n",
       "        const charts = await google.colab.kernel.invokeFunction(\n",
       "            'suggestCharts', [key], {});\n",
       "      } catch (error) {\n",
       "        console.error('Error during call to suggestCharts:', error);\n",
       "      }\n",
       "      quickchartButtonEl.classList.remove('colab-df-spinner');\n",
       "      quickchartButtonEl.classList.add('colab-df-quickchart-complete');\n",
       "    }\n",
       "    (() => {\n",
       "      let quickchartButtonEl =\n",
       "        document.querySelector('#df-1d8de661-1d07-4bc8-a718-7a8663b1d484 button');\n",
       "      quickchartButtonEl.style.display =\n",
       "        google.colab.kernel.accessAllowed ? 'block' : 'none';\n",
       "    })();\n",
       "  </script>\n",
       "</div>\n",
       "\n",
       "    </div>\n",
       "  </div>\n"
      ],
      "application/vnd.google.colaboratory.intrinsic+json": {
       "type": "dataframe",
       "variable_name": "data",
       "summary": "{\n  \"name\": \"data\",\n  \"rows\": 2513,\n  \"fields\": [\n    {\n      \"column\": \"Datetime\",\n      \"properties\": {\n        \"dtype\": \"date\",\n        \"min\": \"2015-02-12 00:00:00\",\n        \"max\": \"2025-02-07 00:00:00\",\n        \"num_unique_values\": 2513,\n        \"samples\": [\n          \"2017-11-21 00:00:00\",\n          \"2016-10-31 00:00:00\",\n          \"2019-05-15 00:00:00\"\n        ],\n        \"semantic_type\": \"\",\n        \"description\": \"\"\n      }\n    },\n    {\n      \"column\": \"Close_Open\",\n      \"properties\": {\n        \"dtype\": \"number\",\n        \"std\": 1.3351736467431121,\n        \"min\": -6.819999999999993,\n        \"max\": 10.090000000000003,\n        \"num_unique_values\": 1055,\n        \"samples\": [\n          -0.3499999999999943,\n          -1.7000000000000028,\n          -1.2900000000000063\n        ],\n        \"semantic_type\": \"\",\n        \"description\": \"\"\n      }\n    }\n  ]\n}"
      }
     },
     "metadata": {},
     "execution_count": 63
    }
   ]
  },
  {
   "metadata": {},
   "cell_type": "code",
   "outputs": [],
   "execution_count": null,
   "source": "df['Datetime'] = pd.to_datetime(df['Datetime'], format=\"%Y-%m-%d %H:%M:%S\")\n"
  },
  {
   "cell_type": "code",
   "source": [
    "\n",
    "# Scale Data\n",
    "#scaler = MinMaxScaler()\n",
    "#data['Close_Open'] = scaler.fit_transform(data['Close_Open'].values.reshape(-1, 1))\n",
    "\n",
    "# Split Data\n",
    "train_size = int(len(data) * 0.8)\n",
    "train, test = data.iloc[:train_size], data.iloc[train_size:]"
   ],
   "metadata": {
    "id": "N6K1DV1iIGZb"
   },
   "execution_count": null,
   "outputs": []
  },
  {
   "cell_type": "code",
   "source": [
    "train.head()"
   ],
   "metadata": {
    "colab": {
     "base_uri": "https://localhost:8080/",
     "height": 237
    },
    "id": "yGsd7yEmIMbC",
    "outputId": "7e7f881a-aad8-4b10-ab02-3b0997c93309"
   },
   "execution_count": null,
   "outputs": [
    {
     "output_type": "execute_result",
     "data": {
      "text/plain": [
       "            Close_Open\n",
       "Datetime              \n",
       "2015-02-12        0.31\n",
       "2015-02-13        0.19\n",
       "2015-02-17       -0.31\n",
       "2015-02-18       -0.06\n",
       "2015-02-19        0.20"
      ],
      "text/html": [
       "\n",
       "  <div id=\"df-57553711-e0c5-4485-867a-1fd38ca55894\" class=\"colab-df-container\">\n",
       "    <div>\n",
       "<style scoped>\n",
       "    .dataframe tbody tr th:only-of-type {\n",
       "        vertical-align: middle;\n",
       "    }\n",
       "\n",
       "    .dataframe tbody tr th {\n",
       "        vertical-align: top;\n",
       "    }\n",
       "\n",
       "    .dataframe thead th {\n",
       "        text-align: right;\n",
       "    }\n",
       "</style>\n",
       "<table border=\"1\" class=\"dataframe\">\n",
       "  <thead>\n",
       "    <tr style=\"text-align: right;\">\n",
       "      <th></th>\n",
       "      <th>Close_Open</th>\n",
       "    </tr>\n",
       "    <tr>\n",
       "      <th>Datetime</th>\n",
       "      <th></th>\n",
       "    </tr>\n",
       "  </thead>\n",
       "  <tbody>\n",
       "    <tr>\n",
       "      <th>2015-02-12</th>\n",
       "      <td>0.31</td>\n",
       "    </tr>\n",
       "    <tr>\n",
       "      <th>2015-02-13</th>\n",
       "      <td>0.19</td>\n",
       "    </tr>\n",
       "    <tr>\n",
       "      <th>2015-02-17</th>\n",
       "      <td>-0.31</td>\n",
       "    </tr>\n",
       "    <tr>\n",
       "      <th>2015-02-18</th>\n",
       "      <td>-0.06</td>\n",
       "    </tr>\n",
       "    <tr>\n",
       "      <th>2015-02-19</th>\n",
       "      <td>0.20</td>\n",
       "    </tr>\n",
       "  </tbody>\n",
       "</table>\n",
       "</div>\n",
       "    <div class=\"colab-df-buttons\">\n",
       "\n",
       "  <div class=\"colab-df-container\">\n",
       "    <button class=\"colab-df-convert\" onclick=\"convertToInteractive('df-57553711-e0c5-4485-867a-1fd38ca55894')\"\n",
       "            title=\"Convert this dataframe to an interactive table.\"\n",
       "            style=\"display:none;\">\n",
       "\n",
       "  <svg xmlns=\"http://www.w3.org/2000/svg\" height=\"24px\" viewBox=\"0 -960 960 960\">\n",
       "    <path d=\"M120-120v-720h720v720H120Zm60-500h600v-160H180v160Zm220 220h160v-160H400v160Zm0 220h160v-160H400v160ZM180-400h160v-160H180v160Zm440 0h160v-160H620v160ZM180-180h160v-160H180v160Zm440 0h160v-160H620v160Z\"/>\n",
       "  </svg>\n",
       "    </button>\n",
       "\n",
       "  <style>\n",
       "    .colab-df-container {\n",
       "      display:flex;\n",
       "      gap: 12px;\n",
       "    }\n",
       "\n",
       "    .colab-df-convert {\n",
       "      background-color: #E8F0FE;\n",
       "      border: none;\n",
       "      border-radius: 50%;\n",
       "      cursor: pointer;\n",
       "      display: none;\n",
       "      fill: #1967D2;\n",
       "      height: 32px;\n",
       "      padding: 0 0 0 0;\n",
       "      width: 32px;\n",
       "    }\n",
       "\n",
       "    .colab-df-convert:hover {\n",
       "      background-color: #E2EBFA;\n",
       "      box-shadow: 0px 1px 2px rgba(60, 64, 67, 0.3), 0px 1px 3px 1px rgba(60, 64, 67, 0.15);\n",
       "      fill: #174EA6;\n",
       "    }\n",
       "\n",
       "    .colab-df-buttons div {\n",
       "      margin-bottom: 4px;\n",
       "    }\n",
       "\n",
       "    [theme=dark] .colab-df-convert {\n",
       "      background-color: #3B4455;\n",
       "      fill: #D2E3FC;\n",
       "    }\n",
       "\n",
       "    [theme=dark] .colab-df-convert:hover {\n",
       "      background-color: #434B5C;\n",
       "      box-shadow: 0px 1px 3px 1px rgba(0, 0, 0, 0.15);\n",
       "      filter: drop-shadow(0px 1px 2px rgba(0, 0, 0, 0.3));\n",
       "      fill: #FFFFFF;\n",
       "    }\n",
       "  </style>\n",
       "\n",
       "    <script>\n",
       "      const buttonEl =\n",
       "        document.querySelector('#df-57553711-e0c5-4485-867a-1fd38ca55894 button.colab-df-convert');\n",
       "      buttonEl.style.display =\n",
       "        google.colab.kernel.accessAllowed ? 'block' : 'none';\n",
       "\n",
       "      async function convertToInteractive(key) {\n",
       "        const element = document.querySelector('#df-57553711-e0c5-4485-867a-1fd38ca55894');\n",
       "        const dataTable =\n",
       "          await google.colab.kernel.invokeFunction('convertToInteractive',\n",
       "                                                    [key], {});\n",
       "        if (!dataTable) return;\n",
       "\n",
       "        const docLinkHtml = 'Like what you see? Visit the ' +\n",
       "          '<a target=\"_blank\" href=https://colab.research.google.com/notebooks/data_table.ipynb>data table notebook</a>'\n",
       "          + ' to learn more about interactive tables.';\n",
       "        element.innerHTML = '';\n",
       "        dataTable['output_type'] = 'display_data';\n",
       "        await google.colab.output.renderOutput(dataTable, element);\n",
       "        const docLink = document.createElement('div');\n",
       "        docLink.innerHTML = docLinkHtml;\n",
       "        element.appendChild(docLink);\n",
       "      }\n",
       "    </script>\n",
       "  </div>\n",
       "\n",
       "\n",
       "<div id=\"df-e210b527-7127-412d-86eb-a8c11ede4a9b\">\n",
       "  <button class=\"colab-df-quickchart\" onclick=\"quickchart('df-e210b527-7127-412d-86eb-a8c11ede4a9b')\"\n",
       "            title=\"Suggest charts\"\n",
       "            style=\"display:none;\">\n",
       "\n",
       "<svg xmlns=\"http://www.w3.org/2000/svg\" height=\"24px\"viewBox=\"0 0 24 24\"\n",
       "     width=\"24px\">\n",
       "    <g>\n",
       "        <path d=\"M19 3H5c-1.1 0-2 .9-2 2v14c0 1.1.9 2 2 2h14c1.1 0 2-.9 2-2V5c0-1.1-.9-2-2-2zM9 17H7v-7h2v7zm4 0h-2V7h2v10zm4 0h-2v-4h2v4z\"/>\n",
       "    </g>\n",
       "</svg>\n",
       "  </button>\n",
       "\n",
       "<style>\n",
       "  .colab-df-quickchart {\n",
       "      --bg-color: #E8F0FE;\n",
       "      --fill-color: #1967D2;\n",
       "      --hover-bg-color: #E2EBFA;\n",
       "      --hover-fill-color: #174EA6;\n",
       "      --disabled-fill-color: #AAA;\n",
       "      --disabled-bg-color: #DDD;\n",
       "  }\n",
       "\n",
       "  [theme=dark] .colab-df-quickchart {\n",
       "      --bg-color: #3B4455;\n",
       "      --fill-color: #D2E3FC;\n",
       "      --hover-bg-color: #434B5C;\n",
       "      --hover-fill-color: #FFFFFF;\n",
       "      --disabled-bg-color: #3B4455;\n",
       "      --disabled-fill-color: #666;\n",
       "  }\n",
       "\n",
       "  .colab-df-quickchart {\n",
       "    background-color: var(--bg-color);\n",
       "    border: none;\n",
       "    border-radius: 50%;\n",
       "    cursor: pointer;\n",
       "    display: none;\n",
       "    fill: var(--fill-color);\n",
       "    height: 32px;\n",
       "    padding: 0;\n",
       "    width: 32px;\n",
       "  }\n",
       "\n",
       "  .colab-df-quickchart:hover {\n",
       "    background-color: var(--hover-bg-color);\n",
       "    box-shadow: 0 1px 2px rgba(60, 64, 67, 0.3), 0 1px 3px 1px rgba(60, 64, 67, 0.15);\n",
       "    fill: var(--button-hover-fill-color);\n",
       "  }\n",
       "\n",
       "  .colab-df-quickchart-complete:disabled,\n",
       "  .colab-df-quickchart-complete:disabled:hover {\n",
       "    background-color: var(--disabled-bg-color);\n",
       "    fill: var(--disabled-fill-color);\n",
       "    box-shadow: none;\n",
       "  }\n",
       "\n",
       "  .colab-df-spinner {\n",
       "    border: 2px solid var(--fill-color);\n",
       "    border-color: transparent;\n",
       "    border-bottom-color: var(--fill-color);\n",
       "    animation:\n",
       "      spin 1s steps(1) infinite;\n",
       "  }\n",
       "\n",
       "  @keyframes spin {\n",
       "    0% {\n",
       "      border-color: transparent;\n",
       "      border-bottom-color: var(--fill-color);\n",
       "      border-left-color: var(--fill-color);\n",
       "    }\n",
       "    20% {\n",
       "      border-color: transparent;\n",
       "      border-left-color: var(--fill-color);\n",
       "      border-top-color: var(--fill-color);\n",
       "    }\n",
       "    30% {\n",
       "      border-color: transparent;\n",
       "      border-left-color: var(--fill-color);\n",
       "      border-top-color: var(--fill-color);\n",
       "      border-right-color: var(--fill-color);\n",
       "    }\n",
       "    40% {\n",
       "      border-color: transparent;\n",
       "      border-right-color: var(--fill-color);\n",
       "      border-top-color: var(--fill-color);\n",
       "    }\n",
       "    60% {\n",
       "      border-color: transparent;\n",
       "      border-right-color: var(--fill-color);\n",
       "    }\n",
       "    80% {\n",
       "      border-color: transparent;\n",
       "      border-right-color: var(--fill-color);\n",
       "      border-bottom-color: var(--fill-color);\n",
       "    }\n",
       "    90% {\n",
       "      border-color: transparent;\n",
       "      border-bottom-color: var(--fill-color);\n",
       "    }\n",
       "  }\n",
       "</style>\n",
       "\n",
       "  <script>\n",
       "    async function quickchart(key) {\n",
       "      const quickchartButtonEl =\n",
       "        document.querySelector('#' + key + ' button');\n",
       "      quickchartButtonEl.disabled = true;  // To prevent multiple clicks.\n",
       "      quickchartButtonEl.classList.add('colab-df-spinner');\n",
       "      try {\n",
       "        const charts = await google.colab.kernel.invokeFunction(\n",
       "            'suggestCharts', [key], {});\n",
       "      } catch (error) {\n",
       "        console.error('Error during call to suggestCharts:', error);\n",
       "      }\n",
       "      quickchartButtonEl.classList.remove('colab-df-spinner');\n",
       "      quickchartButtonEl.classList.add('colab-df-quickchart-complete');\n",
       "    }\n",
       "    (() => {\n",
       "      let quickchartButtonEl =\n",
       "        document.querySelector('#df-e210b527-7127-412d-86eb-a8c11ede4a9b button');\n",
       "      quickchartButtonEl.style.display =\n",
       "        google.colab.kernel.accessAllowed ? 'block' : 'none';\n",
       "    })();\n",
       "  </script>\n",
       "</div>\n",
       "\n",
       "    </div>\n",
       "  </div>\n"
      ],
      "application/vnd.google.colaboratory.intrinsic+json": {
       "type": "dataframe",
       "variable_name": "train",
       "summary": "{\n  \"name\": \"train\",\n  \"rows\": 2010,\n  \"fields\": [\n    {\n      \"column\": \"Datetime\",\n      \"properties\": {\n        \"dtype\": \"date\",\n        \"min\": \"2015-02-12 00:00:00\",\n        \"max\": \"2023-02-06 00:00:00\",\n        \"num_unique_values\": 2010,\n        \"samples\": [\n          \"2019-11-12 00:00:00\",\n          \"2017-03-16 00:00:00\",\n          \"2016-09-02 00:00:00\"\n        ],\n        \"semantic_type\": \"\",\n        \"description\": \"\"\n      }\n    },\n    {\n      \"column\": \"Close_Open\",\n      \"properties\": {\n        \"dtype\": \"number\",\n        \"std\": 1.1273301248762297,\n        \"min\": -6.639999999999986,\n        \"max\": 7.859999999999999,\n        \"num_unique_values\": 824,\n        \"samples\": [\n          2.3499999999999943,\n          -0.23000000000000398,\n          -0.25\n        ],\n        \"semantic_type\": \"\",\n        \"description\": \"\"\n      }\n    }\n  ]\n}"
      }
     },
     "metadata": {},
     "execution_count": 65
    }
   ]
  },
  {
   "cell_type": "code",
   "source": [
    "\n",
    "\n",
    "# Function to create sequences for LSTMs, GRUs, TCNs\n",
    "def create_sequences(data, seq_length):\n",
    "    xs = []\n",
    "    ys = []\n",
    "    for i in range(len(data)-seq_length):\n",
    "        x = data.iloc[i:(i+seq_length)].values\n",
    "        y = data.iloc[i+seq_length, 0]\n",
    "        xs.append(x)\n",
    "        ys.append(y)\n",
    "    return np.array(xs), np.array(ys)\n",
    "\n",
    "seq_length = 30  # Adjust this based on your needs\n",
    "X_train, y_train = create_sequences(train, seq_length)\n",
    "X_test, y_test = create_sequences(test, seq_length)\n",
    "\n",
    "\n",
    "print(X_train.shape)\n",
    "print(X_train[0])\n",
    "print(type(X_train))\n",
    "print(X_train.dtype)\n",
    "\n",
    "print(y_train.shape)\n",
    "print(y_train[0])\n",
    "print(type(y_train))\n",
    "print(y_train.dtype)"
   ],
   "metadata": {
    "id": "xQbWoDBr99au",
    "colab": {
     "base_uri": "https://localhost:8080/"
    },
    "outputId": "67eaf2fe-8d08-42d3-d4bf-9be678bd96a3"
   },
   "execution_count": null,
   "outputs": [
    {
     "output_type": "stream",
     "name": "stdout",
     "text": [
      "(1980, 30, 1)\n",
      "[[ 0.31]\n",
      " [ 0.19]\n",
      " [-0.31]\n",
      " [-0.06]\n",
      " [ 0.2 ]\n",
      " [-0.3 ]\n",
      " [-0.2 ]\n",
      " [ 0.35]\n",
      " [ 0.45]\n",
      " [ 0.67]\n",
      " [ 0.22]\n",
      " [ 0.42]\n",
      " [ 0.13]\n",
      " [ 0.07]\n",
      " [ 0.09]\n",
      " [-0.45]\n",
      " [ 0.17]\n",
      " [-0.45]\n",
      " [-0.22]\n",
      " [ 0.13]\n",
      " [-0.38]\n",
      " [ 0.23]\n",
      " [-0.03]\n",
      " [ 0.42]\n",
      " [-0.05]\n",
      " [-0.09]\n",
      " [-0.03]\n",
      " [ 0.45]\n",
      " [-0.53]\n",
      " [-0.05]]\n",
      "<class 'numpy.ndarray'>\n",
      "float64\n",
      "(1980,)\n",
      "-0.21000000000000085\n",
      "<class 'numpy.ndarray'>\n",
      "float64\n"
     ]
    }
   ]
  },
  {
   "cell_type": "code",
   "source": [
    "# Reshape for LSTMs, GRUs, TCNs\n",
    "X_train = X_train.reshape((X_train.shape[0], X_train.shape[1], 1))\n",
    "X_test = X_test.reshape((X_test.shape[0], X_test.shape[1], 1))"
   ],
   "metadata": {
    "id": "OUvurW8LBMlt"
   },
   "execution_count": null,
   "outputs": []
  },
  {
   "cell_type": "code",
   "source": [
    "# prompt: write code to inspect x_train generated after  X_train.reshape((X_train.shape[0], X_train.shape[1], 1))\n",
    "print(X_train.shape)\n",
    "print(X_train[0])\n",
    "print(type(X_train))\n",
    "X_train.dtype\n"
   ],
   "metadata": {
    "colab": {
     "base_uri": "https://localhost:8080/"
    },
    "id": "MjkqowEOZFzN",
    "outputId": "4f723b4d-2cd3-4d36-99e8-f1557679f69c",
    "collapsed": true
   },
   "execution_count": null,
   "outputs": [
    {
     "output_type": "stream",
     "name": "stdout",
     "text": [
      "(1980, 30, 1)\n",
      "[[ 0.31]\n",
      " [ 0.19]\n",
      " [-0.31]\n",
      " [-0.06]\n",
      " [ 0.2 ]\n",
      " [-0.3 ]\n",
      " [-0.2 ]\n",
      " [ 0.35]\n",
      " [ 0.45]\n",
      " [ 0.67]\n",
      " [ 0.22]\n",
      " [ 0.42]\n",
      " [ 0.13]\n",
      " [ 0.07]\n",
      " [ 0.09]\n",
      " [-0.45]\n",
      " [ 0.17]\n",
      " [-0.45]\n",
      " [-0.22]\n",
      " [ 0.13]\n",
      " [-0.38]\n",
      " [ 0.23]\n",
      " [-0.03]\n",
      " [ 0.42]\n",
      " [-0.05]\n",
      " [-0.09]\n",
      " [-0.03]\n",
      " [ 0.45]\n",
      " [-0.53]\n",
      " [-0.05]]\n",
      "<class 'numpy.ndarray'>\n"
     ]
    },
    {
     "output_type": "execute_result",
     "data": {
      "text/plain": [
       "dtype('float64')"
      ]
     },
     "metadata": {},
     "execution_count": 68
    }
   ]
  },
  {
   "cell_type": "code",
   "source": [
    "print(y_train.shape)\n",
    "print(y_train[0])\n",
    "print(type(y_train))\n",
    "y_train.dtype"
   ],
   "metadata": {
    "colab": {
     "base_uri": "https://localhost:8080/"
    },
    "id": "xPK6P4yEZiho",
    "outputId": "af48cf33-002d-4b87-f1d8-d6edced63efc"
   },
   "execution_count": null,
   "outputs": [
    {
     "output_type": "stream",
     "name": "stdout",
     "text": [
      "(1980,)\n",
      "-0.21000000000000085\n",
      "<class 'numpy.ndarray'>\n"
     ]
    },
    {
     "output_type": "execute_result",
     "data": {
      "text/plain": [
       "dtype('float64')"
      ]
     },
     "metadata": {},
     "execution_count": 69
    }
   ]
  },
  {
   "cell_type": "code",
   "source": [
    "y_test.shape"
   ],
   "metadata": {
    "colab": {
     "base_uri": "https://localhost:8080/"
    },
    "id": "7InUd0YDJY2k",
    "outputId": "63240ddd-3b18-4ca1-ca0b-58d2b4b17257"
   },
   "execution_count": null,
   "outputs": [
    {
     "output_type": "execute_result",
     "data": {
      "text/plain": [
       "(473,)"
      ]
     },
     "metadata": {},
     "execution_count": 70
    }
   ]
  },
  {
   "cell_type": "code",
   "source": [
    "train.shape\n"
   ],
   "metadata": {
    "colab": {
     "base_uri": "https://localhost:8080/"
    },
    "id": "uHHiZiqrUsai",
    "outputId": "b2d0137a-498e-4ca9-fea9-05a59794b163"
   },
   "execution_count": null,
   "outputs": [
    {
     "output_type": "execute_result",
     "data": {
      "text/plain": [
       "(2010, 1)"
      ]
     },
     "metadata": {},
     "execution_count": 71
    }
   ]
  },
  {
   "cell_type": "code",
   "execution_count": null,
   "metadata": {
    "id": "UI6JkyhywrG_"
   },
   "outputs": [],
   "source": [
    "\n",
    "# --- Model Definitions & Training ---\n",
    "\n",
    "# . Random Forest\n",
    "def train_random_forest(X_train, y_train, X_test):\n",
    "    model = RandomForestRegressor(n_estimators=100, random_state=42)\n",
    "    model.fit(X_train, y_train)\n",
    "    predictions = model.predict(X_test)\n",
    "    return predictions\n",
    "\n",
    "# . Gradient Boosting\n",
    "def train_gradient_boosting(X_train, y_train, X_test):\n",
    "    model = GradientBoostingRegressor(n_estimators=100, random_state=42)\n",
    "    model.fit(X_train, y_train)\n",
    "    predictions = model.predict(X_test)\n",
    "    return predictions\n",
    "\n",
    "# . LSTM\n",
    "def train_lstm(X_train, y_train, X_test, seq_length):\n",
    "    model = Sequential()\n",
    "    model.add(LSTM(50, activation='relu', input_shape=(seq_length, 1)))\n",
    "    model.add(Dense(1))\n",
    "    model.compile(optimizer='adam', loss='mse')\n",
    "    model.fit(X_train, y_train, epochs=5, verbose=0)  # Adjust epochs as needed\n",
    "    predictions = model.predict(X_test)\n",
    "    return predictions.flatten()\n",
    "\n",
    "# . GRU\n",
    "def train_gru(X_train, y_train, X_test, seq_length):\n",
    "    model = Sequential()\n",
    "    model.add(GRU(50, activation='relu', input_shape=(seq_length, 1)))\n",
    "    model.add(Dense(1))\n",
    "    model.compile(optimizer='adam', loss='mse')\n",
    "    model.fit(X_train, y_train, epochs=5, verbose=0)  # Adjust epochs as needed\n",
    "    predictions = model.predict(X_test)\n",
    "    return predictions.flatten()\n",
    "\n",
    "# . TCN (Temporal Convolutional Network)\n",
    "def train_tcn(X_train, y_train, X_test, seq_length):\n",
    "    model = Sequential()\n",
    "    model.add(Conv1D(filters=64, kernel_size=2, activation='relu', input_shape=(seq_length, 1)))\n",
    "    model.add(MaxPooling1D(pool_size=2))\n",
    "    model.add(Flatten())\n",
    "    model.add(Dense(50, activation='relu'))\n",
    "    model.add(Dense(1))\n",
    "    model.compile(optimizer='adam', loss='mse')\n",
    "    model.fit(X_train, y_train, epochs=5, verbose=0)  # Adjust epochs as needed\n",
    "    predictions = model.predict(X_test)\n",
    "    return predictions.flatten()\n",
    "\n",
    "# . Transformer (Simplified)\n",
    "def train_transformer(X_train, y_train, X_test, seq_length):\n",
    "    # Simplified Transformer (Self-Attention)\n",
    "    embed_dim = 32  # Embedding dimension\n",
    "    num_heads = 2   # Number of attention heads\n",
    "\n",
    "    model = Sequential()\n",
    "    model.add(Conv1D(embed_dim, 1, padding=\"same\", input_shape=(seq_length, 1)))\n",
    "    model.add(tf.keras.layers.MultiHeadAttention(num_heads=num_heads, key_dim=embed_dim))\n",
    "    model.add(Flatten())\n",
    "    model.add(Dense(1))\n",
    "    model.compile(optimizer='adam', loss='mse')\n",
    "    model.fit(X_train, y_train, epochs=5, verbose=0)\n",
    "\n",
    "    predictions = model.predict(X_test)\n",
    "    return predictions.flatten()\n",
    "\n",
    "\n",
    "# . Prophet\n",
    "def train_prophet(train_data, test_data):\n",
    "    # Prepare data for Prophet\n",
    "    train_prophet = train_data.reset_index()\n",
    "    train_prophet.columns = ['ds', 'y']\n",
    "    test_prophet = test_data.reset_index()\n",
    "    test_prophet.columns = ['ds', 'y']\n",
    "\n",
    "    model = Prophet()\n",
    "    model.fit(train_prophet)\n",
    "    future = model.make_future_dataframe(periods=len(test_prophet))\n",
    "    forecast = model.predict(future)\n",
    "    predictions = forecast['yhat'].iloc[-len(test_prophet):].values\n",
    "    return predictions\n",
    "\n"
   ]
  },
  {
   "cell_type": "code",
   "source": [
    "# --- Inverse Transform and Evaluate ---\n",
    "def inverse_transform(predictions, scaler):\n",
    "    if isinstance(predictions, pd.Series):\n",
    "        predictions = predictions.values\n",
    "    return scaler.inverse_transform(predictions.reshape(-1, 1)).flatten()"
   ],
   "metadata": {
    "id": "vFA2QC8EEFjG"
   },
   "execution_count": null,
   "outputs": []
  },
  {
   "cell_type": "code",
   "source": [
    "def calculate_rmse(predictions, actual):\n",
    "    return np.sqrt(mean_squared_error(actual, predictions))"
   ],
   "metadata": {
    "id": "6vrSVa3lLyQi"
   },
   "execution_count": null,
   "outputs": []
  },
  {
   "cell_type": "code",
   "source": [
    "rf_predictions = train_random_forest(X_train.reshape(X_train.shape[0], -1), y_train, X_test.reshape(X_test.shape[0], -1))"
   ],
   "metadata": {
    "id": "AhDq2lnuaM9u"
   },
   "execution_count": null,
   "outputs": []
  },
  {
   "cell_type": "code",
   "source": [
    "gb_predictions = train_gradient_boosting(X_train.reshape(X_train.shape[0], -1), y_train, X_test.reshape(X_test.shape[0], -1))"
   ],
   "metadata": {
    "id": "2eLE4fjKaaa8"
   },
   "execution_count": null,
   "outputs": []
  },
  {
   "cell_type": "code",
   "source": [
    "#rf_predictions = inverse_transform(rf_predictions, scaler)\n",
    "#gb_predictions = inverse_transform(gb_predictions, scaler)\n",
    "\n",
    "#y_test_original = scaler.inverse_transform(y_test.reshape(-1, 1)).flatten()\n",
    "#print(f\" y_test_original_shape: {y_test_original.shape}\")\n",
    "print(f\"rf_predictions_shape: {rf_predictions.shape}\")\n",
    "print(f\"gb_predictions_shape: {gb_predictions.shape}\")"
   ],
   "metadata": {
    "colab": {
     "base_uri": "https://localhost:8080/"
    },
    "id": "coP_xsFKK4n0",
    "outputId": "5357baae-4a78-4ce1-f970-1fe667040a1c"
   },
   "execution_count": null,
   "outputs": [
    {
     "output_type": "stream",
     "name": "stdout",
     "text": [
      "rf_predictions_shape: (473,)\n",
      "gb_predictions_shape: (473,)\n"
     ]
    }
   ]
  },
  {
   "cell_type": "code",
   "source": [
    "print(f\"Random Forest RMSE: {calculate_rmse(rf_predictions, y_test)}\")\n",
    "print(f\"Gradient Boosting RMSE: {calculate_rmse(gb_predictions, y_test)}\")"
   ],
   "metadata": {
    "colab": {
     "base_uri": "https://localhost:8080/"
    },
    "id": "ncUwd4cPL8jm",
    "outputId": "2837ec7b-a74d-465c-9895-11f9dc5e21e9"
   },
   "execution_count": null,
   "outputs": [
    {
     "output_type": "stream",
     "name": "stdout",
     "text": [
      "Random Forest RMSE: 2.00632482528265\n",
      "Gradient Boosting RMSE: 2.0468073425323983\n"
     ]
    }
   ]
  },
  {
   "cell_type": "code",
   "source": [
    "lstm_predictions = train_lstm(X_train, y_train, X_test, seq_length)"
   ],
   "metadata": {
    "colab": {
     "base_uri": "https://localhost:8080/"
    },
    "id": "-Uxpq5m0bITH",
    "outputId": "1c490084-85f8-4393-b19b-495e9505cafe"
   },
   "execution_count": null,
   "outputs": [
    {
     "output_type": "stream",
     "name": "stderr",
     "text": [
      "/usr/local/lib/python3.11/dist-packages/keras/src/layers/rnn/rnn.py:200: UserWarning: Do not pass an `input_shape`/`input_dim` argument to a layer. When using Sequential models, prefer using an `Input(shape)` object as the first layer in the model instead.\n",
      "  super().__init__(**kwargs)\n"
     ]
    },
    {
     "output_type": "stream",
     "name": "stdout",
     "text": [
      "\u001B[1m15/15\u001B[0m \u001B[32m━━━━━━━━━━━━━━━━━━━━\u001B[0m\u001B[37m\u001B[0m \u001B[1m0s\u001B[0m 18ms/step\n"
     ]
    }
   ]
  },
  {
   "cell_type": "code",
   "source": [
    "lstm_predictions.shape"
   ],
   "metadata": {
    "colab": {
     "base_uri": "https://localhost:8080/"
    },
    "id": "mgNPj_n7905g",
    "outputId": "c140bb2d-2347-4c2b-ebc8-1b19d449a3b6"
   },
   "execution_count": null,
   "outputs": [
    {
     "output_type": "execute_result",
     "data": {
      "text/plain": [
       "(473,)"
      ]
     },
     "metadata": {},
     "execution_count": 86
    }
   ]
  },
  {
   "cell_type": "code",
   "source": [
    "gru_predictions = train_gru(X_train, y_train, X_test, seq_length)"
   ],
   "metadata": {
    "colab": {
     "base_uri": "https://localhost:8080/"
    },
    "id": "bgc0UrYGbVvh",
    "outputId": "a66591cf-9f65-497a-9d77-aeca07e05daf"
   },
   "execution_count": null,
   "outputs": [
    {
     "output_type": "stream",
     "name": "stdout",
     "text": [
      "\u001B[1m15/15\u001B[0m \u001B[32m━━━━━━━━━━━━━━━━━━━━\u001B[0m\u001B[37m\u001B[0m \u001B[1m0s\u001B[0m 18ms/step\n"
     ]
    }
   ]
  },
  {
   "cell_type": "code",
   "source": [
    "gru_predictions.shape"
   ],
   "metadata": {
    "colab": {
     "base_uri": "https://localhost:8080/"
    },
    "id": "Ryr3FEqm94gk",
    "outputId": "3a9d5eca-fba0-4703-a78b-57f827283242"
   },
   "execution_count": null,
   "outputs": [
    {
     "output_type": "execute_result",
     "data": {
      "text/plain": [
       "(473,)"
      ]
     },
     "metadata": {},
     "execution_count": 88
    }
   ]
  },
  {
   "cell_type": "code",
   "source": [
    "tcn_predictions = train_tcn(X_train, y_train, X_test, seq_length)"
   ],
   "metadata": {
    "colab": {
     "base_uri": "https://localhost:8080/"
    },
    "id": "YcebiGlObpgY",
    "outputId": "422371da-e0c9-4d2a-aa96-8c743b75b140"
   },
   "execution_count": null,
   "outputs": [
    {
     "output_type": "stream",
     "name": "stderr",
     "text": [
      "/usr/local/lib/python3.11/dist-packages/keras/src/layers/convolutional/base_conv.py:107: UserWarning: Do not pass an `input_shape`/`input_dim` argument to a layer. When using Sequential models, prefer using an `Input(shape)` object as the first layer in the model instead.\n",
      "  super().__init__(activity_regularizer=activity_regularizer, **kwargs)\n"
     ]
    },
    {
     "output_type": "stream",
     "name": "stdout",
     "text": [
      "\u001B[1m15/15\u001B[0m \u001B[32m━━━━━━━━━━━━━━━━━━━━\u001B[0m\u001B[37m\u001B[0m \u001B[1m0s\u001B[0m 6ms/step\n"
     ]
    }
   ]
  },
  {
   "cell_type": "code",
   "source": [
    "tcn_predictions.shape"
   ],
   "metadata": {
    "colab": {
     "base_uri": "https://localhost:8080/"
    },
    "id": "ZPJEaYpr98Bn",
    "outputId": "78467a70-80ca-4c5b-8bdf-c37e96d8dbac"
   },
   "execution_count": null,
   "outputs": [
    {
     "output_type": "execute_result",
     "data": {
      "text/plain": [
       "(473,)"
      ]
     },
     "metadata": {},
     "execution_count": 90
    }
   ]
  },
  {
   "cell_type": "code",
   "source": [
    "y_test.shape"
   ],
   "metadata": {
    "colab": {
     "base_uri": "https://localhost:8080/"
    },
    "id": "jXuHtbka9_gQ",
    "outputId": "2ac8c00b-5a00-4fa9-be0e-ce4d1f2475dd"
   },
   "execution_count": null,
   "outputs": [
    {
     "output_type": "execute_result",
     "data": {
      "text/plain": [
       "(473,)"
      ]
     },
     "metadata": {},
     "execution_count": 91
    }
   ]
  },
  {
   "cell_type": "code",
   "source": [
    "print(f\"LSTM RMSE: {calculate_rmse(lstm_predictions, y_test)}\")\n",
    "print(f\"GRU RMSE: {calculate_rmse(gru_predictions, y_test)}\")\n",
    "print(f\"TCN RMSE: {calculate_rmse(tcn_predictions, y_test)}\")"
   ],
   "metadata": {
    "colab": {
     "base_uri": "https://localhost:8080/"
    },
    "id": "pvsWVFB6O-Lo",
    "outputId": "621e5036-c178-4868-8bef-5ae85baa7924"
   },
   "execution_count": null,
   "outputs": [
    {
     "output_type": "stream",
     "name": "stdout",
     "text": [
      "LSTM RMSE: 1.9532009941498052\n",
      "GRU RMSE: 1.9460739932994435\n",
      "TCN RMSE: 1.9757790260906107\n"
     ]
    }
   ]
  },
  {
   "cell_type": "code",
   "source": [
    "#transformer_predictions = train_transformer(X_train, y_train, X_test, seq_length)"
   ],
   "metadata": {
    "id": "OR3TG-M7bvBW"
   },
   "execution_count": null,
   "outputs": []
  },
  {
   "cell_type": "code",
   "source": [
    "prophet_predictions = train_prophet(train, test)\n"
   ],
   "metadata": {
    "colab": {
     "base_uri": "https://localhost:8080/"
    },
    "id": "Gl5CxPToxZsv",
    "outputId": "58e935f6-aace-4a82-d5c3-71407c0a8f3e"
   },
   "execution_count": null,
   "outputs": [
    {
     "output_type": "stream",
     "name": "stderr",
     "text": [
      "INFO:prophet:Disabling daily seasonality. Run prophet with daily_seasonality=True to override this.\n",
      "DEBUG:cmdstanpy:input tempfile: /tmp/tmp7p0d15lv/l_i_5yjr.json\n",
      "DEBUG:cmdstanpy:input tempfile: /tmp/tmp7p0d15lv/q2grj2za.json\n",
      "DEBUG:cmdstanpy:idx 0\n",
      "DEBUG:cmdstanpy:running CmdStan, num_threads: None\n",
      "DEBUG:cmdstanpy:CmdStan args: ['/usr/local/lib/python3.11/dist-packages/prophet/stan_model/prophet_model.bin', 'random', 'seed=25761', 'data', 'file=/tmp/tmp7p0d15lv/l_i_5yjr.json', 'init=/tmp/tmp7p0d15lv/q2grj2za.json', 'output', 'file=/tmp/tmp7p0d15lv/prophet_model8jq0shoq/prophet_model-20250227210711.csv', 'method=optimize', 'algorithm=lbfgs', 'iter=10000']\n",
      "21:07:11 - cmdstanpy - INFO - Chain [1] start processing\n",
      "INFO:cmdstanpy:Chain [1] start processing\n",
      "21:07:11 - cmdstanpy - INFO - Chain [1] done processing\n",
      "INFO:cmdstanpy:Chain [1] done processing\n"
     ]
    }
   ]
  },
  {
   "cell_type": "code",
   "source": [
    "print(f\"Prophet RMSE: {calculate_rmse(prophet_predictions,test)}\")"
   ],
   "metadata": {
    "colab": {
     "base_uri": "https://localhost:8080/"
    },
    "id": "E2R7D4uyPEnA",
    "outputId": "8cdc369b-7201-4822-f605-33fce4b3a370"
   },
   "execution_count": null,
   "outputs": [
    {
     "output_type": "stream",
     "name": "stdout",
     "text": [
      "Prophet RMSE: 1.9611380538498429\n"
     ]
    }
   ]
  },
  {
   "cell_type": "code",
   "source": [
    "\n",
    "\n",
    "#arima_predictions = inverse_transform(arima_predictions, scaler)\n",
    "#sarima_predictions = inverse_transform(sarima_predictions, scaler)\n",
    "\n",
    "\n",
    "\n",
    "#lstm_predictions = inverse_transform(lstm_predictions, scaler)\n",
    "#gru_predictions = inverse_transform(gru_predictions, scaler)\n",
    "#tcn_predictions = inverse_transform(tcn_predictions, scaler)\n",
    "#transformer_predictions = inverse_transform(transformer_predictions, scaler)\n",
    "#prophet_predictions = inverse_transform(prophet_predictions, scaler)\n",
    "\n",
    "#print(f\"Transformer RMSE: {calculate_rmse(transformer_predictions, y_test_original)}\")\n",
    "\n",
    "\n"
   ],
   "metadata": {
    "id": "2DrhnXCexJEG",
    "colab": {
     "base_uri": "https://localhost:8080/"
    },
    "outputId": "ac8eb5f4-e466-4f97-8e04-626afadaf86a"
   },
   "execution_count": null,
   "outputs": [
    {
     "output_type": "stream",
     "name": "stdout",
     "text": [
      " y_test_original_shape: (472,)\n",
      "rf_predictions_shape: (472,)\n",
      "gb_predictions_shape: (472,)\n",
      "ARIMA RMSE: 0.13633590459676515\n",
      "SARIMA RMSE: 0.1355154215408435\n",
      "Random Forest RMSE: 869715.7491909842\n",
      "Gradient Boosting RMSE: 1102719.4149733803\n",
      "LSTM RMSE: 0.11673722486245705\n",
      "GRU RMSE: 0.11651514838516523\n",
      "TCN RMSE: 0.11684643930005321\n",
      "Prophet RMSE: 0.11600568313751676\n"
     ]
    }
   ]
  },
  {
   "cell_type": "code",
   "source": [
    "test.head()"
   ],
   "metadata": {
    "colab": {
     "base_uri": "https://localhost:8080/",
     "height": 237
    },
    "id": "drgksCT3AMV3",
    "outputId": "8e8bc951-3e94-4647-bb3d-61f0e5b9f786"
   },
   "execution_count": null,
   "outputs": [
    {
     "output_type": "execute_result",
     "data": {
      "text/plain": [
       "            Close_Open\n",
       "Datetime              \n",
       "2023-02-07    0.664695\n",
       "2023-02-08    0.244826\n",
       "2023-02-09    0.108811\n",
       "2023-02-10    0.353046\n",
       "2023-02-13    0.395624"
      ],
      "text/html": [
       "\n",
       "  <div id=\"df-7903d734-7b32-425a-81c0-d49dafbda8ce\" class=\"colab-df-container\">\n",
       "    <div>\n",
       "<style scoped>\n",
       "    .dataframe tbody tr th:only-of-type {\n",
       "        vertical-align: middle;\n",
       "    }\n",
       "\n",
       "    .dataframe tbody tr th {\n",
       "        vertical-align: top;\n",
       "    }\n",
       "\n",
       "    .dataframe thead th {\n",
       "        text-align: right;\n",
       "    }\n",
       "</style>\n",
       "<table border=\"1\" class=\"dataframe\">\n",
       "  <thead>\n",
       "    <tr style=\"text-align: right;\">\n",
       "      <th></th>\n",
       "      <th>Close_Open</th>\n",
       "    </tr>\n",
       "    <tr>\n",
       "      <th>Datetime</th>\n",
       "      <th></th>\n",
       "    </tr>\n",
       "  </thead>\n",
       "  <tbody>\n",
       "    <tr>\n",
       "      <th>2023-02-07</th>\n",
       "      <td>0.664695</td>\n",
       "    </tr>\n",
       "    <tr>\n",
       "      <th>2023-02-08</th>\n",
       "      <td>0.244826</td>\n",
       "    </tr>\n",
       "    <tr>\n",
       "      <th>2023-02-09</th>\n",
       "      <td>0.108811</td>\n",
       "    </tr>\n",
       "    <tr>\n",
       "      <th>2023-02-10</th>\n",
       "      <td>0.353046</td>\n",
       "    </tr>\n",
       "    <tr>\n",
       "      <th>2023-02-13</th>\n",
       "      <td>0.395624</td>\n",
       "    </tr>\n",
       "  </tbody>\n",
       "</table>\n",
       "</div>\n",
       "    <div class=\"colab-df-buttons\">\n",
       "\n",
       "  <div class=\"colab-df-container\">\n",
       "    <button class=\"colab-df-convert\" onclick=\"convertToInteractive('df-7903d734-7b32-425a-81c0-d49dafbda8ce')\"\n",
       "            title=\"Convert this dataframe to an interactive table.\"\n",
       "            style=\"display:none;\">\n",
       "\n",
       "  <svg xmlns=\"http://www.w3.org/2000/svg\" height=\"24px\" viewBox=\"0 -960 960 960\">\n",
       "    <path d=\"M120-120v-720h720v720H120Zm60-500h600v-160H180v160Zm220 220h160v-160H400v160Zm0 220h160v-160H400v160ZM180-400h160v-160H180v160Zm440 0h160v-160H620v160ZM180-180h160v-160H180v160Zm440 0h160v-160H620v160Z\"/>\n",
       "  </svg>\n",
       "    </button>\n",
       "\n",
       "  <style>\n",
       "    .colab-df-container {\n",
       "      display:flex;\n",
       "      gap: 12px;\n",
       "    }\n",
       "\n",
       "    .colab-df-convert {\n",
       "      background-color: #E8F0FE;\n",
       "      border: none;\n",
       "      border-radius: 50%;\n",
       "      cursor: pointer;\n",
       "      display: none;\n",
       "      fill: #1967D2;\n",
       "      height: 32px;\n",
       "      padding: 0 0 0 0;\n",
       "      width: 32px;\n",
       "    }\n",
       "\n",
       "    .colab-df-convert:hover {\n",
       "      background-color: #E2EBFA;\n",
       "      box-shadow: 0px 1px 2px rgba(60, 64, 67, 0.3), 0px 1px 3px 1px rgba(60, 64, 67, 0.15);\n",
       "      fill: #174EA6;\n",
       "    }\n",
       "\n",
       "    .colab-df-buttons div {\n",
       "      margin-bottom: 4px;\n",
       "    }\n",
       "\n",
       "    [theme=dark] .colab-df-convert {\n",
       "      background-color: #3B4455;\n",
       "      fill: #D2E3FC;\n",
       "    }\n",
       "\n",
       "    [theme=dark] .colab-df-convert:hover {\n",
       "      background-color: #434B5C;\n",
       "      box-shadow: 0px 1px 3px 1px rgba(0, 0, 0, 0.15);\n",
       "      filter: drop-shadow(0px 1px 2px rgba(0, 0, 0, 0.3));\n",
       "      fill: #FFFFFF;\n",
       "    }\n",
       "  </style>\n",
       "\n",
       "    <script>\n",
       "      const buttonEl =\n",
       "        document.querySelector('#df-7903d734-7b32-425a-81c0-d49dafbda8ce button.colab-df-convert');\n",
       "      buttonEl.style.display =\n",
       "        google.colab.kernel.accessAllowed ? 'block' : 'none';\n",
       "\n",
       "      async function convertToInteractive(key) {\n",
       "        const element = document.querySelector('#df-7903d734-7b32-425a-81c0-d49dafbda8ce');\n",
       "        const dataTable =\n",
       "          await google.colab.kernel.invokeFunction('convertToInteractive',\n",
       "                                                    [key], {});\n",
       "        if (!dataTable) return;\n",
       "\n",
       "        const docLinkHtml = 'Like what you see? Visit the ' +\n",
       "          '<a target=\"_blank\" href=https://colab.research.google.com/notebooks/data_table.ipynb>data table notebook</a>'\n",
       "          + ' to learn more about interactive tables.';\n",
       "        element.innerHTML = '';\n",
       "        dataTable['output_type'] = 'display_data';\n",
       "        await google.colab.output.renderOutput(dataTable, element);\n",
       "        const docLink = document.createElement('div');\n",
       "        docLink.innerHTML = docLinkHtml;\n",
       "        element.appendChild(docLink);\n",
       "      }\n",
       "    </script>\n",
       "  </div>\n",
       "\n",
       "\n",
       "<div id=\"df-0ac1edbf-e8da-4f3d-90a4-c16424a63ea0\">\n",
       "  <button class=\"colab-df-quickchart\" onclick=\"quickchart('df-0ac1edbf-e8da-4f3d-90a4-c16424a63ea0')\"\n",
       "            title=\"Suggest charts\"\n",
       "            style=\"display:none;\">\n",
       "\n",
       "<svg xmlns=\"http://www.w3.org/2000/svg\" height=\"24px\"viewBox=\"0 0 24 24\"\n",
       "     width=\"24px\">\n",
       "    <g>\n",
       "        <path d=\"M19 3H5c-1.1 0-2 .9-2 2v14c0 1.1.9 2 2 2h14c1.1 0 2-.9 2-2V5c0-1.1-.9-2-2-2zM9 17H7v-7h2v7zm4 0h-2V7h2v10zm4 0h-2v-4h2v4z\"/>\n",
       "    </g>\n",
       "</svg>\n",
       "  </button>\n",
       "\n",
       "<style>\n",
       "  .colab-df-quickchart {\n",
       "      --bg-color: #E8F0FE;\n",
       "      --fill-color: #1967D2;\n",
       "      --hover-bg-color: #E2EBFA;\n",
       "      --hover-fill-color: #174EA6;\n",
       "      --disabled-fill-color: #AAA;\n",
       "      --disabled-bg-color: #DDD;\n",
       "  }\n",
       "\n",
       "  [theme=dark] .colab-df-quickchart {\n",
       "      --bg-color: #3B4455;\n",
       "      --fill-color: #D2E3FC;\n",
       "      --hover-bg-color: #434B5C;\n",
       "      --hover-fill-color: #FFFFFF;\n",
       "      --disabled-bg-color: #3B4455;\n",
       "      --disabled-fill-color: #666;\n",
       "  }\n",
       "\n",
       "  .colab-df-quickchart {\n",
       "    background-color: var(--bg-color);\n",
       "    border: none;\n",
       "    border-radius: 50%;\n",
       "    cursor: pointer;\n",
       "    display: none;\n",
       "    fill: var(--fill-color);\n",
       "    height: 32px;\n",
       "    padding: 0;\n",
       "    width: 32px;\n",
       "  }\n",
       "\n",
       "  .colab-df-quickchart:hover {\n",
       "    background-color: var(--hover-bg-color);\n",
       "    box-shadow: 0 1px 2px rgba(60, 64, 67, 0.3), 0 1px 3px 1px rgba(60, 64, 67, 0.15);\n",
       "    fill: var(--button-hover-fill-color);\n",
       "  }\n",
       "\n",
       "  .colab-df-quickchart-complete:disabled,\n",
       "  .colab-df-quickchart-complete:disabled:hover {\n",
       "    background-color: var(--disabled-bg-color);\n",
       "    fill: var(--disabled-fill-color);\n",
       "    box-shadow: none;\n",
       "  }\n",
       "\n",
       "  .colab-df-spinner {\n",
       "    border: 2px solid var(--fill-color);\n",
       "    border-color: transparent;\n",
       "    border-bottom-color: var(--fill-color);\n",
       "    animation:\n",
       "      spin 1s steps(1) infinite;\n",
       "  }\n",
       "\n",
       "  @keyframes spin {\n",
       "    0% {\n",
       "      border-color: transparent;\n",
       "      border-bottom-color: var(--fill-color);\n",
       "      border-left-color: var(--fill-color);\n",
       "    }\n",
       "    20% {\n",
       "      border-color: transparent;\n",
       "      border-left-color: var(--fill-color);\n",
       "      border-top-color: var(--fill-color);\n",
       "    }\n",
       "    30% {\n",
       "      border-color: transparent;\n",
       "      border-left-color: var(--fill-color);\n",
       "      border-top-color: var(--fill-color);\n",
       "      border-right-color: var(--fill-color);\n",
       "    }\n",
       "    40% {\n",
       "      border-color: transparent;\n",
       "      border-right-color: var(--fill-color);\n",
       "      border-top-color: var(--fill-color);\n",
       "    }\n",
       "    60% {\n",
       "      border-color: transparent;\n",
       "      border-right-color: var(--fill-color);\n",
       "    }\n",
       "    80% {\n",
       "      border-color: transparent;\n",
       "      border-right-color: var(--fill-color);\n",
       "      border-bottom-color: var(--fill-color);\n",
       "    }\n",
       "    90% {\n",
       "      border-color: transparent;\n",
       "      border-bottom-color: var(--fill-color);\n",
       "    }\n",
       "  }\n",
       "</style>\n",
       "\n",
       "  <script>\n",
       "    async function quickchart(key) {\n",
       "      const quickchartButtonEl =\n",
       "        document.querySelector('#' + key + ' button');\n",
       "      quickchartButtonEl.disabled = true;  // To prevent multiple clicks.\n",
       "      quickchartButtonEl.classList.add('colab-df-spinner');\n",
       "      try {\n",
       "        const charts = await google.colab.kernel.invokeFunction(\n",
       "            'suggestCharts', [key], {});\n",
       "      } catch (error) {\n",
       "        console.error('Error during call to suggestCharts:', error);\n",
       "      }\n",
       "      quickchartButtonEl.classList.remove('colab-df-spinner');\n",
       "      quickchartButtonEl.classList.add('colab-df-quickchart-complete');\n",
       "    }\n",
       "    (() => {\n",
       "      let quickchartButtonEl =\n",
       "        document.querySelector('#df-0ac1edbf-e8da-4f3d-90a4-c16424a63ea0 button');\n",
       "      quickchartButtonEl.style.display =\n",
       "        google.colab.kernel.accessAllowed ? 'block' : 'none';\n",
       "    })();\n",
       "  </script>\n",
       "</div>\n",
       "\n",
       "    </div>\n",
       "  </div>\n"
      ],
      "application/vnd.google.colaboratory.intrinsic+json": {
       "type": "dataframe",
       "variable_name": "test",
       "summary": "{\n  \"name\": \"test\",\n  \"rows\": 503,\n  \"fields\": [\n    {\n      \"column\": \"Datetime\",\n      \"properties\": {\n        \"dtype\": \"date\",\n        \"min\": \"2023-02-07 00:00:00\",\n        \"max\": \"2025-02-07 00:00:00\",\n        \"num_unique_values\": 503,\n        \"samples\": [\n          \"2024-03-04 00:00:00\",\n          \"2023-05-23 00:00:00\",\n          \"2024-04-03 00:00:00\"\n        ],\n        \"semantic_type\": \"\",\n        \"description\": \"\"\n      }\n    },\n    {\n      \"column\": \"Close_Open\",\n      \"properties\": {\n        \"dtype\": \"number\",\n        \"std\": 0.11558217401595704,\n        \"min\": 0.0,\n        \"max\": 1.0,\n        \"num_unique_values\": 405,\n        \"samples\": [\n          0.3086930810171496,\n          0.4665878178592542,\n          0.736250739207569\n        ],\n        \"semantic_type\": \"\",\n        \"description\": \"\"\n      }\n    }\n  ]\n}"
      }
     },
     "metadata": {},
     "execution_count": 37
    }
   ]
  },
  {
   "cell_type": "code",
   "source": [
    "y_test_original[:5]"
   ],
   "metadata": {
    "colab": {
     "base_uri": "https://localhost:8080/"
    },
    "id": "mwYiriZPAPhk",
    "outputId": "699ee26e-0e16-4af6-96ba-261e2617f540"
   },
   "execution_count": null,
   "outputs": [
    {
     "output_type": "execute_result",
     "data": {
      "text/plain": [
       "array([-0.9 ,  0.54,  0.45, -2.2 , -1.41])"
      ]
     },
     "metadata": {},
     "execution_count": 39
    }
   ]
  },
  {
   "cell_type": "code",
   "source": [
    "# --- Plotting the Results ---\n",
    "plt.figure(figsize=(16, 12))\n",
    "\n",
    "#plot original test\n",
    "plt.plot(test.index[:],test['Close_Open'], label='Original Test', color='black')"
   ],
   "metadata": {
    "colab": {
     "base_uri": "https://localhost:8080/",
     "height": 1000
    },
    "id": "8-UC-w2UQeqc",
    "outputId": "f52441d6-405e-4377-fdf3-db585619ebfa"
   },
   "execution_count": null,
   "outputs": [
    {
     "output_type": "execute_result",
     "data": {
      "text/plain": [
       "[<matplotlib.lines.Line2D at 0x7d1b48921ad0>]"
      ]
     },
     "metadata": {},
     "execution_count": 99
    },
    {
     "output_type": "display_data",
     "data": {
      "text/plain": [
       "<Figure size 1600x1200 with 1 Axes>"
      ],
      "image/png": "[encoded data removed]"
     },
     "metadata": {}
    }
   ]
  },
  {
   "cell_type": "code",
   "source": [
    "\n",
    "\n",
    "# Plotting the predictions\n",
    "plt.plot(test.index[:len(arima_predictions)], arima_predictions, label='ARIMA', color='red')\n",
    "plt.plot(test.index[:len(sarima_predictions)], sarima_predictions, label='SARIMA', color='orange')\n"
   ],
   "metadata": {
    "id": "DRFLO1dnw--D",
    "colab": {
     "base_uri": "https://localhost:8080/",
     "height": 451
    },
    "outputId": "1586ba2e-cc7e-4a1b-c2e4-2eac383a3119"
   },
   "execution_count": null,
   "outputs": [
    {
     "output_type": "execute_result",
     "data": {
      "text/plain": [
       "[<matplotlib.lines.Line2D at 0x7d1b51506d10>]"
      ]
     },
     "metadata": {},
     "execution_count": 98
    },
    {
     "output_type": "display_data",
     "data": {
      "text/plain": [
       "<Figure size 640x480 with 1 Axes>"
      ],
      "image/png": "[encoded data removed]"
     },
     "metadata": {}
    }
   ]
  },
  {
   "cell_type": "code",
   "source": [
    "plt.plot(test.index[seq_length:],y_test,label=\"Original\",color = \"black\")"
   ],
   "metadata": {
    "colab": {
     "base_uri": "https://localhost:8080/",
     "height": 448
    },
    "id": "0gA4mSOfRIg1",
    "outputId": "b175d976-84b4-488c-ebb4-bcbc9e2946a4"
   },
   "execution_count": null,
   "outputs": [
    {
     "output_type": "execute_result",
     "data": {
      "text/plain": [
       "[<matplotlib.lines.Line2D at 0x7d1b47ebb150>]"
      ]
     },
     "metadata": {},
     "execution_count": 104
    },
    {
     "output_type": "display_data",
     "data": {
      "text/plain": [
       "<Figure size 640x480 with 1 Axes>"
      ],
      "image/png": "[encoded data removed]"
     },
     "metadata": {}
    }
   ]
  },
  {
   "cell_type": "code",
   "source": [
    "plt.plot(test.index[seq_length:], rf_predictions, label='Random Forest', color='green') # Shift index for sequence models\n",
    "plt.plot(test.index[seq_length:], gb_predictions, label='Gradient Boosting', color='purple') # Shift index for sequence models\n"
   ],
   "metadata": {
    "colab": {
     "base_uri": "https://localhost:8080/",
     "height": 448
    },
    "id": "sXO0wUOY_3HR",
    "outputId": "39a30440-bb0c-4aef-98d0-471f8d5d4355"
   },
   "execution_count": null,
   "outputs": [
    {
     "output_type": "execute_result",
     "data": {
      "text/plain": [
       "[<matplotlib.lines.Line2D at 0x7d1b489931d0>]"
      ]
     },
     "metadata": {},
     "execution_count": 106
    },
    {
     "output_type": "display_data",
     "data": {
      "text/plain": [
       "<Figure size 640x480 with 1 Axes>"
      ],
      "image/png": "[encoded data removed]"
     },
     "metadata": {}
    }
   ]
  },
  {
   "cell_type": "code",
   "source": [
    "plt.plot(test.index[seq_length:], lstm_predictions, label='LSTM', color='blue') # Shift index for sequence models\n",
    "plt.plot(test.index[seq_length:], gru_predictions, label='GRU', color='cyan') # Shift index for sequence models\n",
    "plt.plot(test.index[seq_length:], tcn_predictions, label='TCN', color='magenta') # Shift index for sequence models\n",
    "#plt.plot(test.index[seq_length:], transformer_predictions, label='Transformer', color='brown') # Shift index for sequence models\n"
   ],
   "metadata": {
    "colab": {
     "base_uri": "https://localhost:8080/",
     "height": 448
    },
    "id": "ZjSkqP3NQ9a7",
    "outputId": "8b57d04e-9c18-42a3-e553-48e3a624470f"
   },
   "execution_count": null,
   "outputs": [
    {
     "output_type": "execute_result",
     "data": {
      "text/plain": [
       "[<matplotlib.lines.Line2D at 0x7d1b47cb4790>]"
      ]
     },
     "metadata": {},
     "execution_count": 107
    },
    {
     "output_type": "display_data",
     "data": {
      "text/plain": [
       "<Figure size 640x480 with 1 Axes>"
      ],
      "image/png": "[encoded data removed]"
     },
     "metadata": {}
    }
   ]
  },
  {
   "cell_type": "code",
   "source": [
    "plt.plot(test.index[:len(prophet_predictions)], prophet_predictions, label='Prophet', color='red')\n",
    "plt.plot(test.index[:len(prophet_predictions)], test['Close_Open'], label='actual', color='blue')\n",
    "plt.title('Stock Price Prediction - Close_Open')\n",
    "plt.xlabel('Date')\n",
    "plt.ylabel('Close_Open')\n",
    "plt.legend()\n",
    "plt.show()"
   ],
   "metadata": {
    "colab": {
     "base_uri": "https://localhost:8080/",
     "height": 472
    },
    "id": "fesFzrmB24BV",
    "outputId": "27f7e4d9-9b20-4398-a179-a8a88f548a66"
   },
   "execution_count": null,
   "outputs": [
    {
     "output_type": "display_data",
     "data": {
      "text/plain": [
       "<Figure size 640x480 with 1 Axes>"
      ],
      "image/png": "[encoded data removed]"
     },
     "metadata": {}
    }
   ]
  },
  {
   "cell_type": "code",
   "source": [],
   "metadata": {
    "id": "8gyZaxuoTuoO"
   },
   "execution_count": null,
   "outputs": []
  }
 ]
}
